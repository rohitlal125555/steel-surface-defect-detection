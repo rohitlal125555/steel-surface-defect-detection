{
 "cells": [
  {
   "cell_type": "markdown",
   "metadata": {
    "id": "aO-7t1Y7-hV4"
   },
   "source": [
    "# Mosaic ML CIFAR 100 performance"
   ]
  },
  {
   "cell_type": "code",
   "execution_count": null,
   "metadata": {
    "colab": {
     "base_uri": "https://localhost:8080/",
     "height": 373
    },
    "executionInfo": {
     "elapsed": 387,
     "status": "error",
     "timestamp": 1646646500425,
     "user": {
      "displayName": "Rohit Lal",
      "photoUrl": "https://lh3.googleusercontent.com/a-/AOh14GjPP0CIsed5ULxQ3KSfz7pbe_dRQAL73QYKEXpf4Q=s64",
      "userId": "05637475839953982977"
     },
     "user_tz": -330
    },
    "id": "3kOB3EOozOW3",
    "outputId": "3483410c-1ec3-4e97-a986-ae4f19c0bf32"
   },
   "outputs": [],
   "source": [
    "import os\n",
    "import numpy as np\n",
    "import torch\n",
    "import torch.nn as nn\n",
    "import torch.nn.functional as F\n",
    "import torch.optim as optim\n",
    "from torch.utils.data import random_split\n",
    "import matplotlib.pyplot as plt\n",
    "import seaborn as sns\n",
    "from torch.optim.lr_scheduler import StepLR\n",
    "from tqdm import tqdm\n",
    "from torchsummary import summary\n",
    "from torchvision import datasets, transforms\n",
    "# from torchcontrib.optim import SWA\n",
    "\n",
    "import composer\n",
    "from composer import DataloaderSpec\n",
    "from composer import Trainer\n",
    "from composer.algorithms import LabelSmoothing, CutOut, MixUp, BlurPool, scale_schedule, SWA, SAM , SqueezeExcite, ScaleSchedule \n",
    "from composer.trainer.devices.device_gpu import DeviceGPU\n",
    "\n",
    "import shutil\n",
    "# from pytorch_lightning.callbacks.early_stopping import EarlyStopping\n",
    "# from pytorch_lightning.callbacks import ModelCheckpoint"
   ]
  },
  {
   "cell_type": "code",
   "execution_count": null,
   "metadata": {
    "colab": {
     "base_uri": "https://localhost:8080/"
    },
    "executionInfo": {
     "elapsed": 3102,
     "status": "ok",
     "timestamp": 1646646540462,
     "user": {
      "displayName": "Rohit Lal",
      "photoUrl": "https://lh3.googleusercontent.com/a-/AOh14GjPP0CIsed5ULxQ3KSfz7pbe_dRQAL73QYKEXpf4Q=s64",
      "userId": "05637475839953982977"
     },
     "user_tz": -330
    },
    "id": "eCRyQPtd08fN",
    "outputId": "5a6eabb3-a3d7-4067-d86f-5f74d5b46ad7"
   },
   "outputs": [],
   "source": [
    "# !pip install pytorch-lightning\n",
    "# !pip install mosaicml\n",
    "# !pip uninstall pillow\n",
    "# !pip install pillow-simd\n",
    "# !pip install torchcontrib"
   ]
  },
  {
   "cell_type": "code",
   "execution_count": null,
   "metadata": {
    "executionInfo": {
     "elapsed": 15,
     "status": "aborted",
     "timestamp": 1646646382191,
     "user": {
      "displayName": "Rohit Lal",
      "photoUrl": "https://lh3.googleusercontent.com/a-/AOh14GjPP0CIsed5ULxQ3KSfz7pbe_dRQAL73QYKEXpf4Q=s64",
      "userId": "05637475839953982977"
     },
     "user_tz": -330
    },
    "id": "IU3PZK4EB_Sh"
   },
   "outputs": [],
   "source": [
    "# !nvidia-smi"
   ]
  },
  {
   "cell_type": "code",
   "execution_count": null,
   "metadata": {
    "executionInfo": {
     "elapsed": 15,
     "status": "aborted",
     "timestamp": 1646646382191,
     "user": {
      "displayName": "Rohit Lal",
      "photoUrl": "https://lh3.googleusercontent.com/a-/AOh14GjPP0CIsed5ULxQ3KSfz7pbe_dRQAL73QYKEXpf4Q=s64",
      "userId": "05637475839953982977"
     },
     "user_tz": -330
    },
    "id": "iyvVBtah0ZsX"
   },
   "outputs": [],
   "source": [
    "from google.colab import drive \n",
    "drive.mount('/content/drive/')\n",
    "\n",
    "# !ls \"/content/drive/MyDrive/Colab Notebooks/Masters\""
   ]
  },
  {
   "cell_type": "code",
   "execution_count": null,
   "metadata": {
    "executionInfo": {
     "elapsed": 15,
     "status": "aborted",
     "timestamp": 1646646382191,
     "user": {
      "displayName": "Rohit Lal",
      "photoUrl": "https://lh3.googleusercontent.com/a-/AOh14GjPP0CIsed5ULxQ3KSfz7pbe_dRQAL73QYKEXpf4Q=s64",
      "userId": "05637475839953982977"
     },
     "user_tz": -330
    },
    "id": "NiLDna9YuLUC"
   },
   "outputs": [],
   "source": [
    "# base_dir = '/media/ext_mount/Project/BuildingCNN'\n",
    "base_dir = '/content/drive/MyDrive/Colab Notebooks/Masters'\n",
    "\n",
    "raw_dataset_directory = f\"{base_dir}/Dataset/GC10-DET/images\"\n",
    "dataset_directory = f'{base_dir}/Dataset/GC10-DET/dataset'\n",
    "\n",
    "train_set_directory = f'{dataset_directory}/train'\n",
    "test_set_directory = f'{dataset_directory}/test'\n",
    "\n",
    "model_directory = f'{base_dir}/models/mosaic_cnn_600K'"
   ]
  },
  {
   "cell_type": "code",
   "execution_count": null,
   "metadata": {
    "executionInfo": {
     "elapsed": 16,
     "status": "aborted",
     "timestamp": 1646646382192,
     "user": {
      "displayName": "Rohit Lal",
      "photoUrl": "https://lh3.googleusercontent.com/a-/AOh14GjPP0CIsed5ULxQ3KSfz7pbe_dRQAL73QYKEXpf4Q=s64",
      "userId": "05637475839953982977"
     },
     "user_tz": -330
    },
    "id": "hd3rBrLnyxfJ"
   },
   "outputs": [],
   "source": [
    "# create model directory if not exists\n",
    "if not os.path.isdir(model_directory):\n",
    "    os.makedirs(model_directory)"
   ]
  },
  {
   "cell_type": "code",
   "execution_count": null,
   "metadata": {
    "executionInfo": {
     "elapsed": 16,
     "status": "aborted",
     "timestamp": 1646646382192,
     "user": {
      "displayName": "Rohit Lal",
      "photoUrl": "https://lh3.googleusercontent.com/a-/AOh14GjPP0CIsed5ULxQ3KSfz7pbe_dRQAL73QYKEXpf4Q=s64",
      "userId": "05637475839953982977"
     },
     "user_tz": -330
    },
    "id": "Xs2b5EI_5E8I"
   },
   "outputs": [],
   "source": []
  },
  {
   "cell_type": "markdown",
   "metadata": {
    "id": "7uXL1X6IxgcR"
   },
   "source": [
    "\n",
    "#### PYTORCH DATASET LOADER\n",
    "\n"
   ]
  },
  {
   "cell_type": "code",
   "execution_count": null,
   "metadata": {
    "executionInfo": {
     "elapsed": 15,
     "status": "aborted",
     "timestamp": 1646646382192,
     "user": {
      "displayName": "Rohit Lal",
      "photoUrl": "https://lh3.googleusercontent.com/a-/AOh14GjPP0CIsed5ULxQ3KSfz7pbe_dRQAL73QYKEXpf4Q=s64",
      "userId": "05637475839953982977"
     },
     "user_tz": -330
    },
    "id": "-U4Bv9_Gu3Yv"
   },
   "outputs": [],
   "source": [
    "use_cuda = True\n",
    "batch_size = 32\n",
    "\n",
    "image_size = (32, 32)\n",
    "epochs = 100"
   ]
  },
  {
   "cell_type": "code",
   "execution_count": null,
   "metadata": {
    "executionInfo": {
     "elapsed": 15,
     "status": "aborted",
     "timestamp": 1646646382192,
     "user": {
      "displayName": "Rohit Lal",
      "photoUrl": "https://lh3.googleusercontent.com/a-/AOh14GjPP0CIsed5ULxQ3KSfz7pbe_dRQAL73QYKEXpf4Q=s64",
      "userId": "05637475839953982977"
     },
     "user_tz": -330
    },
    "id": "Zo8CIxBtxj1B"
   },
   "outputs": [],
   "source": [
    "transforms = transforms.Compose([\n",
    "                                transforms.ToTensor(),\n",
    "                                transforms.Normalize((0.2860,), (0.3530,)),\n",
    "                                transforms.RandomRotation(degrees = 10),\n",
    "                                # transforms.RandomHorizontalFlip(p=0.5)\n",
    "                                # transforms.ColorJitter(brightness=(0.3,0.6), contrast = (0.3,0.6)),\n",
    "                                # transforms.RandomAffine(degrees=(30, 70), translate=(0.1, 0.3)),\n",
    "                                # transforms.RandomPerspective(distortion_scale=0.5, p=0.5)\n",
    "                                ])\n",
    "\n",
    "# train = datasets.CIFAR10('./data10', train=True, download=True, transform=transforms)\n",
    "# test = datasets.CIFAR10('./data10', train=False, download=True, transform=transforms)\n",
    "\n",
    "train_ds_all = datasets.ImageFolder(train_set_directory, transform=transforms_obj)\n",
    "\n",
    "train_set_count = int(0.8 * len(train_ds_all))\n",
    "test_set_count = len(train_ds_all) - train_set_count\n",
    "\n",
    "train_ds, val_ds = random_split(train_ds_all, [train_set_count, test_set_count], generator=torch.Generator().manual_seed(555))\n",
    "\n",
    "test_ds = datasets.ImageFolder(test_set_directory, transform=transforms_obj)  "
   ]
  },
  {
   "cell_type": "code",
   "execution_count": null,
   "metadata": {
    "executionInfo": {
     "elapsed": 16,
     "status": "aborted",
     "timestamp": 1646646382193,
     "user": {
      "displayName": "Rohit Lal",
      "photoUrl": "https://lh3.googleusercontent.com/a-/AOh14GjPP0CIsed5ULxQ3KSfz7pbe_dRQAL73QYKEXpf4Q=s64",
      "userId": "05637475839953982977"
     },
     "user_tz": -330
    },
    "id": "Cb1d4aERCWgV"
   },
   "outputs": [],
   "source": []
  },
  {
   "cell_type": "code",
   "execution_count": null,
   "metadata": {
    "executionInfo": {
     "elapsed": 16,
     "status": "aborted",
     "timestamp": 1646646382193,
     "user": {
      "displayName": "Rohit Lal",
      "photoUrl": "https://lh3.googleusercontent.com/a-/AOh14GjPP0CIsed5ULxQ3KSfz7pbe_dRQAL73QYKEXpf4Q=s64",
      "userId": "05637475839953982977"
     },
     "user_tz": -330
    },
    "id": "guI7Fviouz0f"
   },
   "outputs": [],
   "source": [
    "dataloader_args = dict(shuffle=True, batch_size=batch_size, num_workers=2, pin_memory=True) if use_cuda else dict(shuffle=True, batch_size=64)\n",
    "train_loader = torch.utils.data.DataLoader(train_ds, **dataloader_args)\n",
    "val_loader = torch.utils.data.DataLoader(val_ds, **dataloader_args)\n",
    "test_loader = torch.utils.data.DataLoader(test_ds, **dataloader_args)"
   ]
  },
  {
   "cell_type": "markdown",
   "metadata": {
    "id": "M6GhKBOkrpdq"
   },
   "source": [
    "#### MOSAIC ML DATASET LOADER"
   ]
  },
  {
   "cell_type": "code",
   "execution_count": null,
   "metadata": {
    "executionInfo": {
     "elapsed": 16,
     "status": "aborted",
     "timestamp": 1646646382193,
     "user": {
      "displayName": "Rohit Lal",
      "photoUrl": "https://lh3.googleusercontent.com/a-/AOh14GjPP0CIsed5ULxQ3KSfz7pbe_dRQAL73QYKEXpf4Q=s64",
      "userId": "05637475839953982977"
     },
     "user_tz": -330
    },
    "id": "Q3BjmsuCP-1G"
   },
   "outputs": [],
   "source": [
    "train_dataloader_spec = DataloaderSpec(\n",
    "    dataset=train_ds,\n",
    "    drop_last=False,\n",
    "    shuffle=True,\n",
    ")\n",
    "\n",
    "val_dataloader_spec = DataloaderSpec(\n",
    "    dataset=val_ds,\n",
    "    drop_last=False,\n",
    "    shuffle=True,\n",
    ")\n",
    "\n",
    "test_dataloader_spec = DataloaderSpec(\n",
    "    dataset=test_ds,\n",
    "    drop_last=False,\n",
    "    shuffle=False,\n",
    ")"
   ]
  },
  {
   "cell_type": "markdown",
   "metadata": {
    "id": "-0ngms8SrZGX"
   },
   "source": [
    "#### CIFAR 10  - 600 K parameters"
   ]
  },
  {
   "cell_type": "markdown",
   "metadata": {
    "id": "USrR78CQBkY5"
   },
   "source": [
    "##### CIFAR 10 600K DEPTHWISE"
   ]
  },
  {
   "cell_type": "code",
   "execution_count": null,
   "metadata": {
    "executionInfo": {
     "elapsed": 17,
     "status": "aborted",
     "timestamp": 1646646382194,
     "user": {
      "displayName": "Rohit Lal",
      "photoUrl": "https://lh3.googleusercontent.com/a-/AOh14GjPP0CIsed5ULxQ3KSfz7pbe_dRQAL73QYKEXpf4Q=s64",
      "userId": "05637475839953982977"
     },
     "user_tz": -330
    },
    "id": "KYWyeG4oMdzK"
   },
   "outputs": [],
   "source": [
    "model_type = '600k_depthwise'"
   ]
  },
  {
   "cell_type": "code",
   "execution_count": null,
   "metadata": {
    "executionInfo": {
     "elapsed": 17,
     "status": "aborted",
     "timestamp": 1646646382194,
     "user": {
      "displayName": "Rohit Lal",
      "photoUrl": "https://lh3.googleusercontent.com/a-/AOh14GjPP0CIsed5ULxQ3KSfz7pbe_dRQAL73QYKEXpf4Q=s64",
      "userId": "05637475839953982977"
     },
     "user_tz": -330
    },
    "id": "KYcI5gMCDB9A"
   },
   "outputs": [],
   "source": [
    "class SimpleModel(composer.models.MosaicClassifier):\n",
    "    def __init__(self, num_classes: int):\n",
    "        module = nn.Sequential(\n",
    "    ################################## 1 ST CONVOLUTIONAL BLOCK #####################################  \n",
    "            nn.Conv2d(in_channels = 3,out_channels = 16, dilation  = 1,padding = 1, kernel_size= (3,3)),                     # in 32, out 32, RF 3\n",
    "            nn.ReLU(),\n",
    "            nn.BatchNorm2d(16),                                                                               #26x26 /8 \n",
    "            nn.Conv2d(in_channels = 16,out_channels = 32, dilation  = 1,padding = 1, kernel_size= (3,3)),                     # in 32, out 32, RF 3\n",
    "            nn.ReLU(),\n",
    "            nn.BatchNorm2d(32),\n",
    "            nn.Dropout(0.03),\n",
    "            # nn.MaxPool2d(2, 2),\n",
    "            nn.Conv2d(in_channels = 32,out_channels = 32,groups = 32, dilation  = 1,padding = 1,kernel_size= (3,3)),\n",
    "            nn.Conv2d(in_channels = 32,out_channels = 64, dilation = 1,padding = 0,kernel_size= (1,1)), # 8, 8, 3  \n",
    "            nn.ReLU(),\n",
    "            nn.BatchNorm2d(64)  ,          \n",
    "            nn.Conv2d(in_channels = 64,out_channels = 64, dilation  = 1,padding = 1, kernel_size= (3,3)),                     \n",
    "            nn.ReLU(),\n",
    "            nn.BatchNorm2d(64),\n",
    "            nn.Dropout(0.03),\n",
    "            nn.MaxPool2d(2, 2),                                                                                             # in 32, out 16, RF 3\n",
    "\n",
    "            nn.Conv2d(in_channels = 64,out_channels = 64,groups = 64, dilation  = 1,padding = 1,kernel_size= (3,3)),        \n",
    "            nn.Conv2d(in_channels = 64,out_channels = 96, dilation = 1,padding = 0,kernel_size= (1,1)), # 8, 8, 3           \n",
    "            nn.ReLU(),\n",
    "            nn.BatchNorm2d(96),\n",
    "            nn.Conv2d(in_channels = 96,out_channels = 96, dilation  = 2,padding = 2, kernel_size= (3,3)),                     \n",
    "            nn.ReLU(),\n",
    "            nn.BatchNorm2d(96),\n",
    "            nn.Dropout(0.07),\n",
    "            # nn.MaxPool2d(2, 2),\n",
    "            nn.Conv2d(in_channels = 96,out_channels = 96, groups = 96, dilation  = 1,padding = 1,kernel_size= (3,3)),    \n",
    "            nn.Conv2d(in_channels = 96,out_channels = 128, dilation  = 1,padding = 0,kernel_size= (1,1)),                  \n",
    "            nn.ReLU(),\n",
    "            nn.BatchNorm2d(128),\n",
    "            nn.Conv2d(in_channels = 128,out_channels = 128, groups = 128, dilation  = 1,padding = 1,kernel_size= (3,3)),    \n",
    "            nn.Conv2d(in_channels = 128,out_channels = 192, dilation  = 1,padding = 0,kernel_size= (1,1)),                  \n",
    "            nn.ReLU(),\n",
    "            nn.BatchNorm2d(192),\n",
    "            nn.Dropout(0.05),\n",
    "            nn.MaxPool2d(2, 2),                                                                                              # in 16, out 8, RF 3\n",
    "            \n",
    "            nn.Conv2d(in_channels = 192,out_channels = 192, groups = 192, dilation  = 1,padding = 1,kernel_size= (3,3)),    \n",
    "            nn.Conv2d(in_channels = 192,out_channels = 260, dilation  = 1,padding = 0,kernel_size= (1,1)),                  \n",
    "            nn.ReLU(),\n",
    "            nn.BatchNorm2d(260),            \n",
    "            nn.Conv2d(in_channels = 260,out_channels = 260, groups = 260, dilation  = 1,padding = 1,kernel_size= (3,3)),    \n",
    "            nn.Conv2d(in_channels = 260,out_channels = 320, dilation  = 1,padding = 0,kernel_size= (1,1)),                  \n",
    "            nn.ReLU(),\n",
    "            nn.BatchNorm2d(320),\n",
    "            nn.Dropout(0.02),\n",
    "            nn.MaxPool2d(2, 2), \n",
    "            \n",
    "            \n",
    "            nn.Conv2d(in_channels = 320,out_channels = 320, groups = 320, dilation  = 1,padding = 1,kernel_size= (3,3)),    \n",
    "            nn.Conv2d(in_channels = 320,out_channels = 370, dilation  = 1,padding = 0,kernel_size= (1,1)),                  \n",
    "            nn.ReLU(),\n",
    "            nn.BatchNorm2d(370),                       \n",
    "            # nn.Dropout(0.02),\n",
    "             nn.Conv2d(in_channels = 370,out_channels = 370, groups = 370, dilation  = 1,padding = 1,kernel_size= (3,3)),    \n",
    "            nn.Conv2d(in_channels = 370,out_channels = 415, dilation  = 1,padding = 0,kernel_size= (1,1)),                  \n",
    "            nn.ReLU(),\n",
    "            nn.BatchNorm2d(415),\n",
    "\n",
    "            nn.AvgPool2d(kernel_size=4),                                                                      #1x1/15\n",
    "            nn.Flatten(),\n",
    "            nn.Linear(415,10)\n",
    "        )\n",
    "        self.num_classes = num_classes\n",
    "        super().__init__(module=module)"
   ]
  },
  {
   "cell_type": "code",
   "execution_count": null,
   "metadata": {
    "executionInfo": {
     "elapsed": 17,
     "status": "aborted",
     "timestamp": 1646646382194,
     "user": {
      "displayName": "Rohit Lal",
      "photoUrl": "https://lh3.googleusercontent.com/a-/AOh14GjPP0CIsed5ULxQ3KSfz7pbe_dRQAL73QYKEXpf4Q=s64",
      "userId": "05637475839953982977"
     },
     "user_tz": -330
    },
    "id": "HLIjwbdkr-21"
   },
   "outputs": [],
   "source": [
    "my_model = SimpleModel(num_classes= 10).to('cuda')\n",
    "summary(my_model,input_size = (1,3,32,32))"
   ]
  },
  {
   "cell_type": "markdown",
   "metadata": {
    "id": "xmobKr89S2KM"
   },
   "source": [
    "### Callbacks"
   ]
  },
  {
   "cell_type": "code",
   "execution_count": null,
   "metadata": {
    "executionInfo": {
     "elapsed": 17,
     "status": "aborted",
     "timestamp": 1646646382194,
     "user": {
      "displayName": "Rohit Lal",
      "photoUrl": "https://lh3.googleusercontent.com/a-/AOh14GjPP0CIsed5ULxQ3KSfz7pbe_dRQAL73QYKEXpf4Q=s64",
      "userId": "05637475839953982977"
     },
     "user_tz": -330
    },
    "id": "dRWE8exVXjiP"
   },
   "outputs": [],
   "source": [
    "class EarlyStopping(composer.Callback):\n",
    "    \"\"\"Early stops the training if validation loss doesn't improve after a given patience.\"\"\"\n",
    "    def __init__(self, patience=7, verbose=False, delta=0, path='checkpoint.pt', trace_func=print):\n",
    "        \"\"\"\n",
    "        Args:\n",
    "            patience (int): How long to wait after last time validation loss improved.\n",
    "                            Default: 7\n",
    "            verbose (bool): If True, prints a message for each validation loss improvement. \n",
    "                            Default: False\n",
    "            delta (float): Minimum change in the monitored quantity to qualify as an improvement.\n",
    "                            Default: 0\n",
    "            path (str): Path for the checkpoint to be saved to.\n",
    "                            Default: 'checkpoint.pt'\n",
    "            trace_func (function): trace print function.\n",
    "                            Default: print            \n",
    "        \"\"\"\n",
    "        self.patience = patience\n",
    "        self.verbose = verbose\n",
    "        self.counter = 0\n",
    "        self.best_score = None\n",
    "        self.early_stop = False\n",
    "        self.val_acc_max = 0\n",
    "        self.delta = delta\n",
    "        self.path = path\n",
    "        self.trace_func = trace_func\n",
    "            \n",
    "    def eval_end(self, state: composer.State, logger: composer.Logger):\n",
    "        \n",
    "        model, eval_dataloader = state.model, state.eval_dataloader\n",
    "        \n",
    "        val_acc = self.get_val_acc(eval_dataloader, model, 'cuda')\n",
    "        \n",
    "        score = val_acc\n",
    "        \n",
    "        if self.best_score is None:\n",
    "            self.best_score = score\n",
    "            self.save_checkpoint(val_acc, model)\n",
    "        elif score < self.best_score + self.delta:\n",
    "            self.counter += 1\n",
    "            self.trace_func(f'Validation accuracy did not improve from: {self.val_acc_max}. EarlyStopping counter: {self.counter} out of {self.patience}')\n",
    "            if self.counter >= self.patience:\n",
    "                self.early_stop = True\n",
    "        else:\n",
    "            self.best_score = score\n",
    "            self.save_checkpoint(val_acc, model)\n",
    "            self.counter = 0\n",
    "    \n",
    "    def get_val_acc(self, test_loader, model: nn.Module, device):\n",
    "        num_correct = 0\n",
    "        total = 0\n",
    "        model.eval()\n",
    "\n",
    "        with torch.no_grad():\n",
    "            for data, labels in test_loader:\n",
    "                # data, labels = test_loader\n",
    "                data = data.to(device=device)\n",
    "                labels = labels.to(device=device)\n",
    "\n",
    "                targets = model((data, labels))\n",
    "                predictions = torch.argmax(targets, dim=1)\n",
    "\n",
    "                num_correct += (predictions == labels).sum()\n",
    "                total += labels.size(0)\n",
    "\n",
    "            val_accuracy = float(num_correct)/float(total)*100\n",
    "\n",
    "        model.train()\n",
    "        \n",
    "        return val_accuracy\n",
    "    \n",
    "    def save_checkpoint(self, val_acc, model):\n",
    "        '''Saves model when validation acc increases.'''\n",
    "        if self.verbose:\n",
    "            self.trace_func(f'Validation acc increased ({self.val_acc_max:.6f} --> {val_acc:.6f}).  Saving model ...')\n",
    "        torch.save(model.state_dict(), self.path)\n",
    "        self.val_acc_max = val_acc\n",
    "\n",
    "# early_stop_callback = EarlyStopping(\n",
    "#     monitor=\"val_loss\", mode=\"min\",\n",
    "#     min_delta=0.00, patience=30, verbose=False)\n",
    "\n",
    "# checkpoint_callback = ModelCheckpoint(\n",
    "#     monitor='val_loss', mode='min',\n",
    "#     dirpath=model_directory,\n",
    "#     filename='pytorch-{}-{}'.format(\n",
    "#         model_type, '{epoch:02d}-val_loss{val/loss:.2f}'))\n",
    "\n",
    "filepath = f'{model_directory}/{model_type}_final_model.pt'\n",
    "\n",
    "early_stop_callback = EarlyStopping(\n",
    "    patience=30, verbose=True, delta=0.00, path=filepath)\n",
    "\n",
    "callbacks = [early_stop_callback] # checkpoint_callback "
   ]
  },
  {
   "cell_type": "markdown",
   "metadata": {
    "id": "qBoN4JtzRdMU"
   },
   "source": [
    "#### Algorithm Trials"
   ]
  },
  {
   "cell_type": "code",
   "execution_count": null,
   "metadata": {
    "executionInfo": {
     "elapsed": 18,
     "status": "aborted",
     "timestamp": 1646646382195,
     "user": {
      "displayName": "Rohit Lal",
      "photoUrl": "https://lh3.googleusercontent.com/a-/AOh14GjPP0CIsed5ULxQ3KSfz7pbe_dRQAL73QYKEXpf4Q=s64",
      "userId": "05637475839953982977"
     },
     "user_tz": -330
    },
    "id": "MLB1Hk9sxZV_"
   },
   "outputs": [],
   "source": [
    "# !nvidia-smi\n",
    "# torch.cuda.empty_cache()\n",
    "# torch.cuda.set_per_process_memory_fraction(1., device=None)\n",
    "# torch.cuda.device_count()"
   ]
  },
  {
   "cell_type": "code",
   "execution_count": null,
   "metadata": {
    "executionInfo": {
     "elapsed": 18,
     "status": "aborted",
     "timestamp": 1646646382195,
     "user": {
      "displayName": "Rohit Lal",
      "photoUrl": "https://lh3.googleusercontent.com/a-/AOh14GjPP0CIsed5ULxQ3KSfz7pbe_dRQAL73QYKEXpf4Q=s64",
      "userId": "05637475839953982977"
     },
     "user_tz": -330
    },
    "id": "7PmrXs8H1UOS"
   },
   "outputs": [],
   "source": [
    "\n",
    "if os.path.exists(model_directory):\n",
    "    input_val = input(f'Delete directory: {model_directory}')\n",
    "    if input_val.lower() == 'y':\n",
    "        shutil.rmtree(model_directory)\n",
    "        os.mkdir(model_directory)\n",
    "        print('Directory Truncated')\n",
    "    else:\n",
    "        print('Skipping Deletion')"
   ]
  },
  {
   "cell_type": "code",
   "execution_count": null,
   "metadata": {
    "executionInfo": {
     "elapsed": 19,
     "status": "aborted",
     "timestamp": 1646646382196,
     "user": {
      "displayName": "Rohit Lal",
      "photoUrl": "https://lh3.googleusercontent.com/a-/AOh14GjPP0CIsed5ULxQ3KSfz7pbe_dRQAL73QYKEXpf4Q=s64",
      "userId": "05637475839953982977"
     },
     "user_tz": -330
    },
    "id": "J3LbRPgCpta1"
   },
   "outputs": [],
   "source": [
    "trainer = Trainer(\n",
    "    model=my_model,\n",
    "    train_dataloader_spec=train_dataloader_spec,\n",
    "    eval_dataloader_spec=val_dataloader_spec,\n",
    "    max_epochs=epochs,\n",
    "    train_batch_size=batch_size,\n",
    "    eval_batch_size=batch_size,\n",
    "    algorithms=[\n",
    "        # CutOut(n_holes=2, length=4),\n",
    "        # LabelSmoothing(alpha=0.2),\n",
    "        # MixUp(0.5),\n",
    "        BlurPool(replace_convs=True, replace_maxpools=True, blur_first=True),\n",
    "        # ScaleSchedule(ratio=0.4),\n",
    "        SWA(swa_start=0.8),\n",
    "        # SAM(rho=0.05, epsilon=1e-12),\n",
    "        SqueezeExcite(latent_channels=0.5, min_channels=128)\n",
    "    ],\n",
    "    checkpoint_interval_unit=\"ep\",\n",
    "    checkpoint_folder=model_directory,\n",
    "    checkpoint_interval=1,\n",
    "    num_workers=2,\n",
    "    callbacks=callbacks,\n",
    ")\n",
    "trainer.device = DeviceGPU(prefetch_in_cuda_stream=True)\n",
    "trainer.fit()"
   ]
  },
  {
   "cell_type": "code",
   "execution_count": null,
   "metadata": {
    "executionInfo": {
     "elapsed": 19,
     "status": "aborted",
     "timestamp": 1646646382196,
     "user": {
      "displayName": "Rohit Lal",
      "photoUrl": "https://lh3.googleusercontent.com/a-/AOh14GjPP0CIsed5ULxQ3KSfz7pbe_dRQAL73QYKEXpf4Q=s64",
      "userId": "05637475839953982977"
     },
     "user_tz": -330
    },
    "id": "8iWmoKlvN4ji"
   },
   "outputs": [],
   "source": []
  },
  {
   "cell_type": "code",
   "execution_count": null,
   "metadata": {
    "executionInfo": {
     "elapsed": 20,
     "status": "aborted",
     "timestamp": 1646646382197,
     "user": {
      "displayName": "Rohit Lal",
      "photoUrl": "https://lh3.googleusercontent.com/a-/AOh14GjPP0CIsed5ULxQ3KSfz7pbe_dRQAL73QYKEXpf4Q=s64",
      "userId": "05637475839953982977"
     },
     "user_tz": -330
    },
    "id": "L3MMLU4XymwI"
   },
   "outputs": [],
   "source": [
    "trainer.eval(test_dataloader_spec)"
   ]
  },
  {
   "cell_type": "markdown",
   "metadata": {
    "id": "Qe7hZLbaNym2"
   },
   "source": [
    "### Test Model"
   ]
  },
  {
   "cell_type": "code",
   "execution_count": null,
   "metadata": {
    "executionInfo": {
     "elapsed": 20,
     "status": "aborted",
     "timestamp": 1646646382197,
     "user": {
      "displayName": "Rohit Lal",
      "photoUrl": "https://lh3.googleusercontent.com/a-/AOh14GjPP0CIsed5ULxQ3KSfz7pbe_dRQAL73QYKEXpf4Q=s64",
      "userId": "05637475839953982977"
     },
     "user_tz": -330
    },
    "id": "FT7RBbf3N11O"
   },
   "outputs": [],
   "source": [
    "def check_accuracy(test_loader, model: nn.Module, device):\n",
    "    num_correct = 0\n",
    "    total = 0\n",
    "    model.eval()\n",
    "\n",
    "    with torch.no_grad():\n",
    "        for data, labels in test_loader:\n",
    "            data = data.to(device=device)\n",
    "            labels = labels.to(device=device)\n",
    "\n",
    "            targets = model((data, labels))\n",
    "            predictions = torch.argmax(targets, dim=1)\n",
    "\n",
    "            num_correct += (predictions == labels).sum()\n",
    "            total += labels.size(0)\n",
    "\n",
    "        print(f\"Test Accuracy of the model: {float(num_correct)/float(total)*100:.2f}\")\n",
    "\n",
    "    model.train()\n",
    "    \n",
    "# def test_model(model, test_loader, device):\n",
    "#     model.eval()\n",
    "#     test_loss = 0\n",
    "#     correct = 0\n",
    "#     with torch.no_grad():\n",
    "#         for data, target in test_loader:\n",
    "#             data, target = data.to(device), target.to(device)\n",
    "#             output = model(data)\n",
    "#             test_loss += F.nll_loss(output, target, reduction='sum').item()  # sum up batch loss\n",
    "#             pred = output.argmax(dim=1, keepdim=True)  # get the index of the max log-probability\n",
    "#             correct += pred.eq(target.view_as(pred)).sum().item()\n",
    "\n",
    "#     test_loss /= len(test_loader.dataset)\n",
    "#     # test_losses.append(test_loss)\n",
    "\n",
    "#     print('\\nTest set: Average loss: {:.4f}, Accuracy: {}/{} ({:.2f}%)\\n'.format(\n",
    "#         test_loss, correct, len(test_loader.dataset),\n",
    "#         100. * correct / len(test_loader.dataset)))\n",
    "\n",
    "#     # test_acc.append(100. * correct / len(test_loader.dataset))\n",
    "\n",
    "# def check_accuracy(loader, model, device):\n",
    "#     num_correct = 0\n",
    "#     num_samples = 0\n",
    "#     model.eval()\n",
    "    \n",
    "#     with torch.no_grad():\n",
    "#         for x, y in loader:\n",
    "#             x = x.to(device=device)\n",
    "#             y = y.to(device=device)\n",
    "            \n",
    "#             scores = model(x)\n",
    "#             _, predictions = scores.max(1)\n",
    "#             num_correct += (predictions == y).sum()\n",
    "#             num_samples += predictions.size(0)\n",
    "        \n",
    "#         print(f'Got {num_correct} / {num_samples} with accuracy {float(num_correct)/float(num_samples)*100:.2f}') \n",
    "    \n",
    "#     model.train()"
   ]
  },
  {
   "cell_type": "code",
   "execution_count": null,
   "metadata": {
    "executionInfo": {
     "elapsed": 19,
     "status": "aborted",
     "timestamp": 1646646382197,
     "user": {
      "displayName": "Rohit Lal",
      "photoUrl": "https://lh3.googleusercontent.com/a-/AOh14GjPP0CIsed5ULxQ3KSfz7pbe_dRQAL73QYKEXpf4Q=s64",
      "userId": "05637475839953982977"
     },
     "user_tz": -330
    },
    "id": "qMwE4jQ-Oi97"
   },
   "outputs": [],
   "source": [
    "device = torch.device(\"cuda:0\" if torch.cuda.is_available() else \"cpu\")\n",
    "check_accuracy(val_loader, my_model, device)"
   ]
  },
  {
   "cell_type": "code",
   "execution_count": null,
   "metadata": {
    "executionInfo": {
     "elapsed": 19,
     "status": "aborted",
     "timestamp": 1646646382197,
     "user": {
      "displayName": "Rohit Lal",
      "photoUrl": "https://lh3.googleusercontent.com/a-/AOh14GjPP0CIsed5ULxQ3KSfz7pbe_dRQAL73QYKEXpf4Q=s64",
      "userId": "05637475839953982977"
     },
     "user_tz": -330
    },
    "id": "cejimP5bL0yX"
   },
   "outputs": [],
   "source": []
  },
  {
   "cell_type": "markdown",
   "metadata": {
    "id": "rPS_vzo4L6Fb"
   },
   "source": [
    "### Save Model"
   ]
  },
  {
   "cell_type": "code",
   "execution_count": null,
   "metadata": {
    "executionInfo": {
     "elapsed": 18,
     "status": "aborted",
     "timestamp": 1646646382198,
     "user": {
      "displayName": "Rohit Lal",
      "photoUrl": "https://lh3.googleusercontent.com/a-/AOh14GjPP0CIsed5ULxQ3KSfz7pbe_dRQAL73QYKEXpf4Q=s64",
      "userId": "05637475839953982977"
     },
     "user_tz": -330
    },
    "id": "GDkvsBbhL2So"
   },
   "outputs": [],
   "source": [
    "filepath = f'{model_directory}/{model_type}_final_model.pt'\n",
    "if not os.path.isdir(model_directory):\n",
    "    os.makedirs(model_directory)\n",
    "# filepath"
   ]
  },
  {
   "cell_type": "code",
   "execution_count": null,
   "metadata": {
    "executionInfo": {
     "elapsed": 18,
     "status": "aborted",
     "timestamp": 1646646382198,
     "user": {
      "displayName": "Rohit Lal",
      "photoUrl": "https://lh3.googleusercontent.com/a-/AOh14GjPP0CIsed5ULxQ3KSfz7pbe_dRQAL73QYKEXpf4Q=s64",
      "userId": "05637475839953982977"
     },
     "user_tz": -330
    },
    "id": "_YoTBQeuNdcr"
   },
   "outputs": [],
   "source": [
    "# torch.save(my_model.state_dict(), filepath)"
   ]
  },
  {
   "cell_type": "markdown",
   "metadata": {
    "id": "J7Rx9NeOSUNr"
   },
   "source": [
    "### Load Model"
   ]
  },
  {
   "cell_type": "code",
   "execution_count": null,
   "metadata": {
    "executionInfo": {
     "elapsed": 18,
     "status": "aborted",
     "timestamp": 1646646382198,
     "user": {
      "displayName": "Rohit Lal",
      "photoUrl": "https://lh3.googleusercontent.com/a-/AOh14GjPP0CIsed5ULxQ3KSfz7pbe_dRQAL73QYKEXpf4Q=s64",
      "userId": "05637475839953982977"
     },
     "user_tz": -330
    },
    "id": "Si6Pe_4TDhjL"
   },
   "outputs": [],
   "source": [
    "# filepath = f'{model_directory}/ep78.pt'"
   ]
  },
  {
   "cell_type": "code",
   "execution_count": null,
   "metadata": {
    "executionInfo": {
     "elapsed": 19,
     "status": "aborted",
     "timestamp": 1646646382199,
     "user": {
      "displayName": "Rohit Lal",
      "photoUrl": "https://lh3.googleusercontent.com/a-/AOh14GjPP0CIsed5ULxQ3KSfz7pbe_dRQAL73QYKEXpf4Q=s64",
      "userId": "05637475839953982977"
     },
     "user_tz": -330
    },
    "id": "WNKQxMLwG714"
   },
   "outputs": [],
   "source": [
    "# my_model.load_state_dict(torch.load(filepath))"
   ]
  },
  {
   "cell_type": "code",
   "execution_count": null,
   "metadata": {
    "executionInfo": {
     "elapsed": 19,
     "status": "aborted",
     "timestamp": 1646646382199,
     "user": {
      "displayName": "Rohit Lal",
      "photoUrl": "https://lh3.googleusercontent.com/a-/AOh14GjPP0CIsed5ULxQ3KSfz7pbe_dRQAL73QYKEXpf4Q=s64",
      "userId": "05637475839953982977"
     },
     "user_tz": -330
    },
    "id": "KCjRrzVSEs5F"
   },
   "outputs": [],
   "source": [
    "1/0"
   ]
  },
  {
   "cell_type": "markdown",
   "metadata": {
    "id": "ay7CC5MIMBvr"
   },
   "source": [
    "#### Mixup"
   ]
  },
  {
   "cell_type": "code",
   "execution_count": null,
   "metadata": {
    "executionInfo": {
     "elapsed": 19,
     "status": "aborted",
     "timestamp": 1646646382199,
     "user": {
      "displayName": "Rohit Lal",
      "photoUrl": "https://lh3.googleusercontent.com/a-/AOh14GjPP0CIsed5ULxQ3KSfz7pbe_dRQAL73QYKEXpf4Q=s64",
      "userId": "05637475839953982977"
     },
     "user_tz": -330
    },
    "id": "C4WlZjt2MA3a"
   },
   "outputs": [],
   "source": [
    "trainer = Trainer(\n",
    "    model=m,\n",
    "    train_dataloader_spec=train_dataloader_spec,\n",
    "    eval_dataloader_spec=eval_dataloader_spec,\n",
    "    max_epochs=70,\n",
    "    train_batch_size=128,\n",
    "    eval_batch_size=128,\n",
    "    checkpoint_interval=1,\n",
    "    # device =  'DeviceGPU',\n",
    "    # device ='cuda',\n",
    "    algorithms=[\n",
    "        MixUp(0.5)\n",
    "    ],\n",
    ")\n",
    "trainer.device = DeviceGPU(prefetch_in_cuda_stream= True)\n",
    "trainer.fit()"
   ]
  },
  {
   "cell_type": "markdown",
   "metadata": {
    "id": "jOxR70JcVG5f"
   },
   "source": [
    "#### Random Rotation"
   ]
  },
  {
   "cell_type": "code",
   "execution_count": null,
   "metadata": {
    "executionInfo": {
     "elapsed": 18,
     "status": "aborted",
     "timestamp": 1646646382199,
     "user": {
      "displayName": "Rohit Lal",
      "photoUrl": "https://lh3.googleusercontent.com/a-/AOh14GjPP0CIsed5ULxQ3KSfz7pbe_dRQAL73QYKEXpf4Q=s64",
      "userId": "05637475839953982977"
     },
     "user_tz": -330
    },
    "id": "V_tOeQPgVAdk"
   },
   "outputs": [],
   "source": [
    "trainer = Trainer(\n",
    "    model=m,\n",
    "    train_dataloader_spec=train_dataloader_spec,\n",
    "    eval_dataloader_spec=eval_dataloader_spec,\n",
    "    max_epochs=70,\n",
    "    train_batch_size=128,\n",
    "    eval_batch_size=128,\n",
    "    checkpoint_interval=1,\n",
    ")\n",
    "trainer.device = DeviceGPU(prefetch_in_cuda_stream= True)\n",
    "trainer.fit()"
   ]
  },
  {
   "cell_type": "markdown",
   "metadata": {
    "id": "KLZgmn_yVOiH"
   },
   "source": [
    "#### Horizontal Flip"
   ]
  },
  {
   "cell_type": "code",
   "execution_count": null,
   "metadata": {
    "executionInfo": {
     "elapsed": 391,
     "status": "aborted",
     "timestamp": 1646646382572,
     "user": {
      "displayName": "Rohit Lal",
      "photoUrl": "https://lh3.googleusercontent.com/a-/AOh14GjPP0CIsed5ULxQ3KSfz7pbe_dRQAL73QYKEXpf4Q=s64",
      "userId": "05637475839953982977"
     },
     "user_tz": -330
    },
    "id": "5npuD49IVApR"
   },
   "outputs": [],
   "source": [
    "trainer = Trainer(\n",
    "    model=m,\n",
    "    train_dataloader_spec=train_dataloader_spec,\n",
    "    eval_dataloader_spec=eval_dataloader_spec,\n",
    "    max_epochs=70,\n",
    "    train_batch_size=128,\n",
    "    eval_batch_size=128,\n",
    "    checkpoint_interval=1,\n",
    ")\n",
    "trainer.device = DeviceGPU(prefetch_in_cuda_stream= True)\n",
    "trainer.fit()"
   ]
  },
  {
   "cell_type": "markdown",
   "metadata": {
    "id": "zDO9OdTCVSdn"
   },
   "source": [
    "#### ColorJitters"
   ]
  },
  {
   "cell_type": "code",
   "execution_count": null,
   "metadata": {
    "executionInfo": {
     "elapsed": 391,
     "status": "aborted",
     "timestamp": 1646646382572,
     "user": {
      "displayName": "Rohit Lal",
      "photoUrl": "https://lh3.googleusercontent.com/a-/AOh14GjPP0CIsed5ULxQ3KSfz7pbe_dRQAL73QYKEXpf4Q=s64",
      "userId": "05637475839953982977"
     },
     "user_tz": -330
    },
    "id": "fxcdPnNdVAvc"
   },
   "outputs": [],
   "source": [
    "trainer = Trainer(\n",
    "    model=m,\n",
    "    train_dataloader_spec=train_dataloader_spec,\n",
    "    eval_dataloader_spec=eval_dataloader_spec,\n",
    "    max_epochs=70,\n",
    "    train_batch_size=128,\n",
    "    eval_batch_size=128,\n",
    "    checkpoint_interval=1,\n",
    ")\n",
    "trainer.device = DeviceGPU(prefetch_in_cuda_stream= True)\n",
    "trainer.fit()"
   ]
  },
  {
   "cell_type": "markdown",
   "metadata": {
    "id": "iL7bR7nFVUey"
   },
   "source": [
    "#### Random Affine"
   ]
  },
  {
   "cell_type": "code",
   "execution_count": null,
   "metadata": {
    "executionInfo": {
     "elapsed": 392,
     "status": "aborted",
     "timestamp": 1646646382573,
     "user": {
      "displayName": "Rohit Lal",
      "photoUrl": "https://lh3.googleusercontent.com/a-/AOh14GjPP0CIsed5ULxQ3KSfz7pbe_dRQAL73QYKEXpf4Q=s64",
      "userId": "05637475839953982977"
     },
     "user_tz": -330
    },
    "id": "nk-maq6aVAy9"
   },
   "outputs": [],
   "source": [
    "trainer = Trainer(\n",
    "    model=m,\n",
    "    train_dataloader_spec=train_dataloader_spec,\n",
    "    eval_dataloader_spec=eval_dataloader_spec,\n",
    "    max_epochs=70,\n",
    "    train_batch_size=128,\n",
    "    eval_batch_size=128,\n",
    "    checkpoint_interval=1,\n",
    ")\n",
    "trainer.device = DeviceGPU(prefetch_in_cuda_stream= True)\n",
    "trainer.fit()"
   ]
  },
  {
   "cell_type": "markdown",
   "metadata": {
    "id": "7A9ZRkeyVXyp"
   },
   "source": [
    "#### Random Perspective"
   ]
  },
  {
   "cell_type": "code",
   "execution_count": null,
   "metadata": {
    "executionInfo": {
     "elapsed": 392,
     "status": "aborted",
     "timestamp": 1646646382573,
     "user": {
      "displayName": "Rohit Lal",
      "photoUrl": "https://lh3.googleusercontent.com/a-/AOh14GjPP0CIsed5ULxQ3KSfz7pbe_dRQAL73QYKEXpf4Q=s64",
      "userId": "05637475839953982977"
     },
     "user_tz": -330
    },
    "id": "XL2xNlJTVA2Q"
   },
   "outputs": [],
   "source": [
    "trainer = Trainer(\n",
    "    model=m,\n",
    "    train_dataloader_spec=train_dataloader_spec,\n",
    "    eval_dataloader_spec=eval_dataloader_spec,\n",
    "    max_epochs=70,\n",
    "    train_batch_size=128,\n",
    "    eval_batch_size=128,\n",
    "    checkpoint_interval=1,\n",
    ")\n",
    "trainer.device = DeviceGPU(prefetch_in_cuda_stream= True)\n",
    "trainer.fit()"
   ]
  }
 ],
 "metadata": {
  "accelerator": "GPU",
  "colab": {
   "collapsed_sections": [],
   "name": "Mosaic_ML_trials.ipynb",
   "provenance": []
  },
  "kernelspec": {
   "display_name": "Python 3",
   "language": "python",
   "name": "python3"
  },
  "language_info": {
   "codemirror_mode": {
    "name": "ipython",
    "version": 3
   },
   "file_extension": ".py",
   "mimetype": "text/x-python",
   "name": "python",
   "nbconvert_exporter": "python",
   "pygments_lexer": "ipython3",
   "version": "3.8.8"
  }
 },
 "nbformat": 4,
 "nbformat_minor": 1
}
