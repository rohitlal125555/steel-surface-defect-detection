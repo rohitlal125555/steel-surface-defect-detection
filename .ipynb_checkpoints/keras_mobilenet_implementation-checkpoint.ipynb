{
 "cells": [
  {
   "cell_type": "code",
   "execution_count": null,
   "id": "990fab5f",
   "metadata": {
    "executionInfo": {
     "elapsed": 3820,
     "status": "ok",
     "timestamp": 1646593529827,
     "user": {
      "displayName": "Rohit Lal",
      "photoUrl": "https://lh3.googleusercontent.com/a-/AOh14GjPP0CIsed5ULxQ3KSfz7pbe_dRQAL73QYKEXpf4Q=s64",
      "userId": "05637475839953982977"
     },
     "user_tz": -330
    },
    "id": "990fab5f"
   },
   "outputs": [],
   "source": [
    "# from numpy import loadtxt\n",
    "from tensorflow.keras.models import Sequential\n",
    "from tensorflow.keras.applications import MobileNetV2\n",
    "from tensorflow.keras.layers import Rescaling, Dense, Conv2D, BatchNormalization, Dropout, MaxPooling2D, ReLU, AveragePooling2D, Flatten, ZeroPadding2D, DepthwiseConv2D, SeparableConv2D\n",
    "from tensorflow.keras import losses, optimizers\n",
    "from tensorflow.keras.preprocessing.image import ImageDataGenerator\n",
    "from tensorflow.keras.callbacks import ModelCheckpoint, LearningRateScheduler, ReduceLROnPlateau, EarlyStopping\n",
    "from tensorflow.keras.models import Sequential, save_model, load_model\n",
    "\n",
    "from sklearn.metrics import classification_report,confusion_matrix\n",
    "import tensorflow as tf\n",
    "\n",
    "import matplotlib.pyplot as plt\n",
    "import os\n",
    "import numpy as np\n",
    "\n",
    "from functools import partial\n",
    "from albumentations import (\n",
    "    Compose, RandomBrightness, JpegCompression, HueSaturationValue, RandomContrast, HorizontalFlip,\n",
    "    Rotate, Cutout, VerticalFlip, ShiftScaleRotate, RandomCrop\n",
    ")"
   ]
  },
  {
   "cell_type": "code",
   "execution_count": null,
   "id": "ufrHrpDTjlS6",
   "metadata": {
    "executionInfo": {
     "elapsed": 15,
     "status": "ok",
     "timestamp": 1646593529827,
     "user": {
      "displayName": "Rohit Lal",
      "photoUrl": "https://lh3.googleusercontent.com/a-/AOh14GjPP0CIsed5ULxQ3KSfz7pbe_dRQAL73QYKEXpf4Q=s64",
      "userId": "05637475839953982977"
     },
     "user_tz": -330
    },
    "id": "ufrHrpDTjlS6"
   },
   "outputs": [],
   "source": [
    "# !pip install -q -U albumentations\n",
    "# !echo \"$(pip freeze | grep albumentations) is successfully installed\"\n",
    "\n",
    "# Open CV Installation\n",
    "# ! pip uninstall opencv-python-headless\n",
    "# ! pip install opencv-python-headless==4.1.2.30"
   ]
  },
  {
   "cell_type": "code",
   "execution_count": null,
   "id": "73bdbb05",
   "metadata": {
    "colab": {
     "base_uri": "https://localhost:8080/",
     "height": 35
    },
    "executionInfo": {
     "elapsed": 15,
     "status": "ok",
     "timestamp": 1646593529828,
     "user": {
      "displayName": "Rohit Lal",
      "photoUrl": "https://lh3.googleusercontent.com/a-/AOh14GjPP0CIsed5ULxQ3KSfz7pbe_dRQAL73QYKEXpf4Q=s64",
      "userId": "05637475839953982977"
     },
     "user_tz": -330
    },
    "id": "73bdbb05",
    "outputId": "53c6adfc-9542-4b0c-8737-4cc2975e392a"
   },
   "outputs": [],
   "source": [
    "tf.__version__"
   ]
  },
  {
   "cell_type": "code",
   "execution_count": null,
   "id": "f0f1b6ee",
   "metadata": {
    "executionInfo": {
     "elapsed": 13,
     "status": "ok",
     "timestamp": 1646593529828,
     "user": {
      "displayName": "Rohit Lal",
      "photoUrl": "https://lh3.googleusercontent.com/a-/AOh14GjPP0CIsed5ULxQ3KSfz7pbe_dRQAL73QYKEXpf4Q=s64",
      "userId": "05637475839953982977"
     },
     "user_tz": -330
    },
    "id": "f0f1b6ee"
   },
   "outputs": [],
   "source": [
    "image_size = (224, 224)\n",
    "batch_size = 50\n",
    "epochs = 200"
   ]
  },
  {
   "cell_type": "code",
   "execution_count": null,
   "id": "ZzGCAl2yzgzs",
   "metadata": {
    "colab": {
     "base_uri": "https://localhost:8080/"
    },
    "executionInfo": {
     "elapsed": 3509,
     "status": "ok",
     "timestamp": 1646593533324,
     "user": {
      "displayName": "Rohit Lal",
      "photoUrl": "https://lh3.googleusercontent.com/a-/AOh14GjPP0CIsed5ULxQ3KSfz7pbe_dRQAL73QYKEXpf4Q=s64",
      "userId": "05637475839953982977"
     },
     "user_tz": -330
    },
    "id": "ZzGCAl2yzgzs",
    "outputId": "da41be27-6df7-4955-e269-d96650c3acc2"
   },
   "outputs": [],
   "source": [
    "from google.colab import drive \n",
    "drive.mount('/content/drive/')\n",
    "\n",
    "# !ls \"/content/drive/MyDrive/Colab Notebooks/Masters\""
   ]
  },
  {
   "cell_type": "code",
   "execution_count": null,
   "id": "HGUEFyGHzd-o",
   "metadata": {
    "executionInfo": {
     "elapsed": 8,
     "status": "ok",
     "timestamp": 1646593533324,
     "user": {
      "displayName": "Rohit Lal",
      "photoUrl": "https://lh3.googleusercontent.com/a-/AOh14GjPP0CIsed5ULxQ3KSfz7pbe_dRQAL73QYKEXpf4Q=s64",
      "userId": "05637475839953982977"
     },
     "user_tz": -330
    },
    "id": "HGUEFyGHzd-o"
   },
   "outputs": [],
   "source": [
    "# base_dir = '/media/ext_mount/Project/BuildingCNN'\n",
    "base_dir = '/content/drive/MyDrive/Colab Notebooks/Masters'\n",
    "\n",
    "raw_dataset_directory = f\"{base_dir}/Dataset/GC10-DET/images\"\n",
    "dataset_directory = f'{base_dir}/Dataset/GC10-DET/dataset'\n",
    "\n",
    "train_set_directory = f'{dataset_directory}/train'\n",
    "test_set_directory = f'{dataset_directory}/test'\n",
    "\n",
    "model_directory = f'{base_dir}/models/mobilenet'"
   ]
  },
  {
   "cell_type": "code",
   "execution_count": null,
   "id": "xme06Eb6p-lr",
   "metadata": {
    "executionInfo": {
     "elapsed": 8,
     "status": "ok",
     "timestamp": 1646593533325,
     "user": {
      "displayName": "Rohit Lal",
      "photoUrl": "https://lh3.googleusercontent.com/a-/AOh14GjPP0CIsed5ULxQ3KSfz7pbe_dRQAL73QYKEXpf4Q=s64",
      "userId": "05637475839953982977"
     },
     "user_tz": -330
    },
    "id": "xme06Eb6p-lr"
   },
   "outputs": [],
   "source": []
  },
  {
   "cell_type": "markdown",
   "id": "PeFt5enOErx_",
   "metadata": {
    "id": "PeFt5enOErx_"
   },
   "source": [
    "**Preparing Dataset**"
   ]
  },
  {
   "cell_type": "code",
   "execution_count": null,
   "id": "4qnvUOQ5ozoA",
   "metadata": {
    "executionInfo": {
     "elapsed": 8,
     "status": "ok",
     "timestamp": 1646593533325,
     "user": {
      "displayName": "Rohit Lal",
      "photoUrl": "https://lh3.googleusercontent.com/a-/AOh14GjPP0CIsed5ULxQ3KSfz7pbe_dRQAL73QYKEXpf4Q=s64",
      "userId": "05637475839953982977"
     },
     "user_tz": -330
    },
    "id": "4qnvUOQ5ozoA"
   },
   "outputs": [],
   "source": [
    "# !unzip \"/content/drive/My Drive/Colab Notebooks/Masters/GC10-DET.zip\" -d \"/content/drive/My Drive/Colab Notebooks/Masters/GC10-DET\"\n",
    "# !pip install split-folders "
   ]
  },
  {
   "cell_type": "code",
   "execution_count": null,
   "id": "ggr9ogEYDgp-",
   "metadata": {
    "executionInfo": {
     "elapsed": 9,
     "status": "ok",
     "timestamp": 1646593533326,
     "user": {
      "displayName": "Rohit Lal",
      "photoUrl": "https://lh3.googleusercontent.com/a-/AOh14GjPP0CIsed5ULxQ3KSfz7pbe_dRQAL73QYKEXpf4Q=s64",
      "userId": "05637475839953982977"
     },
     "user_tz": -330
    },
    "id": "ggr9ogEYDgp-"
   },
   "outputs": [],
   "source": [
    "# import splitfolders\n",
    "# splitfolders.ratio(raw_dataset_directory, output=dataset_directory, seed=555, ratio=(.9, .1), group_prefix=None)"
   ]
  },
  {
   "cell_type": "code",
   "execution_count": null,
   "id": "N31vNPn0EikI",
   "metadata": {
    "executionInfo": {
     "elapsed": 8,
     "status": "ok",
     "timestamp": 1646593533326,
     "user": {
      "displayName": "Rohit Lal",
      "photoUrl": "https://lh3.googleusercontent.com/a-/AOh14GjPP0CIsed5ULxQ3KSfz7pbe_dRQAL73QYKEXpf4Q=s64",
      "userId": "05637475839953982977"
     },
     "user_tz": -330
    },
    "id": "N31vNPn0EikI"
   },
   "outputs": [],
   "source": []
  },
  {
   "cell_type": "code",
   "execution_count": null,
   "id": "3822bd83",
   "metadata": {
    "colab": {
     "base_uri": "https://localhost:8080/"
    },
    "executionInfo": {
     "elapsed": 1513,
     "status": "ok",
     "timestamp": 1646593534831,
     "user": {
      "displayName": "Rohit Lal",
      "photoUrl": "https://lh3.googleusercontent.com/a-/AOh14GjPP0CIsed5ULxQ3KSfz7pbe_dRQAL73QYKEXpf4Q=s64",
      "userId": "05637475839953982977"
     },
     "user_tz": -330
    },
    "id": "3822bd83",
    "outputId": "ed0b558f-0122-4a3f-98ff-97f99e4b151e"
   },
   "outputs": [],
   "source": [
    "train_ds_batch = tf.keras.preprocessing.image_dataset_from_directory(train_set_directory,\n",
    "    validation_split=0.1,\n",
    "    subset=\"training\",\n",
    "    seed=555,\n",
    "    image_size=image_size,\n",
    "    batch_size=None, #batch_size\n",
    ")\n",
    "# train_ds = train_ds_batch.prefetch(buffer_size=batch_size)"
   ]
  },
  {
   "cell_type": "code",
   "execution_count": null,
   "id": "9c964093",
   "metadata": {
    "colab": {
     "base_uri": "https://localhost:8080/"
    },
    "executionInfo": {
     "elapsed": 10,
     "status": "ok",
     "timestamp": 1646593534832,
     "user": {
      "displayName": "Rohit Lal",
      "photoUrl": "https://lh3.googleusercontent.com/a-/AOh14GjPP0CIsed5ULxQ3KSfz7pbe_dRQAL73QYKEXpf4Q=s64",
      "userId": "05637475839953982977"
     },
     "user_tz": -330
    },
    "id": "9c964093",
    "outputId": "23494d4b-6173-4e5e-ded1-627e9c80572f"
   },
   "outputs": [],
   "source": [
    "val_ds_batch = tf.keras.preprocessing.image_dataset_from_directory(train_set_directory,\n",
    "    validation_split=0.1,\n",
    "    subset=\"validation\",\n",
    "    seed=555,\n",
    "    image_size=image_size,\n",
    "    batch_size=None, #batch_size\n",
    ")\n",
    "# val_ds = val_ds_batch.prefetch(buffer_size=batch_size)"
   ]
  },
  {
   "cell_type": "code",
   "execution_count": null,
   "id": "uWnbOldlFSDk",
   "metadata": {
    "colab": {
     "base_uri": "https://localhost:8080/"
    },
    "executionInfo": {
     "elapsed": 924,
     "status": "ok",
     "timestamp": 1646593535750,
     "user": {
      "displayName": "Rohit Lal",
      "photoUrl": "https://lh3.googleusercontent.com/a-/AOh14GjPP0CIsed5ULxQ3KSfz7pbe_dRQAL73QYKEXpf4Q=s64",
      "userId": "05637475839953982977"
     },
     "user_tz": -330
    },
    "id": "uWnbOldlFSDk",
    "outputId": "4db31522-1b66-42eb-ed3a-356d92cc9739"
   },
   "outputs": [],
   "source": [
    "test_ds_batch = tf.keras.preprocessing.image_dataset_from_directory(test_set_directory,\n",
    "    # validation_split=0.1,\n",
    "    # subset=\"validation\",\n",
    "    seed=555,\n",
    "    image_size=image_size,\n",
    "    batch_size=None, # batch_size\n",
    ")\n",
    "# test_ds = test_ds_batch.prefetch(buffer_size=batch_size)"
   ]
  },
  {
   "cell_type": "code",
   "execution_count": null,
   "id": "21oMIrBSAJfV",
   "metadata": {
    "colab": {
     "base_uri": "https://localhost:8080/"
    },
    "executionInfo": {
     "elapsed": 18,
     "status": "ok",
     "timestamp": 1646593535750,
     "user": {
      "displayName": "Rohit Lal",
      "photoUrl": "https://lh3.googleusercontent.com/a-/AOh14GjPP0CIsed5ULxQ3KSfz7pbe_dRQAL73QYKEXpf4Q=s64",
      "userId": "05637475839953982977"
     },
     "user_tz": -330
    },
    "id": "21oMIrBSAJfV",
    "outputId": "b2228a1a-05b9-437c-a813-bbe819bcc055"
   },
   "outputs": [],
   "source": [
    "class_names = train_ds_batch.class_names\n",
    "class_names"
   ]
  },
  {
   "cell_type": "code",
   "execution_count": null,
   "id": "lYb7jQhezd-v",
   "metadata": {
    "executionInfo": {
     "elapsed": 16,
     "status": "ok",
     "timestamp": 1646593535751,
     "user": {
      "displayName": "Rohit Lal",
      "photoUrl": "https://lh3.googleusercontent.com/a-/AOh14GjPP0CIsed5ULxQ3KSfz7pbe_dRQAL73QYKEXpf4Q=s64",
      "userId": "05637475839953982977"
     },
     "user_tz": -330
    },
    "id": "lYb7jQhezd-v"
   },
   "outputs": [],
   "source": []
  },
  {
   "cell_type": "markdown",
   "id": "9Slg5ljDoLnd",
   "metadata": {
    "id": "9Slg5ljDoLnd"
   },
   "source": [
    "### Augmentations"
   ]
  },
  {
   "cell_type": "code",
   "execution_count": null,
   "id": "LiQu3O1sr1C6",
   "metadata": {
    "executionInfo": {
     "elapsed": 15,
     "status": "ok",
     "timestamp": 1646593535751,
     "user": {
      "displayName": "Rohit Lal",
      "photoUrl": "https://lh3.googleusercontent.com/a-/AOh14GjPP0CIsed5ULxQ3KSfz7pbe_dRQAL73QYKEXpf4Q=s64",
      "userId": "05637475839953982977"
     },
     "user_tz": -330
    },
    "id": "LiQu3O1sr1C6"
   },
   "outputs": [],
   "source": [
    "def view_image(ds):\n",
    "    image, label = next(iter(ds)) # extract 1 batch from the dataset\n",
    "    image = image.numpy()\n",
    "    label = label.numpy()\n",
    "    \n",
    "    fig = plt.figure(figsize=(10, 10))\n",
    "    for i in range(9):\n",
    "        ax = fig.add_subplot(3, 3, i+1, xticks=[], yticks=[])\n",
    "        ax.imshow(image[i]) # .astype('uint8')\n",
    "        ax.set_title(f\"Label: {label[i]}\")"
   ]
  },
  {
   "cell_type": "code",
   "execution_count": null,
   "id": "3xWHoBKJoMlf",
   "metadata": {
    "executionInfo": {
     "elapsed": 15,
     "status": "ok",
     "timestamp": 1646593535751,
     "user": {
      "displayName": "Rohit Lal",
      "photoUrl": "https://lh3.googleusercontent.com/a-/AOh14GjPP0CIsed5ULxQ3KSfz7pbe_dRQAL73QYKEXpf4Q=s64",
      "userId": "05637475839953982977"
     },
     "user_tz": -330
    },
    "id": "3xWHoBKJoMlf"
   },
   "outputs": [],
   "source": [
    "# Instantiate augments\n",
    "# we can apply as many augments we want and adjust the values accordingly\n",
    "transforms = Compose([\n",
    "            # Cutout(num_holes=2, max_h_size=4, max_w_size=4),\n",
    "            Rotate(limit=50, p=0.5),\n",
    "            HorizontalFlip(p=0.5),\n",
    "            # VerticalFlip(p=0.5),\n",
    "            # ShiftScaleRotate(p=0.5),\n",
    "            # RandomCrop(height=8, width=8, p=0.75),\n",
    "        ])"
   ]
  },
  {
   "cell_type": "code",
   "execution_count": null,
   "id": "6S9JqBKQoqW4",
   "metadata": {
    "executionInfo": {
     "elapsed": 16,
     "status": "ok",
     "timestamp": 1646593535752,
     "user": {
      "displayName": "Rohit Lal",
      "photoUrl": "https://lh3.googleusercontent.com/a-/AOh14GjPP0CIsed5ULxQ3KSfz7pbe_dRQAL73QYKEXpf4Q=s64",
      "userId": "05637475839953982977"
     },
     "user_tz": -330
    },
    "id": "6S9JqBKQoqW4"
   },
   "outputs": [],
   "source": [
    "def aug_fn(image, img_size, training=True):\n",
    "    if training:\n",
    "      data = {\"image\":image}\n",
    "      aug_data = transforms(**data)\n",
    "      aug_img = aug_data[\"image\"]\n",
    "      aug_img = tf.cast(aug_img/255.0, tf.float32)\n",
    "      aug_img = tf.image.resize(aug_img, size=[img_size, img_size])\n",
    "    else:\n",
    "      aug_img = tf.cast(image/255.0, tf.float32)\n",
    "      aug_img = tf.image.resize(aug_img, size=[img_size, img_size])\n",
    "    return aug_img"
   ]
  },
  {
   "cell_type": "code",
   "execution_count": null,
   "id": "dRhpmAKvorBb",
   "metadata": {
    "executionInfo": {
     "elapsed": 15,
     "status": "ok",
     "timestamp": 1646593535752,
     "user": {
      "displayName": "Rohit Lal",
      "photoUrl": "https://lh3.googleusercontent.com/a-/AOh14GjPP0CIsed5ULxQ3KSfz7pbe_dRQAL73QYKEXpf4Q=s64",
      "userId": "05637475839953982977"
     },
     "user_tz": -330
    },
    "id": "dRhpmAKvorBb"
   },
   "outputs": [],
   "source": [
    "def process_data(image, label, img_size, training):\n",
    "    aug_img = tf.numpy_function(func=aug_fn, inp=[image, img_size, training], Tout=tf.float32)\n",
    "    return aug_img, label"
   ]
  },
  {
   "cell_type": "code",
   "execution_count": null,
   "id": "HdUPOng0oxpS",
   "metadata": {
    "executionInfo": {
     "elapsed": 15,
     "status": "ok",
     "timestamp": 1646593535752,
     "user": {
      "displayName": "Rohit Lal",
      "photoUrl": "https://lh3.googleusercontent.com/a-/AOh14GjPP0CIsed5ULxQ3KSfz7pbe_dRQAL73QYKEXpf4Q=s64",
      "userId": "05637475839953982977"
     },
     "user_tz": -330
    },
    "id": "HdUPOng0oxpS"
   },
   "outputs": [],
   "source": [
    "def set_shapes(img, label, img_shape=(224,224,3)):\n",
    "    img.set_shape(img_shape)\n",
    "    label.set_shape([])\n",
    "    return img, label"
   ]
  },
  {
   "cell_type": "code",
   "execution_count": null,
   "id": "qQnUMynKs2aC",
   "metadata": {
    "executionInfo": {
     "elapsed": 15,
     "status": "ok",
     "timestamp": 1646593535752,
     "user": {
      "displayName": "Rohit Lal",
      "photoUrl": "https://lh3.googleusercontent.com/a-/AOh14GjPP0CIsed5ULxQ3KSfz7pbe_dRQAL73QYKEXpf4Q=s64",
      "userId": "05637475839953982977"
     },
     "user_tz": -330
    },
    "id": "qQnUMynKs2aC"
   },
   "outputs": [],
   "source": []
  },
  {
   "cell_type": "code",
   "execution_count": null,
   "id": "Fej_pDYbpIjK",
   "metadata": {
    "executionInfo": {
     "elapsed": 17,
     "status": "ok",
     "timestamp": 1646593535754,
     "user": {
      "displayName": "Rohit Lal",
      "photoUrl": "https://lh3.googleusercontent.com/a-/AOh14GjPP0CIsed5ULxQ3KSfz7pbe_dRQAL73QYKEXpf4Q=s64",
      "userId": "05637475839953982977"
     },
     "user_tz": -330
    },
    "id": "Fej_pDYbpIjK"
   },
   "outputs": [],
   "source": [
    "# create dataset\n",
    "AUTOTUNE = tf.data.experimental.AUTOTUNE"
   ]
  },
  {
   "cell_type": "code",
   "execution_count": null,
   "id": "pv-YBNzbpKj3",
   "metadata": {
    "colab": {
     "base_uri": "https://localhost:8080/"
    },
    "executionInfo": {
     "elapsed": 16,
     "status": "ok",
     "timestamp": 1646593535754,
     "user": {
      "displayName": "Rohit Lal",
      "photoUrl": "https://lh3.googleusercontent.com/a-/AOh14GjPP0CIsed5ULxQ3KSfz7pbe_dRQAL73QYKEXpf4Q=s64",
      "userId": "05637475839953982977"
     },
     "user_tz": -330
    },
    "id": "pv-YBNzbpKj3",
    "outputId": "f0492415-e7cd-493f-ed81-9c812c3c0200"
   },
   "outputs": [],
   "source": [
    "# create dataset\n",
    "train_ds_alb = train_ds_batch.map(partial(process_data, img_size=image_size[0], training=True), num_parallel_calls=AUTOTUNE).prefetch(AUTOTUNE)\n",
    "train_ds = train_ds_alb.map(set_shapes, num_parallel_calls=AUTOTUNE).batch(batch_size).prefetch(AUTOTUNE)\n",
    "train_ds"
   ]
  },
  {
   "cell_type": "code",
   "execution_count": null,
   "id": "q-jyOAn-O4Q9",
   "metadata": {
    "colab": {
     "base_uri": "https://localhost:8080/"
    },
    "executionInfo": {
     "elapsed": 14,
     "status": "ok",
     "timestamp": 1646593535754,
     "user": {
      "displayName": "Rohit Lal",
      "photoUrl": "https://lh3.googleusercontent.com/a-/AOh14GjPP0CIsed5ULxQ3KSfz7pbe_dRQAL73QYKEXpf4Q=s64",
      "userId": "05637475839953982977"
     },
     "user_tz": -330
    },
    "id": "q-jyOAn-O4Q9",
    "outputId": "7e1ed6d9-9479-466c-95ee-f6dba43b9fce"
   },
   "outputs": [],
   "source": [
    "val_ds_alb = val_ds_batch.map(partial(process_data, img_size=image_size[0], training=True), num_parallel_calls=AUTOTUNE).prefetch(AUTOTUNE)\n",
    "val_ds = val_ds_alb.map(set_shapes, num_parallel_calls=AUTOTUNE).batch(batch_size).prefetch(AUTOTUNE)\n",
    "val_ds"
   ]
  },
  {
   "cell_type": "code",
   "execution_count": null,
   "id": "gxWtT9TueIy_",
   "metadata": {
    "colab": {
     "base_uri": "https://localhost:8080/"
    },
    "executionInfo": {
     "elapsed": 14,
     "status": "ok",
     "timestamp": 1646593535755,
     "user": {
      "displayName": "Rohit Lal",
      "photoUrl": "https://lh3.googleusercontent.com/a-/AOh14GjPP0CIsed5ULxQ3KSfz7pbe_dRQAL73QYKEXpf4Q=s64",
      "userId": "05637475839953982977"
     },
     "user_tz": -330
    },
    "id": "gxWtT9TueIy_",
    "outputId": "0dca46c1-d348-4c3d-977d-00ed6891cb1f"
   },
   "outputs": [],
   "source": [
    "test_ds_alb = test_ds_batch.map(partial(process_data, img_size=image_size[0], training=False), num_parallel_calls=AUTOTUNE).prefetch(AUTOTUNE)\n",
    "test_ds = test_ds_alb.map(set_shapes, num_parallel_calls=AUTOTUNE).batch(batch_size).prefetch(AUTOTUNE)\n",
    "test_ds\n",
    "\n",
    "# test_ds = test_ds_batch.batch(batch_size).prefetch(AUTOTUNE)\n",
    "# test_ds"
   ]
  },
  {
   "cell_type": "code",
   "execution_count": null,
   "id": "uFndTePCT2ZN",
   "metadata": {
    "executionInfo": {
     "elapsed": 12,
     "status": "ok",
     "timestamp": 1646593535755,
     "user": {
      "displayName": "Rohit Lal",
      "photoUrl": "https://lh3.googleusercontent.com/a-/AOh14GjPP0CIsed5ULxQ3KSfz7pbe_dRQAL73QYKEXpf4Q=s64",
      "userId": "05637475839953982977"
     },
     "user_tz": -330
    },
    "id": "uFndTePCT2ZN"
   },
   "outputs": [],
   "source": []
  },
  {
   "cell_type": "code",
   "execution_count": null,
   "id": "44ZZ8XRHzd-w",
   "metadata": {
    "executionInfo": {
     "elapsed": 12,
     "status": "ok",
     "timestamp": 1646593535755,
     "user": {
      "displayName": "Rohit Lal",
      "photoUrl": "https://lh3.googleusercontent.com/a-/AOh14GjPP0CIsed5ULxQ3KSfz7pbe_dRQAL73QYKEXpf4Q=s64",
      "userId": "05637475839953982977"
     },
     "user_tz": -330
    },
    "id": "44ZZ8XRHzd-w"
   },
   "outputs": [],
   "source": [
    "def show_image(img, fig_size=(4, 4)):\n",
    "    # show image\n",
    "    plt.figure(figsize=fig_size)\n",
    "    plt.imshow(img.astype('uint8'))\n",
    "    plt.show()"
   ]
  },
  {
   "cell_type": "code",
   "execution_count": null,
   "id": "99ee8aa2",
   "metadata": {
    "executionInfo": {
     "elapsed": 12,
     "status": "ok",
     "timestamp": 1646593535756,
     "user": {
      "displayName": "Rohit Lal",
      "photoUrl": "https://lh3.googleusercontent.com/a-/AOh14GjPP0CIsed5ULxQ3KSfz7pbe_dRQAL73QYKEXpf4Q=s64",
      "userId": "05637475839953982977"
     },
     "user_tz": -330
    },
    "id": "99ee8aa2"
   },
   "outputs": [],
   "source": [
    "def lr_schedule(epoch):\n",
    "    \"\"\"Learning Rate Schedule\n",
    "\n",
    "    Learning rate is scheduled to be reduced after 80, 120, 160, 180 epochs.\n",
    "    Called automatically every epoch as part of callbacks during training.\n",
    "\n",
    "    # Arguments\n",
    "        epoch (int): The number of epochs\n",
    "\n",
    "    # Returns\n",
    "        lr (float32): learning rate\n",
    "    \"\"\"\n",
    "    lr = 1e-3\n",
    "    if epoch > 180:\n",
    "        lr *= 0.5e-3\n",
    "    elif epoch > 160:\n",
    "        lr *= 1e-3\n",
    "    elif epoch > 120:\n",
    "        lr *= 1e-2\n",
    "    elif epoch > 80:\n",
    "        lr *= 1e-1\n",
    "    print('Learning rate: ', lr)\n",
    "    return lr"
   ]
  },
  {
   "cell_type": "code",
   "execution_count": null,
   "id": "KC7guObSzd-w",
   "metadata": {
    "executionInfo": {
     "elapsed": 12,
     "status": "ok",
     "timestamp": 1646593535756,
     "user": {
      "displayName": "Rohit Lal",
      "photoUrl": "https://lh3.googleusercontent.com/a-/AOh14GjPP0CIsed5ULxQ3KSfz7pbe_dRQAL73QYKEXpf4Q=s64",
      "userId": "05637475839953982977"
     },
     "user_tz": -330
    },
    "id": "KC7guObSzd-w"
   },
   "outputs": [],
   "source": []
  },
  {
   "cell_type": "markdown",
   "id": "5477ad8f",
   "metadata": {
    "id": "5477ad8f"
   },
   "source": [
    "## Modelling"
   ]
  },
  {
   "cell_type": "markdown",
   "id": "ZXueRvUmzd-x",
   "metadata": {
    "id": "ZXueRvUmzd-x"
   },
   "source": [
    "#### MobileNet"
   ]
  },
  {
   "cell_type": "code",
   "execution_count": null,
   "id": "cdGiZ0LXzd-x",
   "metadata": {
    "executionInfo": {
     "elapsed": 12,
     "status": "ok",
     "timestamp": 1646593535756,
     "user": {
      "displayName": "Rohit Lal",
      "photoUrl": "https://lh3.googleusercontent.com/a-/AOh14GjPP0CIsed5ULxQ3KSfz7pbe_dRQAL73QYKEXpf4Q=s64",
      "userId": "05637475839953982977"
     },
     "user_tz": -330
    },
    "id": "cdGiZ0LXzd-x"
   },
   "outputs": [],
   "source": [
    "model_type = 'mobilenet_v2'"
   ]
  },
  {
   "cell_type": "code",
   "execution_count": null,
   "id": "95ba2620",
   "metadata": {
    "executionInfo": {
     "elapsed": 2447,
     "status": "ok",
     "timestamp": 1646593538191,
     "user": {
      "displayName": "Rohit Lal",
      "photoUrl": "https://lh3.googleusercontent.com/a-/AOh14GjPP0CIsed5ULxQ3KSfz7pbe_dRQAL73QYKEXpf4Q=s64",
      "userId": "05637475839953982977"
     },
     "user_tz": -330
    },
    "id": "95ba2620"
   },
   "outputs": [],
   "source": [
    "model = MobileNetV2()"
   ]
  },
  {
   "cell_type": "code",
   "execution_count": null,
   "id": "5d379697",
   "metadata": {
    "colab": {
     "base_uri": "https://localhost:8080/"
    },
    "executionInfo": {
     "elapsed": 1676,
     "status": "ok",
     "timestamp": 1646593539805,
     "user": {
      "displayName": "Rohit Lal",
      "photoUrl": "https://lh3.googleusercontent.com/a-/AOh14GjPP0CIsed5ULxQ3KSfz7pbe_dRQAL73QYKEXpf4Q=s64",
      "userId": "05637475839953982977"
     },
     "user_tz": -330
    },
    "id": "5d379697",
    "outputId": "2e2f08f8-6ff3-4bbe-b540-0f6ceaea64ee"
   },
   "outputs": [],
   "source": [
    "# model.build(input_shape=(32,32,3))\n",
    "model.summary()"
   ]
  },
  {
   "cell_type": "code",
   "execution_count": null,
   "id": "I9WPyAYRzd-y",
   "metadata": {
    "colab": {
     "base_uri": "https://localhost:8080/",
     "height": 35
    },
    "executionInfo": {
     "elapsed": 20,
     "status": "ok",
     "timestamp": 1646593539806,
     "user": {
      "displayName": "Rohit Lal",
      "photoUrl": "https://lh3.googleusercontent.com/a-/AOh14GjPP0CIsed5ULxQ3KSfz7pbe_dRQAL73QYKEXpf4Q=s64",
      "userId": "05637475839953982977"
     },
     "user_tz": -330
    },
    "id": "I9WPyAYRzd-y",
    "outputId": "8577e59b-a34a-4dce-c5b1-1164191ae22f"
   },
   "outputs": [],
   "source": [
    "# Prepare model model saving directory.\n",
    "save_dir = os.path.join(model_directory, 'saved_models')\n",
    "model_name = 'keras_%s_model.{epoch:03d}.h5' % model_type\n",
    "if not os.path.isdir(save_dir):\n",
    "    os.makedirs(save_dir)\n",
    "filepath = os.path.join(save_dir, model_name)\n",
    "filepath"
   ]
  },
  {
   "cell_type": "code",
   "execution_count": null,
   "id": "T0ZmkJkNzd-y",
   "metadata": {
    "executionInfo": {
     "elapsed": 18,
     "status": "ok",
     "timestamp": 1646593539806,
     "user": {
      "displayName": "Rohit Lal",
      "photoUrl": "https://lh3.googleusercontent.com/a-/AOh14GjPP0CIsed5ULxQ3KSfz7pbe_dRQAL73QYKEXpf4Q=s64",
      "userId": "05637475839953982977"
     },
     "user_tz": -330
    },
    "id": "T0ZmkJkNzd-y"
   },
   "outputs": [],
   "source": []
  },
  {
   "cell_type": "code",
   "execution_count": null,
   "id": "zaXEdI9Tzd-y",
   "metadata": {
    "executionInfo": {
     "elapsed": 18,
     "status": "ok",
     "timestamp": 1646593539807,
     "user": {
      "displayName": "Rohit Lal",
      "photoUrl": "https://lh3.googleusercontent.com/a-/AOh14GjPP0CIsed5ULxQ3KSfz7pbe_dRQAL73QYKEXpf4Q=s64",
      "userId": "05637475839953982977"
     },
     "user_tz": -330
    },
    "id": "zaXEdI9Tzd-y"
   },
   "outputs": [],
   "source": [
    "# Prepare callbacks for model saving and for learning rate adjustment.\n",
    "checkpoint = ModelCheckpoint(filepath=filepath,\n",
    "                             monitor='val_accuracy',\n",
    "                             verbose=1,\n",
    "                             save_best_only=True)\n",
    "\n",
    "lr_scheduler = LearningRateScheduler(lr_schedule)\n",
    "\n",
    "lr_reducer = ReduceLROnPlateau(factor=np.sqrt(0.1),\n",
    "                               cooldown=0,\n",
    "                               patience=5,\n",
    "                               min_lr=0.5e-6)\n",
    "\n",
    "early_stopper = EarlyStopping(\n",
    "    monitor=\"val_loss\",\n",
    "    min_delta=0.0001,\n",
    "    patience=100,\n",
    "    verbose=1,\n",
    "    restore_best_weights=True\n",
    "    )"
   ]
  },
  {
   "cell_type": "code",
   "execution_count": null,
   "id": "vE2M_zGLzd-z",
   "metadata": {
    "executionInfo": {
     "elapsed": 18,
     "status": "ok",
     "timestamp": 1646593539807,
     "user": {
      "displayName": "Rohit Lal",
      "photoUrl": "https://lh3.googleusercontent.com/a-/AOh14GjPP0CIsed5ULxQ3KSfz7pbe_dRQAL73QYKEXpf4Q=s64",
      "userId": "05637475839953982977"
     },
     "user_tz": -330
    },
    "id": "vE2M_zGLzd-z"
   },
   "outputs": [],
   "source": [
    "callbacks = [checkpoint, lr_reducer, lr_scheduler, early_stopper]"
   ]
  },
  {
   "cell_type": "code",
   "execution_count": null,
   "id": "d11c16dc",
   "metadata": {
    "executionInfo": {
     "elapsed": 18,
     "status": "ok",
     "timestamp": 1646593539808,
     "user": {
      "displayName": "Rohit Lal",
      "photoUrl": "https://lh3.googleusercontent.com/a-/AOh14GjPP0CIsed5ULxQ3KSfz7pbe_dRQAL73QYKEXpf4Q=s64",
      "userId": "05637475839953982977"
     },
     "user_tz": -330
    },
    "id": "d11c16dc"
   },
   "outputs": [],
   "source": [
    "model.compile(\n",
    "    loss=losses.SparseCategoricalCrossentropy(),\n",
    "    # optimizer=optimizers.Adam(learning_rate=0.001),\n",
    "    # loss=losses.SparseCategoricalCrossentropy(from_logits=True),\n",
    "    optimizer='adam',\n",
    "    metrics=['accuracy']\n",
    ")"
   ]
  },
  {
   "cell_type": "code",
   "execution_count": null,
   "id": "_NudnTLH6eta",
   "metadata": {
    "executionInfo": {
     "elapsed": 18,
     "status": "ok",
     "timestamp": 1646593539808,
     "user": {
      "displayName": "Rohit Lal",
      "photoUrl": "https://lh3.googleusercontent.com/a-/AOh14GjPP0CIsed5ULxQ3KSfz7pbe_dRQAL73QYKEXpf4Q=s64",
      "userId": "05637475839953982977"
     },
     "user_tz": -330
    },
    "id": "_NudnTLH6eta"
   },
   "outputs": [],
   "source": []
  },
  {
   "cell_type": "code",
   "execution_count": null,
   "id": "d7f79ebd",
   "metadata": {
    "colab": {
     "base_uri": "https://localhost:8080/"
    },
    "executionInfo": {
     "elapsed": 5983928,
     "status": "ok",
     "timestamp": 1646599523718,
     "user": {
      "displayName": "Rohit Lal",
      "photoUrl": "https://lh3.googleusercontent.com/a-/AOh14GjPP0CIsed5ULxQ3KSfz7pbe_dRQAL73QYKEXpf4Q=s64",
      "userId": "05637475839953982977"
     },
     "user_tz": -330
    },
    "id": "d7f79ebd",
    "outputId": "c0f2fcb3-2d80-4543-e56e-855dd527d4fb"
   },
   "outputs": [],
   "source": [
    "history = model.fit(train_ds, epochs=epochs, validation_data=val_ds, verbose=1, callbacks=callbacks)"
   ]
  },
  {
   "cell_type": "code",
   "execution_count": null,
   "id": "UwwU3z08zbqU",
   "metadata": {
    "executionInfo": {
     "elapsed": 13,
     "status": "ok",
     "timestamp": 1646599523719,
     "user": {
      "displayName": "Rohit Lal",
      "photoUrl": "https://lh3.googleusercontent.com/a-/AOh14GjPP0CIsed5ULxQ3KSfz7pbe_dRQAL73QYKEXpf4Q=s64",
      "userId": "05637475839953982977"
     },
     "user_tz": -330
    },
    "id": "UwwU3z08zbqU"
   },
   "outputs": [],
   "source": []
  },
  {
   "cell_type": "code",
   "execution_count": null,
   "id": "-SL1m-N9zrEN",
   "metadata": {
    "colab": {
     "base_uri": "https://localhost:8080/"
    },
    "executionInfo": {
     "elapsed": 81948,
     "status": "ok",
     "timestamp": 1646599605655,
     "user": {
      "displayName": "Rohit Lal",
      "photoUrl": "https://lh3.googleusercontent.com/a-/AOh14GjPP0CIsed5ULxQ3KSfz7pbe_dRQAL73QYKEXpf4Q=s64",
      "userId": "05637475839953982977"
     },
     "user_tz": -330
    },
    "id": "-SL1m-N9zrEN",
    "outputId": "2d5dce21-a599-43dd-afdb-592858ad20c8"
   },
   "outputs": [],
   "source": [
    "scores = model.evaluate(test_ds)\n",
    "print('Test loss:', scores[0])\n",
    "print('Test accuracy:', scores[1])"
   ]
  },
  {
   "cell_type": "code",
   "execution_count": null,
   "id": "e3d77cfa",
   "metadata": {
    "executionInfo": {
     "elapsed": 12,
     "status": "ok",
     "timestamp": 1646599605656,
     "user": {
      "displayName": "Rohit Lal",
      "photoUrl": "https://lh3.googleusercontent.com/a-/AOh14GjPP0CIsed5ULxQ3KSfz7pbe_dRQAL73QYKEXpf4Q=s64",
      "userId": "05637475839953982977"
     },
     "user_tz": -330
    },
    "id": "e3d77cfa"
   },
   "outputs": [],
   "source": []
  },
  {
   "cell_type": "markdown",
   "id": "cK-Xuti_zd-0",
   "metadata": {
    "id": "cK-Xuti_zd-0"
   },
   "source": [
    "### Save Final Model"
   ]
  },
  {
   "cell_type": "code",
   "execution_count": null,
   "id": "E7Dy9VDmzd-0",
   "metadata": {
    "executionInfo": {
     "elapsed": 756,
     "status": "ok",
     "timestamp": 1646599606401,
     "user": {
      "displayName": "Rohit Lal",
      "photoUrl": "https://lh3.googleusercontent.com/a-/AOh14GjPP0CIsed5ULxQ3KSfz7pbe_dRQAL73QYKEXpf4Q=s64",
      "userId": "05637475839953982977"
     },
     "user_tz": -330
    },
    "id": "E7Dy9VDmzd-0"
   },
   "outputs": [],
   "source": [
    "# Save the model\n",
    "final_model_filepath = os.path.join(save_dir, f'{model_type}_final_model.h5')\n",
    "save_model(model, final_model_filepath)\n",
    "\n",
    "# model = load_model(final_model_filepath)"
   ]
  },
  {
   "cell_type": "code",
   "execution_count": null,
   "id": "99ee4869",
   "metadata": {
    "colab": {
     "base_uri": "https://localhost:8080/",
     "height": 0
    },
    "executionInfo": {
     "elapsed": 19,
     "status": "ok",
     "timestamp": 1646599606401,
     "user": {
      "displayName": "Rohit Lal",
      "photoUrl": "https://lh3.googleusercontent.com/a-/AOh14GjPP0CIsed5ULxQ3KSfz7pbe_dRQAL73QYKEXpf4Q=s64",
      "userId": "05637475839953982977"
     },
     "user_tz": -330
    },
    "id": "99ee4869",
    "outputId": "af0e6036-dfea-462e-e238-e16bdad1d31b"
   },
   "outputs": [],
   "source": [
    "final_model_filepath"
   ]
  },
  {
   "cell_type": "markdown",
   "id": "eE-3saaRzd-0",
   "metadata": {
    "id": "eE-3saaRzd-0"
   },
   "source": [
    "### Test Predictions"
   ]
  },
  {
   "cell_type": "code",
   "execution_count": null,
   "id": "R3_o7Pkwzd-0",
   "metadata": {
    "executionInfo": {
     "elapsed": 15,
     "status": "ok",
     "timestamp": 1646599606402,
     "user": {
      "displayName": "Rohit Lal",
      "photoUrl": "https://lh3.googleusercontent.com/a-/AOh14GjPP0CIsed5ULxQ3KSfz7pbe_dRQAL73QYKEXpf4Q=s64",
      "userId": "05637475839953982977"
     },
     "user_tz": -330
    },
    "id": "R3_o7Pkwzd-0"
   },
   "outputs": [],
   "source": [
    "# test_image = f'{test_set_directory}/silk_spot/img_01_425005700_00191.jpg'\n",
    "test_image = f'{test_set_directory}/silk_spot/img_03_4406645900_00364.jpg'\n",
    "# test_image = f'{test_set_directory}/silk_spot/img_03_3436786500_00071.jpg'\n",
    "# test_image = f'{test_set_directory}/oil_spot/img_03_3402617700_00118.jpg'"
   ]
  },
  {
   "cell_type": "code",
   "execution_count": null,
   "id": "7MvnVzpDzd-0",
   "metadata": {
    "executionInfo": {
     "elapsed": 15,
     "status": "ok",
     "timestamp": 1646599606402,
     "user": {
      "displayName": "Rohit Lal",
      "photoUrl": "https://lh3.googleusercontent.com/a-/AOh14GjPP0CIsed5ULxQ3KSfz7pbe_dRQAL73QYKEXpf4Q=s64",
      "userId": "05637475839953982977"
     },
     "user_tz": -330
    },
    "id": "7MvnVzpDzd-0"
   },
   "outputs": [],
   "source": [
    "img = tf.keras.utils.load_img(test_image, target_size=image_size)\n",
    "img_array = tf.keras.utils.img_to_array(img)\n",
    "# show_image(img_array)"
   ]
  },
  {
   "cell_type": "code",
   "execution_count": null,
   "id": "ETP9RNcizd-1",
   "metadata": {
    "colab": {
     "base_uri": "https://localhost:8080/"
    },
    "executionInfo": {
     "elapsed": 753,
     "status": "ok",
     "timestamp": 1646599607141,
     "user": {
      "displayName": "Rohit Lal",
      "photoUrl": "https://lh3.googleusercontent.com/a-/AOh14GjPP0CIsed5ULxQ3KSfz7pbe_dRQAL73QYKEXpf4Q=s64",
      "userId": "05637475839953982977"
     },
     "user_tz": -330
    },
    "id": "ETP9RNcizd-1",
    "outputId": "e5a963f0-9443-45ec-fb1d-a9a12ad29c56"
   },
   "outputs": [],
   "source": [
    "img_array = img_array/255\n",
    "img_array = tf.expand_dims(img_array, 0) # Create a batch\n",
    "predictions = model.predict(img_array)\n",
    "score = tf.nn.softmax(predictions[0])\n",
    "print(\"{} : {:.2f} %\".format(class_names[np.argmax(score)], 100 * np.max(score)))"
   ]
  },
  {
   "cell_type": "code",
   "execution_count": null,
   "id": "1f314280",
   "metadata": {
    "executionInfo": {
     "elapsed": 2,
     "status": "ok",
     "timestamp": 1646599607141,
     "user": {
      "displayName": "Rohit Lal",
      "photoUrl": "https://lh3.googleusercontent.com/a-/AOh14GjPP0CIsed5ULxQ3KSfz7pbe_dRQAL73QYKEXpf4Q=s64",
      "userId": "05637475839953982977"
     },
     "user_tz": -330
    },
    "id": "1f314280"
   },
   "outputs": [],
   "source": []
  },
  {
   "cell_type": "markdown",
   "id": "MEELoxJqRFkC",
   "metadata": {
    "id": "MEELoxJqRFkC"
   },
   "source": [
    "### Inference Timings"
   ]
  },
  {
   "cell_type": "code",
   "execution_count": null,
   "id": "tjDBFFGXEgfz",
   "metadata": {
    "executionInfo": {
     "elapsed": 2,
     "status": "ok",
     "timestamp": 1646599607141,
     "user": {
      "displayName": "Rohit Lal",
      "photoUrl": "https://lh3.googleusercontent.com/a-/AOh14GjPP0CIsed5ULxQ3KSfz7pbe_dRQAL73QYKEXpf4Q=s64",
      "userId": "05637475839953982977"
     },
     "user_tz": -330
    },
    "id": "tjDBFFGXEgfz"
   },
   "outputs": [],
   "source": [
    "import time"
   ]
  },
  {
   "cell_type": "code",
   "execution_count": null,
   "id": "JezHkZQJzd-1",
   "metadata": {
    "colab": {
     "base_uri": "https://localhost:8080/"
    },
    "executionInfo": {
     "elapsed": 4401,
     "status": "ok",
     "timestamp": 1646599611540,
     "user": {
      "displayName": "Rohit Lal",
      "photoUrl": "https://lh3.googleusercontent.com/a-/AOh14GjPP0CIsed5ULxQ3KSfz7pbe_dRQAL73QYKEXpf4Q=s64",
      "userId": "05637475839953982977"
     },
     "user_tz": -330
    },
    "id": "JezHkZQJzd-1",
    "outputId": "52074332-49c7-436c-ecaa-4fbee4f53b4b"
   },
   "outputs": [],
   "source": [
    "# single image inference timings\n",
    "inference_timings = []\n",
    "\n",
    "one_batch = iter(test_ds).get_next()\n",
    "\n",
    "for index, img in enumerate(one_batch[0]):\n",
    "    \n",
    "    actual_category = one_batch[1][index]\n",
    "    start_time = time.time()\n",
    "    img_array = tf.expand_dims(img, 0) # Create a batch\n",
    "    predictions = model.predict(img_array)\n",
    "    score = tf.nn.softmax(predictions[0])\n",
    "    inference_timings.append(time.time()-start_time)\n",
    "        \n",
    "#     print('Prediction time: {}'.format(time.time()-start_time))\n",
    "#     print(\"Actual: {} \\t|\\t Predicted: {} : {:.2f} %\".format(\n",
    "#         class_names[actual_category],\n",
    "#         class_names[np.argmax(score)], \n",
    "#         100 * np.max(score)\n",
    "#     ))\n",
    "#     break\n",
    "\n",
    "print('Average inference time: {:.2f} ms'.format(np.array(inference_timings).mean()*1000))"
   ]
  },
  {
   "cell_type": "code",
   "execution_count": null,
   "id": "x8mPdqtlzd-1",
   "metadata": {
    "colab": {
     "base_uri": "https://localhost:8080/"
    },
    "executionInfo": {
     "elapsed": 2674,
     "status": "ok",
     "timestamp": 1646599614206,
     "user": {
      "displayName": "Rohit Lal",
      "photoUrl": "https://lh3.googleusercontent.com/a-/AOh14GjPP0CIsed5ULxQ3KSfz7pbe_dRQAL73QYKEXpf4Q=s64",
      "userId": "05637475839953982977"
     },
     "user_tz": -330
    },
    "id": "x8mPdqtlzd-1",
    "outputId": "c00ecad2-e3c6-42fa-c7ac-a05016a3a09f"
   },
   "outputs": [],
   "source": [
    "# batch inference timings\n",
    "\n",
    "test_batch_id = 3\n",
    "one_batch = iter(test_ds).get_next()\n",
    "start_time = time.time()\n",
    "model.predict(one_batch[0])\n",
    "end_time = time.time()-start_time\n",
    "\n",
    "print('Total Prediction time: {:.2f} ms. Per image time: {:.2f} ms'.format(\n",
    "    end_time*1000, 1000*end_time/batch_size\n",
    "    ))"
   ]
  },
  {
   "cell_type": "code",
   "execution_count": null,
   "id": "sBTbE64szd-1",
   "metadata": {
    "executionInfo": {
     "elapsed": 30,
     "status": "ok",
     "timestamp": 1646599614207,
     "user": {
      "displayName": "Rohit Lal",
      "photoUrl": "https://lh3.googleusercontent.com/a-/AOh14GjPP0CIsed5ULxQ3KSfz7pbe_dRQAL73QYKEXpf4Q=s64",
      "userId": "05637475839953982977"
     },
     "user_tz": -330
    },
    "id": "sBTbE64szd-1"
   },
   "outputs": [],
   "source": []
  },
  {
   "cell_type": "markdown",
   "id": "NbrSwUnH3BLU",
   "metadata": {
    "id": "NbrSwUnH3BLU"
   },
   "source": [
    "### **References**"
   ]
  },
  {
   "cell_type": "code",
   "execution_count": null,
   "id": "a2e4a75e",
   "metadata": {
    "executionInfo": {
     "elapsed": 28,
     "status": "ok",
     "timestamp": 1646599614208,
     "user": {
      "displayName": "Rohit Lal",
      "photoUrl": "https://lh3.googleusercontent.com/a-/AOh14GjPP0CIsed5ULxQ3KSfz7pbe_dRQAL73QYKEXpf4Q=s64",
      "userId": "05637475839953982977"
     },
     "user_tz": -330
    },
    "id": "a2e4a75e"
   },
   "outputs": [],
   "source": [
    "# from torchinfo import summary\n",
    "# import torchvision\n",
    "# import torch.nn as nn"
   ]
  },
  {
   "cell_type": "code",
   "execution_count": null,
   "id": "0482c4d8",
   "metadata": {
    "executionInfo": {
     "elapsed": 28,
     "status": "ok",
     "timestamp": 1646599614209,
     "user": {
      "displayName": "Rohit Lal",
      "photoUrl": "https://lh3.googleusercontent.com/a-/AOh14GjPP0CIsed5ULxQ3KSfz7pbe_dRQAL73QYKEXpf4Q=s64",
      "userId": "05637475839953982977"
     },
     "user_tz": -330
    },
    "id": "0482c4d8"
   },
   "outputs": [],
   "source": [
    "# class SimpleModel(composer.models.MosaicClassifier):\n",
    "#     def __init__(self, num_classes: int):\n",
    "#         module = nn.Sequential(\n",
    "#     ################################## 1 ST CONVOLUTIONAL BLOCK #####################################  \n",
    "#             nn.Conv2d(in_channels = 3,out_channels = 16, dilation  = 1,padding = 1, kernel_size= (3,3)),                     # in 32, out 32, RF 3\n",
    "#             nn.ReLU(),\n",
    "#             nn.BatchNorm2d(16),                                                                               #26x26 /8 \n",
    "#             nn.Conv2d(in_channels = 16,out_channels = 32, dilation  = 1,padding = 1, kernel_size= (3,3)),                     # in 32, out 32, RF 3\n",
    "#             nn.ReLU(),\n",
    "#             nn.BatchNorm2d(32),\n",
    "#             nn.Dropout(0.03),\n",
    "#             # nn.MaxPool2d(2, 2),\n",
    "#             nn.Conv2d(in_channels = 32,out_channels = 32,groups = 32, dilation  = 1,padding = 1,kernel_size= (3,3)),\n",
    "#             nn.Conv2d(in_channels = 32,out_channels = 64, dilation = 1,padding = 0,kernel_size= (1,1)), # 8, 8, 3  \n",
    "#             nn.ReLU(),\n",
    "#             nn.BatchNorm2d(64)  ,          \n",
    "#             nn.Conv2d(in_channels = 64,out_channels = 64, dilation  = 1,padding = 1, kernel_size= (3,3)),                     \n",
    "#             nn.ReLU(),\n",
    "#             nn.BatchNorm2d(64),\n",
    "#             nn.Dropout(0.03),\n",
    "#             nn.MaxPool2d(2, 2),                                                                                             # in 32, out 16, RF 3\n",
    "\n",
    "#             nn.Conv2d(in_channels = 64,out_channels = 64,groups = 64, dilation  = 1,padding = 1,kernel_size= (3,3)),        \n",
    "#             nn.Conv2d(in_channels = 64,out_channels = 96, dilation = 1,padding = 0,kernel_size= (1,1)), # 8, 8, 3           \n",
    "#             nn.ReLU(),\n",
    "#             nn.BatchNorm2d(96),\n",
    "#             nn.Conv2d(in_channels = 96,out_channels = 96, dilation  = 2,padding = 2, kernel_size= (3,3)),                     \n",
    "#             nn.ReLU(),\n",
    "#             nn.BatchNorm2d(96),\n",
    "#             nn.Dropout(0.07),\n",
    "#             # nn.MaxPool2d(2, 2),\n",
    "#             nn.Conv2d(in_channels = 96,out_channels = 96, groups = 96, dilation  = 1,padding = 1,kernel_size= (3,3)),    \n",
    "#             nn.Conv2d(in_channels = 96,out_channels = 128, dilation  = 1,padding = 0,kernel_size= (1,1)),                  \n",
    "#             nn.ReLU(),\n",
    "#             nn.BatchNorm2d(128),\n",
    "#             nn.Conv2d(in_channels = 128,out_channels = 128, groups = 128, dilation  = 1,padding = 1,kernel_size= (3,3)),    \n",
    "#             nn.Conv2d(in_channels = 128,out_channels = 192, dilation  = 1,padding = 0,kernel_size= (1,1)),                  \n",
    "#             nn.ReLU(),\n",
    "#             nn.BatchNorm2d(192),\n",
    "#             nn.Dropout(0.05),\n",
    "#             nn.MaxPool2d(2, 2),                                                                                              # in 16, out 8, RF 3\n",
    "            \n",
    "#             nn.Conv2d(in_channels = 192,out_channels = 192, groups = 192, dilation  = 1,padding = 1,kernel_size= (3,3)),    \n",
    "#             nn.Conv2d(in_channels = 192,out_channels = 260, dilation  = 1,padding = 0,kernel_size= (1,1)),                  \n",
    "#             nn.ReLU(),\n",
    "#             nn.BatchNorm2d(260),            \n",
    "#             nn.Conv2d(in_channels = 260,out_channels = 260, groups = 260, dilation  = 1,padding = 1,kernel_size= (3,3)),    \n",
    "#             nn.Conv2d(in_channels = 260,out_channels = 320, dilation  = 1,padding = 0,kernel_size= (1,1)),                  \n",
    "#             nn.ReLU(),\n",
    "#             nn.BatchNorm2d(320),\n",
    "#             nn.Dropout(0.02),\n",
    "#             nn.MaxPool2d(2, 2), \n",
    "            \n",
    "            \n",
    "#             nn.Conv2d(in_channels = 320,out_channels = 320, groups = 320, dilation  = 1,padding = 1,kernel_size= (3,3)),    \n",
    "#             nn.Conv2d(in_channels = 320,out_channels = 370, dilation  = 1,padding = 0,kernel_size= (1,1)),                  \n",
    "#             nn.ReLU(),\n",
    "#             nn.BatchNorm2d(370),                       \n",
    "#             # nn.Dropout(0.02),\n",
    "#              nn.Conv2d(in_channels = 370,out_channels = 370, groups = 370, dilation  = 1,padding = 1,kernel_size= (3,3)),    \n",
    "#             nn.Conv2d(in_channels = 370,out_channels = 415, dilation  = 1,padding = 0,kernel_size= (1,1)),                  \n",
    "#             nn.ReLU(),\n",
    "#             nn.BatchNorm2d(415),\n",
    "\n",
    "#             nn.AvgPool2d(kernel_size=4),                                                                      #1x1/15\n",
    "#             nn.Flatten(),\n",
    "#             nn.Linear(415,10)\n",
    "#         )\n",
    "#         self.num_classes = num_classes\n",
    "#         super().__init__(module=module)"
   ]
  },
  {
   "cell_type": "code",
   "execution_count": null,
   "id": "73f556b3",
   "metadata": {
    "executionInfo": {
     "elapsed": 28,
     "status": "ok",
     "timestamp": 1646599614210,
     "user": {
      "displayName": "Rohit Lal",
      "photoUrl": "https://lh3.googleusercontent.com/a-/AOh14GjPP0CIsed5ULxQ3KSfz7pbe_dRQAL73QYKEXpf4Q=s64",
      "userId": "05637475839953982977"
     },
     "user_tz": -330
    },
    "id": "73f556b3"
   },
   "outputs": [],
   "source": [
    "# summary(m,input_size = (1,3,32,32))"
   ]
  },
  {
   "cell_type": "code",
   "execution_count": null,
   "id": "3088c505",
   "metadata": {
    "executionInfo": {
     "elapsed": 28,
     "status": "ok",
     "timestamp": 1646599614210,
     "user": {
      "displayName": "Rohit Lal",
      "photoUrl": "https://lh3.googleusercontent.com/a-/AOh14GjPP0CIsed5ULxQ3KSfz7pbe_dRQAL73QYKEXpf4Q=s64",
      "userId": "05637475839953982977"
     },
     "user_tz": -330
    },
    "id": "3088c505"
   },
   "outputs": [],
   "source": []
  }
 ],
 "metadata": {
  "accelerator": "GPU",
  "colab": {
   "collapsed_sections": [
    "cK-Xuti_zd-0",
    "eE-3saaRzd-0"
   ],
   "name": "keras_mobilenet_implementation.ipynb",
   "provenance": [
    {
     "file_id": "1WYWDELrzhXL2IohudKr9qhrrYX7v-sIN",
     "timestamp": 1644428971029
    }
   ]
  },
  "kernelspec": {
   "display_name": "Python 3",
   "language": "python",
   "name": "python3"
  },
  "language_info": {
   "codemirror_mode": {
    "name": "ipython",
    "version": 3
   },
   "file_extension": ".py",
   "mimetype": "text/x-python",
   "name": "python",
   "nbconvert_exporter": "python",
   "pygments_lexer": "ipython3",
   "version": "3.8.8"
  }
 },
 "nbformat": 4,
 "nbformat_minor": 5
}
