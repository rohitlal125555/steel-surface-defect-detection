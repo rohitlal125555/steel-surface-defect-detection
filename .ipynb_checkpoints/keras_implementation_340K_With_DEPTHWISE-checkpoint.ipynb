{
 "cells": [
  {
   "cell_type": "code",
   "execution_count": null,
   "id": "990fab5f",
   "metadata": {
    "executionInfo": {
     "elapsed": 4114,
     "status": "ok",
     "timestamp": 1646602338203,
     "user": {
      "displayName": "Rohit Lal",
      "photoUrl": "https://lh3.googleusercontent.com/a-/AOh14GjPP0CIsed5ULxQ3KSfz7pbe_dRQAL73QYKEXpf4Q=s64",
      "userId": "05637475839953982977"
     },
     "user_tz": -330
    },
    "id": "990fab5f"
   },
   "outputs": [],
   "source": [
    "# from numpy import loadtxt\n",
    "from tensorflow.keras.models import Sequential\n",
    "from tensorflow.keras.layers import Rescaling, Dense, Conv2D, BatchNormalization, Dropout, MaxPooling2D, ReLU, AveragePooling2D, Flatten, ZeroPadding2D, DepthwiseConv2D, SeparableConv2D\n",
    "from tensorflow.keras import losses, optimizers\n",
    "from tensorflow.keras.preprocessing.image import ImageDataGenerator\n",
    "from tensorflow.keras.callbacks import ModelCheckpoint, LearningRateScheduler, ReduceLROnPlateau, EarlyStopping\n",
    "from tensorflow.keras.models import Sequential, save_model, load_model\n",
    "\n",
    "from sklearn.metrics import classification_report,confusion_matrix\n",
    "import tensorflow as tf\n",
    "\n",
    "import matplotlib.pyplot as plt\n",
    "import os\n",
    "import numpy as np"
   ]
  },
  {
   "cell_type": "code",
   "execution_count": null,
   "id": "73bdbb05",
   "metadata": {
    "colab": {
     "base_uri": "https://localhost:8080/",
     "height": 35
    },
    "executionInfo": {
     "elapsed": 13,
     "status": "ok",
     "timestamp": 1646602338204,
     "user": {
      "displayName": "Rohit Lal",
      "photoUrl": "https://lh3.googleusercontent.com/a-/AOh14GjPP0CIsed5ULxQ3KSfz7pbe_dRQAL73QYKEXpf4Q=s64",
      "userId": "05637475839953982977"
     },
     "user_tz": -330
    },
    "id": "73bdbb05",
    "outputId": "36fa1f87-51d1-4a21-c574-7cd924b2ffca"
   },
   "outputs": [],
   "source": [
    "tf.__version__"
   ]
  },
  {
   "cell_type": "code",
   "execution_count": null,
   "id": "f0f1b6ee",
   "metadata": {
    "executionInfo": {
     "elapsed": 12,
     "status": "ok",
     "timestamp": 1646602338205,
     "user": {
      "displayName": "Rohit Lal",
      "photoUrl": "https://lh3.googleusercontent.com/a-/AOh14GjPP0CIsed5ULxQ3KSfz7pbe_dRQAL73QYKEXpf4Q=s64",
      "userId": "05637475839953982977"
     },
     "user_tz": -330
    },
    "id": "f0f1b6ee"
   },
   "outputs": [],
   "source": [
    "image_size = (32, 32)\n",
    "batch_size = 50\n",
    "epochs = 200"
   ]
  },
  {
   "cell_type": "code",
   "execution_count": null,
   "id": "ZzGCAl2yzgzs",
   "metadata": {
    "colab": {
     "base_uri": "https://localhost:8080/"
    },
    "executionInfo": {
     "elapsed": 19765,
     "status": "ok",
     "timestamp": 1644677282215,
     "user": {
      "displayName": "Rohit Lal",
      "photoUrl": "https://lh3.googleusercontent.com/a-/AOh14GjPP0CIsed5ULxQ3KSfz7pbe_dRQAL73QYKEXpf4Q=s64",
      "userId": "05637475839953982977"
     },
     "user_tz": -330
    },
    "id": "ZzGCAl2yzgzs",
    "outputId": "65f59136-007f-44ca-b311-c294bc41fa17"
   },
   "outputs": [],
   "source": [
    "from google.colab import drive \n",
    "drive.mount('/content/drive/')\n",
    "\n",
    "# !ls \"/content/drive/MyDrive/Colab Notebooks/Masters\""
   ]
  },
  {
   "cell_type": "code",
   "execution_count": null,
   "id": "HGUEFyGHzd-o",
   "metadata": {
    "id": "HGUEFyGHzd-o"
   },
   "outputs": [],
   "source": [
    "base_dir = '/content/drive/MyDrive/Colab Notebooks/Masters'\n",
    "\n",
    "raw_dataset_directory = f\"{base_dir}/Dataset/GC10-DET/images\"\n",
    "dataset_directory = f'{base_dir}/Dataset/GC10-DET/dataset'\n",
    "\n",
    "train_set_directory = f'{dataset_directory}/train'\n",
    "test_set_directory = f'{dataset_directory}/test'\n",
    "\n",
    "model_directory = f'{base_dir}/models/custom_cnn_143K_depthwise'"
   ]
  },
  {
   "cell_type": "code",
   "execution_count": null,
   "id": "xme06Eb6p-lr",
   "metadata": {
    "id": "xme06Eb6p-lr"
   },
   "outputs": [],
   "source": []
  },
  {
   "cell_type": "markdown",
   "id": "PeFt5enOErx_",
   "metadata": {
    "id": "PeFt5enOErx_"
   },
   "source": [
    "**Preparing Dataset**"
   ]
  },
  {
   "cell_type": "code",
   "execution_count": null,
   "id": "4qnvUOQ5ozoA",
   "metadata": {
    "id": "4qnvUOQ5ozoA"
   },
   "outputs": [],
   "source": [
    "# !unzip \"/content/drive/My Drive/Colab Notebooks/Masters/GC10-DET.zip\" -d \"/content/drive/My Drive/Colab Notebooks/Masters/GC10-DET\"\n",
    "# !pip install split-folders "
   ]
  },
  {
   "cell_type": "code",
   "execution_count": null,
   "id": "ggr9ogEYDgp-",
   "metadata": {
    "id": "ggr9ogEYDgp-"
   },
   "outputs": [],
   "source": [
    "# import splitfolders\n",
    "# splitfolders.ratio(raw_dataset_directory, output=dataset_directory, seed=555, ratio=(.9, .1), group_prefix=None)"
   ]
  },
  {
   "cell_type": "code",
   "execution_count": null,
   "id": "N31vNPn0EikI",
   "metadata": {
    "id": "N31vNPn0EikI"
   },
   "outputs": [],
   "source": []
  },
  {
   "cell_type": "code",
   "execution_count": null,
   "id": "3822bd83",
   "metadata": {
    "colab": {
     "base_uri": "https://localhost:8080/"
    },
    "executionInfo": {
     "elapsed": 9134,
     "status": "ok",
     "timestamp": 1644677291340,
     "user": {
      "displayName": "Rohit Lal",
      "photoUrl": "https://lh3.googleusercontent.com/a-/AOh14GjPP0CIsed5ULxQ3KSfz7pbe_dRQAL73QYKEXpf4Q=s64",
      "userId": "05637475839953982977"
     },
     "user_tz": -330
    },
    "id": "3822bd83",
    "outputId": "1b6e50b4-55b4-4f38-ceb4-e7388d0e7717"
   },
   "outputs": [],
   "source": [
    "train_ds_batch = tf.keras.preprocessing.image_dataset_from_directory(train_set_directory,\n",
    "    validation_split=0.1,\n",
    "    subset=\"training\",\n",
    "    seed=555,\n",
    "    image_size=image_size,\n",
    "    batch_size=batch_size,\n",
    ")\n",
    "train_ds = train_ds_batch.prefetch(buffer_size=32)"
   ]
  },
  {
   "cell_type": "code",
   "execution_count": null,
   "id": "9c964093",
   "metadata": {
    "colab": {
     "base_uri": "https://localhost:8080/"
    },
    "executionInfo": {
     "elapsed": 13,
     "status": "ok",
     "timestamp": 1644677291341,
     "user": {
      "displayName": "Rohit Lal",
      "photoUrl": "https://lh3.googleusercontent.com/a-/AOh14GjPP0CIsed5ULxQ3KSfz7pbe_dRQAL73QYKEXpf4Q=s64",
      "userId": "05637475839953982977"
     },
     "user_tz": -330
    },
    "id": "9c964093",
    "outputId": "c37bacba-e3e5-4645-b017-5fd770d131f9"
   },
   "outputs": [],
   "source": [
    "val_ds_batch = tf.keras.preprocessing.image_dataset_from_directory(train_set_directory,\n",
    "    validation_split=0.1,\n",
    "    subset=\"validation\",\n",
    "    seed=555,\n",
    "    image_size=image_size,\n",
    "    batch_size=batch_size,\n",
    ")\n",
    "val_ds = val_ds_batch.prefetch(buffer_size=32)"
   ]
  },
  {
   "cell_type": "code",
   "execution_count": null,
   "id": "uWnbOldlFSDk",
   "metadata": {
    "colab": {
     "base_uri": "https://localhost:8080/"
    },
    "executionInfo": {
     "elapsed": 1570,
     "status": "ok",
     "timestamp": 1644677292902,
     "user": {
      "displayName": "Rohit Lal",
      "photoUrl": "https://lh3.googleusercontent.com/a-/AOh14GjPP0CIsed5ULxQ3KSfz7pbe_dRQAL73QYKEXpf4Q=s64",
      "userId": "05637475839953982977"
     },
     "user_tz": -330
    },
    "id": "uWnbOldlFSDk",
    "outputId": "9da22a63-79c3-4615-9aab-45d95d66f0c8"
   },
   "outputs": [],
   "source": [
    "test_ds_batch = tf.keras.preprocessing.image_dataset_from_directory(test_set_directory,\n",
    "    # validation_split=0.1,\n",
    "    # subset=\"validation\",\n",
    "    seed=555,\n",
    "    image_size=image_size,\n",
    "    batch_size=batch_size,\n",
    ")\n",
    "test_ds = test_ds_batch.prefetch(buffer_size=32)"
   ]
  },
  {
   "cell_type": "code",
   "execution_count": null,
   "id": "21oMIrBSAJfV",
   "metadata": {
    "colab": {
     "base_uri": "https://localhost:8080/"
    },
    "executionInfo": {
     "elapsed": 27,
     "status": "ok",
     "timestamp": 1644677292903,
     "user": {
      "displayName": "Rohit Lal",
      "photoUrl": "https://lh3.googleusercontent.com/a-/AOh14GjPP0CIsed5ULxQ3KSfz7pbe_dRQAL73QYKEXpf4Q=s64",
      "userId": "05637475839953982977"
     },
     "user_tz": -330
    },
    "id": "21oMIrBSAJfV",
    "outputId": "4fc6d5bd-0f07-4c1b-d372-f2e5cf20a650"
   },
   "outputs": [],
   "source": [
    "class_names = train_ds_batch.class_names\n",
    "class_names"
   ]
  },
  {
   "cell_type": "code",
   "execution_count": null,
   "id": "3c3a48ff",
   "metadata": {
    "id": "3c3a48ff"
   },
   "outputs": [],
   "source": [
    "# plt.figure(figsize=(10, 10))\n",
    "# for images, labels in train_ds.take(1):\n",
    "#     for i in range(9):\n",
    "#         ax = plt.subplot(3, 3, i + 1)\n",
    "#         plt.imshow(images[i].numpy().astype(\"uint8\"))\n",
    "#         plt.title(int(labels[i]))\n",
    "#         plt.axis(\"off\")"
   ]
  },
  {
   "cell_type": "code",
   "execution_count": null,
   "id": "lYb7jQhezd-v",
   "metadata": {
    "id": "lYb7jQhezd-v"
   },
   "outputs": [],
   "source": []
  },
  {
   "cell_type": "code",
   "execution_count": null,
   "id": "44ZZ8XRHzd-w",
   "metadata": {
    "id": "44ZZ8XRHzd-w"
   },
   "outputs": [],
   "source": [
    "def show_image(img, fig_size=(4, 4)):\n",
    "    # show image\n",
    "    plt.figure(figsize=fig_size)\n",
    "    plt.imshow(img.astype('uint8'))\n",
    "    plt.show()"
   ]
  },
  {
   "cell_type": "code",
   "execution_count": null,
   "id": "99ee8aa2",
   "metadata": {
    "id": "99ee8aa2"
   },
   "outputs": [],
   "source": [
    "def lr_schedule(epoch):\n",
    "    \"\"\"Learning Rate Schedule\n",
    "\n",
    "    Learning rate is scheduled to be reduced after 80, 120, 160, 180 epochs.\n",
    "    Called automatically every epoch as part of callbacks during training.\n",
    "\n",
    "    # Arguments\n",
    "        epoch (int): The number of epochs\n",
    "\n",
    "    # Returns\n",
    "        lr (float32): learning rate\n",
    "    \"\"\"\n",
    "    lr = 1e-3\n",
    "    if epoch > 180:\n",
    "        lr *= 0.5e-3\n",
    "    elif epoch > 160:\n",
    "        lr *= 1e-3\n",
    "    elif epoch > 120:\n",
    "        lr *= 1e-2\n",
    "    elif epoch > 80:\n",
    "        lr *= 1e-1\n",
    "    print('Learning rate: ', lr)\n",
    "    return lr"
   ]
  },
  {
   "cell_type": "code",
   "execution_count": null,
   "id": "KC7guObSzd-w",
   "metadata": {
    "id": "KC7guObSzd-w"
   },
   "outputs": [],
   "source": []
  },
  {
   "cell_type": "markdown",
   "id": "5477ad8f",
   "metadata": {
    "id": "5477ad8f"
   },
   "source": [
    "## Modelling"
   ]
  },
  {
   "cell_type": "markdown",
   "id": "ZXueRvUmzd-x",
   "metadata": {
    "id": "ZXueRvUmzd-x"
   },
   "source": [
    "#### 340 K WITH DEPTHWISE"
   ]
  },
  {
   "cell_type": "code",
   "execution_count": null,
   "id": "cdGiZ0LXzd-x",
   "metadata": {
    "executionInfo": {
     "elapsed": 12,
     "status": "ok",
     "timestamp": 1646602338205,
     "user": {
      "displayName": "Rohit Lal",
      "photoUrl": "https://lh3.googleusercontent.com/a-/AOh14GjPP0CIsed5ULxQ3KSfz7pbe_dRQAL73QYKEXpf4Q=s64",
      "userId": "05637475839953982977"
     },
     "user_tz": -330
    },
    "id": "cdGiZ0LXzd-x"
   },
   "outputs": [],
   "source": [
    "model_type = '340K_With_Depthwise'"
   ]
  },
  {
   "cell_type": "code",
   "execution_count": null,
   "id": "EfxCybzHXrLn",
   "metadata": {
    "executionInfo": {
     "elapsed": 1314,
     "status": "ok",
     "timestamp": 1646602339508,
     "user": {
      "displayName": "Rohit Lal",
      "photoUrl": "https://lh3.googleusercontent.com/a-/AOh14GjPP0CIsed5ULxQ3KSfz7pbe_dRQAL73QYKEXpf4Q=s64",
      "userId": "05637475839953982977"
     },
     "user_tz": -330
    },
    "id": "EfxCybzHXrLn"
   },
   "outputs": [],
   "source": [
    "model = Sequential()\n",
    "model.add(Rescaling(1./255, input_shape=(32, 32, 3)))\n",
    "\n",
    "model.add(Conv2D(16, (3,3), dilation_rate=1, padding='same', input_shape=(32, 32, 3)))\n",
    "model.add(ReLU())\n",
    "model.add(BatchNormalization())\n",
    "\n",
    "model.add(Conv2D(32, (3,3), dilation_rate=1, padding='same', input_shape=(32, 32, 16)))\n",
    "model.add(ReLU())\n",
    "model.add(BatchNormalization())\n",
    "model.add(Dropout(0.06))\n",
    "model.add(MaxPooling2D(pool_size=(2,2)))\n",
    "\n",
    "# model.add(SeparableConv2D(32, (3,3), dilation_rate=1, padding='same', input_shape=(32, 32, 16)))\n",
    "model.add(DepthwiseConv2D(kernel_size=(3,3), dilation_rate=1, depth_multiplier=1, padding='same', input_shape=(32,32,32)))\n",
    "model.add(Conv2D(64, (1,1), dilation_rate=1, input_shape=(32, 32, 32))) # padding='same', \n",
    "model.add(ReLU())\n",
    "model.add(BatchNormalization())\n",
    "\n",
    "model.add(Conv2D(64, (3,3), dilation_rate=1, padding='same', input_shape=(32, 32, 64)))\n",
    "model.add(ReLU())\n",
    "model.add(BatchNormalization())\n",
    "model.add(Dropout(0.07))\n",
    "model.add(MaxPooling2D(pool_size=(2,2)))\n",
    "\n",
    "\n",
    "model.add(DepthwiseConv2D(kernel_size=(3,3), dilation_rate=1, depth_multiplier=1, padding='same', input_shape=(32,32,64)))\n",
    "model.add(Conv2D(96, (1,1), dilation_rate=1, input_shape=(32, 32, 64)))\n",
    "model.add(ReLU())\n",
    "model.add(BatchNormalization())\n",
    "\n",
    "model.add(Conv2D(96, (3,3), dilation_rate=2, padding='same', input_shape=(32, 32, 96)))\n",
    "model.add(ReLU())\n",
    "model.add(BatchNormalization())\n",
    "model.add(Dropout(0.07))\n",
    "model.add(MaxPooling2D(pool_size=(2,2)))\n",
    "\n",
    "model.add(DepthwiseConv2D(kernel_size=(3,3), dilation_rate=1, depth_multiplier=1, padding='same', input_shape=(32,32,96)))\n",
    "model.add(Conv2D(128, (1,1), dilation_rate=1, input_shape=(32, 32, 96)))\n",
    "model.add(ReLU())\n",
    "model.add(BatchNormalization())\n",
    "\n",
    "\n",
    "model.add(DepthwiseConv2D(kernel_size=(3,3), dilation_rate=1, depth_multiplier=1, padding='same', input_shape=(32,32,128)))\n",
    "model.add(Conv2D(192, (1,1), dilation_rate=1, input_shape=(32, 32, 128)))\n",
    "model.add(ReLU())\n",
    "model.add(BatchNormalization())\n",
    "model.add(Dropout(0.05))\n",
    "\n",
    "model.add(DepthwiseConv2D(kernel_size=(3,3), dilation_rate=1, depth_multiplier=1, padding='same', input_shape=(32,32,192)))\n",
    "model.add(Conv2D(210, (1,1), dilation_rate=1, input_shape=(32, 32, 192)))\n",
    "model.add(ReLU())\n",
    "model.add(BatchNormalization())\n",
    "\n",
    "model.add(DepthwiseConv2D(kernel_size=(3,3), dilation_rate=1, depth_multiplier=1, padding='same', input_shape=(32,32,210)))\n",
    "model.add(Conv2D(240, (1,1), dilation_rate=1, input_shape=(32, 32, 210)))\n",
    "model.add(ReLU())\n",
    "model.add(BatchNormalization())\n",
    "model.add(Dropout(0.02))\n",
    "\n",
    "\n",
    "model.add(DepthwiseConv2D(kernel_size=(3,3), dilation_rate=1, depth_multiplier=1, padding='same', input_shape=(32,32,240)))\n",
    "model.add(Conv2D(280, (1,1), dilation_rate=1, input_shape=(32, 32, 240)))\n",
    "model.add(ReLU())\n",
    "model.add(BatchNormalization())\n",
    "\n",
    "model.add(AveragePooling2D(pool_size=3))# pool_size=4\n",
    "model.add(Flatten())\n",
    "\n",
    "model.add(Dense(10))"
   ]
  },
  {
   "cell_type": "code",
   "execution_count": null,
   "id": "5d379697",
   "metadata": {
    "colab": {
     "base_uri": "https://localhost:8080/"
    },
    "executionInfo": {
     "elapsed": 1380,
     "status": "ok",
     "timestamp": 1646602359073,
     "user": {
      "displayName": "Rohit Lal",
      "photoUrl": "https://lh3.googleusercontent.com/a-/AOh14GjPP0CIsed5ULxQ3KSfz7pbe_dRQAL73QYKEXpf4Q=s64",
      "userId": "05637475839953982977"
     },
     "user_tz": -330
    },
    "id": "5d379697",
    "outputId": "09547663-52b4-41d2-e814-0018e3f8c05e"
   },
   "outputs": [],
   "source": [
    "# model.build(input_shape=(32,32,3))\n",
    "model.summary(line_length=100)"
   ]
  },
  {
   "cell_type": "code",
   "execution_count": null,
   "id": "7xLLlvVBDOWz",
   "metadata": {
    "id": "7xLLlvVBDOWz"
   },
   "outputs": [],
   "source": []
  },
  {
   "cell_type": "code",
   "execution_count": null,
   "id": "I9WPyAYRzd-y",
   "metadata": {
    "colab": {
     "base_uri": "https://localhost:8080/",
     "height": 36
    },
    "executionInfo": {
     "elapsed": 40,
     "status": "ok",
     "timestamp": 1644677294340,
     "user": {
      "displayName": "Rohit Lal",
      "photoUrl": "https://lh3.googleusercontent.com/a-/AOh14GjPP0CIsed5ULxQ3KSfz7pbe_dRQAL73QYKEXpf4Q=s64",
      "userId": "05637475839953982977"
     },
     "user_tz": -330
    },
    "id": "I9WPyAYRzd-y",
    "outputId": "b66e97cd-0984-462f-ab4a-4e0a0f0131e1"
   },
   "outputs": [],
   "source": [
    "# Prepare model model saving directory.\n",
    "save_dir = os.path.join(model_directory, 'saved_models')\n",
    "model_name = 'keras_%s_model.{epoch:03d}.h5' % model_type\n",
    "if not os.path.isdir(save_dir):\n",
    "    os.makedirs(save_dir)\n",
    "filepath = os.path.join(save_dir, model_name)\n",
    "model_name"
   ]
  },
  {
   "cell_type": "code",
   "execution_count": null,
   "id": "T0ZmkJkNzd-y",
   "metadata": {
    "id": "T0ZmkJkNzd-y"
   },
   "outputs": [],
   "source": []
  },
  {
   "cell_type": "code",
   "execution_count": null,
   "id": "zaXEdI9Tzd-y",
   "metadata": {
    "id": "zaXEdI9Tzd-y"
   },
   "outputs": [],
   "source": [
    "# Prepare callbacks for model saving and for learning rate adjustment.\n",
    "checkpoint = ModelCheckpoint(filepath=filepath,\n",
    "                             monitor='val_accuracy',\n",
    "                             verbose=1,\n",
    "                             save_best_only=True)\n",
    "\n",
    "lr_scheduler = LearningRateScheduler(lr_schedule)\n",
    "\n",
    "lr_reducer = ReduceLROnPlateau(factor=np.sqrt(0.1),\n",
    "                               cooldown=0,\n",
    "                               patience=5,\n",
    "                               min_lr=0.5e-6)\n",
    "\n",
    "early_stopper = EarlyStopping(\n",
    "    monitor=\"val_loss\",\n",
    "    min_delta=0.0001,\n",
    "    patience=100,\n",
    "    verbose=1,\n",
    "    restore_best_weights=True\n",
    "    )"
   ]
  },
  {
   "cell_type": "code",
   "execution_count": null,
   "id": "vE2M_zGLzd-z",
   "metadata": {
    "id": "vE2M_zGLzd-z"
   },
   "outputs": [],
   "source": [
    "callbacks = [checkpoint, lr_reducer, lr_scheduler, early_stopper]"
   ]
  },
  {
   "cell_type": "code",
   "execution_count": null,
   "id": "d11c16dc",
   "metadata": {
    "id": "d11c16dc"
   },
   "outputs": [],
   "source": [
    "model.compile(\n",
    "    # loss=losses.SparseCategoricalCrossentropy(),\n",
    "    # optimizer=optimizers.Adam(learning_rate=0.001),\n",
    "    loss=losses.SparseCategoricalCrossentropy(from_logits=True),\n",
    "    optimizer='adam',\n",
    "    metrics=['accuracy']\n",
    ")"
   ]
  },
  {
   "cell_type": "code",
   "execution_count": null,
   "id": "_NudnTLH6eta",
   "metadata": {
    "id": "_NudnTLH6eta"
   },
   "outputs": [],
   "source": []
  },
  {
   "cell_type": "code",
   "execution_count": null,
   "id": "d7f79ebd",
   "metadata": {
    "colab": {
     "base_uri": "https://localhost:8080/"
    },
    "executionInfo": {
     "elapsed": 2433018,
     "status": "ok",
     "timestamp": 1644679727330,
     "user": {
      "displayName": "Rohit Lal",
      "photoUrl": "https://lh3.googleusercontent.com/a-/AOh14GjPP0CIsed5ULxQ3KSfz7pbe_dRQAL73QYKEXpf4Q=s64",
      "userId": "05637475839953982977"
     },
     "user_tz": -330
    },
    "id": "d7f79ebd",
    "outputId": "c7e813c5-07e0-4ea2-adb8-01cc8e0dd92b"
   },
   "outputs": [],
   "source": [
    "history = model.fit(train_ds, epochs=epochs, validation_data=val_ds, verbose=1, callbacks=callbacks)"
   ]
  },
  {
   "cell_type": "code",
   "execution_count": null,
   "id": "UwwU3z08zbqU",
   "metadata": {
    "id": "UwwU3z08zbqU"
   },
   "outputs": [],
   "source": []
  },
  {
   "cell_type": "code",
   "execution_count": null,
   "id": "-SL1m-N9zrEN",
   "metadata": {
    "colab": {
     "base_uri": "https://localhost:8080/"
    },
    "executionInfo": {
     "elapsed": 41273,
     "status": "ok",
     "timestamp": 1644679768599,
     "user": {
      "displayName": "Rohit Lal",
      "photoUrl": "https://lh3.googleusercontent.com/a-/AOh14GjPP0CIsed5ULxQ3KSfz7pbe_dRQAL73QYKEXpf4Q=s64",
      "userId": "05637475839953982977"
     },
     "user_tz": -330
    },
    "id": "-SL1m-N9zrEN",
    "outputId": "6157fba0-df70-4a4d-aa90-f428da91184b"
   },
   "outputs": [],
   "source": [
    "scores = model.evaluate(test_ds)\n",
    "print('Test loss:', scores[0])\n",
    "print('Test accuracy:', scores[1])"
   ]
  },
  {
   "cell_type": "code",
   "execution_count": null,
   "id": "e3d77cfa",
   "metadata": {
    "id": "e3d77cfa"
   },
   "outputs": [],
   "source": []
  },
  {
   "cell_type": "markdown",
   "id": "cK-Xuti_zd-0",
   "metadata": {
    "id": "cK-Xuti_zd-0"
   },
   "source": [
    "### Save Final Model"
   ]
  },
  {
   "cell_type": "code",
   "execution_count": null,
   "id": "E7Dy9VDmzd-0",
   "metadata": {
    "id": "E7Dy9VDmzd-0"
   },
   "outputs": [],
   "source": [
    "# Save the model\n",
    "final_model_filepath = os.path.join(save_dir, f'{model_type}_final_model.h5')\n",
    "save_model(model, final_model_filepath)"
   ]
  },
  {
   "cell_type": "code",
   "execution_count": null,
   "id": "99ee4869",
   "metadata": {
    "id": "99ee4869"
   },
   "outputs": [],
   "source": []
  },
  {
   "cell_type": "markdown",
   "id": "eE-3saaRzd-0",
   "metadata": {
    "id": "eE-3saaRzd-0"
   },
   "source": [
    "### Test Predictions"
   ]
  },
  {
   "cell_type": "code",
   "execution_count": null,
   "id": "R3_o7Pkwzd-0",
   "metadata": {
    "id": "R3_o7Pkwzd-0"
   },
   "outputs": [],
   "source": [
    "# test_image = f'{test_set_directory}/silk_spot/img_01_425005700_00191.jpg'\n",
    "test_image = f'{test_set_directory}/silk_spot/img_03_4406645900_00364.jpg'\n",
    "# test_image = f'{test_set_directory}/silk_spot/img_03_3436786500_00071.jpg'\n",
    "# test_image = f'{test_set_directory}/oil_spot/img_03_3402617700_00118.jpg'"
   ]
  },
  {
   "cell_type": "code",
   "execution_count": null,
   "id": "7MvnVzpDzd-0",
   "metadata": {
    "id": "7MvnVzpDzd-0"
   },
   "outputs": [],
   "source": [
    "img = tf.keras.utils.load_img(test_image, target_size=image_size)\n",
    "img_array = tf.keras.utils.img_to_array(img)\n",
    "# show_image(img_array)"
   ]
  },
  {
   "cell_type": "code",
   "execution_count": null,
   "id": "ETP9RNcizd-1",
   "metadata": {
    "colab": {
     "base_uri": "https://localhost:8080/"
    },
    "executionInfo": {
     "elapsed": 650,
     "status": "ok",
     "timestamp": 1644679769244,
     "user": {
      "displayName": "Rohit Lal",
      "photoUrl": "https://lh3.googleusercontent.com/a-/AOh14GjPP0CIsed5ULxQ3KSfz7pbe_dRQAL73QYKEXpf4Q=s64",
      "userId": "05637475839953982977"
     },
     "user_tz": -330
    },
    "id": "ETP9RNcizd-1",
    "outputId": "fa7e05fb-9295-4fd6-91d9-5b0ede0bc1f4"
   },
   "outputs": [],
   "source": [
    "img_array = img_array/255\n",
    "img_array = tf.expand_dims(img_array, 0) # Create a batch\n",
    "predictions = model.predict(img_array)\n",
    "score = tf.nn.softmax(predictions[0])\n",
    "print(\"{} : {:.2f} %\".format(class_names[np.argmax(score)], 100 * np.max(score)))"
   ]
  },
  {
   "cell_type": "code",
   "execution_count": null,
   "id": "1f314280",
   "metadata": {
    "id": "1f314280"
   },
   "outputs": [],
   "source": []
  },
  {
   "cell_type": "markdown",
   "id": "MEELoxJqRFkC",
   "metadata": {
    "id": "MEELoxJqRFkC"
   },
   "source": [
    "### Inference Timings"
   ]
  },
  {
   "cell_type": "code",
   "execution_count": null,
   "id": "JezHkZQJzd-1",
   "metadata": {
    "colab": {
     "base_uri": "https://localhost:8080/"
    },
    "executionInfo": {
     "elapsed": 3492,
     "status": "ok",
     "timestamp": 1644679772734,
     "user": {
      "displayName": "Rohit Lal",
      "photoUrl": "https://lh3.googleusercontent.com/a-/AOh14GjPP0CIsed5ULxQ3KSfz7pbe_dRQAL73QYKEXpf4Q=s64",
      "userId": "05637475839953982977"
     },
     "user_tz": -330
    },
    "id": "JezHkZQJzd-1",
    "outputId": "40ae75bf-7e72-4a5c-d815-cae589593f9e"
   },
   "outputs": [],
   "source": [
    "# single image inference timings\n",
    "import time\n",
    "\n",
    "inference_timings = []\n",
    "\n",
    "one_batch = iter(test_ds_batch).get_next()\n",
    "\n",
    "for index, img in enumerate(one_batch[0]):\n",
    "    \n",
    "    actual_category = one_batch[1][index]\n",
    "    start_time = time.time()\n",
    "    img_array = tf.expand_dims(img, 0) # Create a batch\n",
    "    predictions = model.predict(img_array)\n",
    "    score = tf.nn.softmax(predictions[0])\n",
    "    inference_timings.append(time.time()-start_time)\n",
    "    \n",
    "#     print('Prediction time: {}'.format(time.time()-start_time))\n",
    "#     print(\"Actual: {} \\t|\\t Predicted: {} : {:.2f} %\".format(\n",
    "#         class_names[np.argmax(actual_category)],\n",
    "#         class_names[np.argmax(score)], \n",
    "#         100 * np.max(score)\n",
    "#     ))\n",
    "    \n",
    "#     break\n",
    "\n",
    "print('Average inference time: {:.2f} ms'.format(np.array(inference_timings).mean()*1000))"
   ]
  },
  {
   "cell_type": "code",
   "execution_count": null,
   "id": "x8mPdqtlzd-1",
   "metadata": {
    "colab": {
     "base_uri": "https://localhost:8080/"
    },
    "executionInfo": {
     "elapsed": 1709,
     "status": "ok",
     "timestamp": 1644679774437,
     "user": {
      "displayName": "Rohit Lal",
      "photoUrl": "https://lh3.googleusercontent.com/a-/AOh14GjPP0CIsed5ULxQ3KSfz7pbe_dRQAL73QYKEXpf4Q=s64",
      "userId": "05637475839953982977"
     },
     "user_tz": -330
    },
    "id": "x8mPdqtlzd-1",
    "outputId": "e9955bb5-b49b-492f-f547-7587e0bfae33"
   },
   "outputs": [],
   "source": [
    "# batch inference timings\n",
    "\n",
    "test_batch_id = 3\n",
    "start_time = time.time()\n",
    "one_batch = iter(test_ds_batch).get_next()\n",
    "model.predict(one_batch[0])\n",
    "end_time = time.time()-start_time\n",
    "\n",
    "print('Total Prediction time: {:.2f} ms. Per image time: {:.2f} ms'.format(\n",
    "    end_time*1000, 1000*end_time/batch_size\n",
    "    ))"
   ]
  },
  {
   "cell_type": "code",
   "execution_count": null,
   "id": "sBTbE64szd-1",
   "metadata": {
    "id": "sBTbE64szd-1"
   },
   "outputs": [],
   "source": []
  },
  {
   "cell_type": "markdown",
   "id": "NbrSwUnH3BLU",
   "metadata": {
    "id": "NbrSwUnH3BLU"
   },
   "source": [
    "### References"
   ]
  },
  {
   "cell_type": "code",
   "execution_count": null,
   "id": "a2e4a75e",
   "metadata": {
    "id": "a2e4a75e"
   },
   "outputs": [],
   "source": [
    "# from torchinfo import summary\n",
    "# import torchvision\n",
    "# import torch.nn as nn"
   ]
  },
  {
   "cell_type": "code",
   "execution_count": null,
   "id": "0482c4d8",
   "metadata": {
    "id": "0482c4d8"
   },
   "outputs": [],
   "source": [
    "# class SimpleModel(composer.models.MosaicClassifier):\n",
    "#     def __init__(self, num_classes: int):\n",
    "#         module = nn.Sequential(\n",
    "#     ################################## 1 ST CONVOLUTIONAL BLOCK #####################################  \n",
    "#             nn.Conv2d(in_channels = 3,out_channels = 16, dilation  = 1,padding = 1, kernel_size= (3,3)),                     # in 32, out 32, RF 3\n",
    "#             nn.ReLU(),\n",
    "#             nn.BatchNorm2d(16),                                                                               #26x26 /8 \n",
    "#             nn.Conv2d(in_channels = 16,out_channels = 32, dilation  = 1,padding = 1, kernel_size= (3,3)),                     # in 32, out 32, RF 3\n",
    "#             nn.ReLU(),\n",
    "#             nn.BatchNorm2d(32),\n",
    "#             nn.Dropout(0.06),\n",
    "#             nn.MaxPool2d(2, 2),\n",
    "\n",
    "\n",
    "#             nn.Conv2d(in_channels = 32,out_channels = 32,groups = 32, dilation  = 1,padding = 1,kernel_size= (3,3)),\n",
    "#             nn.Conv2d(in_channels = 32,out_channels = 64, dilation = 1,padding = 0,kernel_size= (1,1)), # 8, 8, 3  \n",
    "#             nn.ReLU(),\n",
    "#             nn.BatchNorm2d(64)  ,          \n",
    "#             nn.Conv2d(in_channels = 64,out_channels = 64, dilation  = 1,padding = 1, kernel_size= (3,3)),                     # in 16, out 16, RF 3\n",
    "#             nn.ReLU(),\n",
    "#             nn.BatchNorm2d(64),\n",
    "#             nn.Dropout(0.07),\n",
    "#             nn.MaxPool2d(2, 2),\n",
    "\n",
    "#             nn.Conv2d(in_channels = 64,out_channels = 64,groups = 64, dilation  = 1,padding = 1,kernel_size= (3,3)),        # in 8, out 8, RF ?\n",
    "#             nn.Conv2d(in_channels = 64,out_channels = 96, dilation = 1,padding = 0,kernel_size= (1,1)), # 8, 8, 3           # in 8, out 8, RF ?\n",
    "#             nn.ReLU(),\n",
    "#             nn.BatchNorm2d(96),\n",
    "#             nn.Conv2d(in_channels = 96,out_channels = 96, dilation  = 2,padding = 2, kernel_size= (3,3)),                     # in 8, out 8, RF 3\n",
    "#             nn.ReLU(),\n",
    "#             nn.BatchNorm2d(96),\n",
    "#             nn.Dropout(0.07),\n",
    "#             nn.MaxPool2d(2, 2),\n",
    "\n",
    "\n",
    "#             nn.Conv2d(in_channels = 96,out_channels = 96, groups = 96, dilation  = 1,padding = 1,kernel_size= (3,3)),    # in 4, out 4, RF ?\n",
    "#             nn.Conv2d(in_channels = 96,out_channels = 128, dilation  = 1,padding = 0,kernel_size= (1,1)),                  # in 4, out 4, RF ?\n",
    "#             nn.ReLU(),\n",
    "#             nn.BatchNorm2d(128),\n",
    "#             nn.Conv2d(in_channels = 128,out_channels = 128, groups = 128, dilation  = 1,padding = 1,kernel_size= (3,3)),    # in 4, out 4,, RF ?\n",
    "#             nn.Conv2d(in_channels = 128,out_channels = 192, dilation  = 1,padding = 0,kernel_size= (1,1)),                  # in 4, out 4, RF ?\n",
    "#             nn.ReLU(),\n",
    "#             nn.BatchNorm2d(192),\n",
    "#             nn.Dropout(0.05),\n",
    "            \n",
    "#             nn.Conv2d(in_channels = 192,out_channels = 192, groups = 192, dilation  = 1,padding = 1,kernel_size= (3,3)),    # in 4, out 4,, RF ?\n",
    "#             nn.Conv2d(in_channels = 192,out_channels = 210, dilation  = 1,padding = 0,kernel_size= (1,1)),                  # in 4, out 4, RF ?\n",
    "#             nn.ReLU(),\n",
    "#             nn.BatchNorm2d(210),            \n",
    "#             nn.Conv2d(in_channels = 210,out_channels = 210, groups = 210, dilation  = 1,padding = 1,kernel_size= (3,3)),    # in 4, out 4,, RF ?\n",
    "#             nn.Conv2d(in_channels = 210,out_channels = 240, dilation  = 1,padding = 0,kernel_size= (1,1)),                  # in 4, out 4, RF ?\n",
    "#             nn.ReLU(),\n",
    "#             nn.BatchNorm2d(240),\n",
    "#             nn.Dropout(0.02),\n",
    "\n",
    "#             nn.Conv2d(in_channels = 240,out_channels = 240, groups = 240, dilation  = 1,padding = 1,kernel_size= (3,3)),    # in 4, out 4,, RF ?\n",
    "#             nn.Conv2d(in_channels = 240,out_channels = 280, dilation  = 1,padding = 0,kernel_size= (1,1)),                  # in 4, out 4, RF ?\n",
    "#             nn.ReLU(),\n",
    "#             nn.BatchNorm2d(280),\n",
    "\n",
    "#             nn.AvgPool2d(kernel_size=4),                                                                      #1x1/15\n",
    "#             nn.Flatten(),\n",
    "#             nn.Linear(280,10)\n",
    "#         )\n",
    "#         self.num_classes = num_classes\n",
    "#         super().__init__(module=module)"
   ]
  },
  {
   "cell_type": "code",
   "execution_count": null,
   "id": "73f556b3",
   "metadata": {
    "id": "73f556b3"
   },
   "outputs": [],
   "source": [
    "# summary(m,input_size = (1,3,32,32))"
   ]
  },
  {
   "cell_type": "code",
   "execution_count": null,
   "id": "3088c505",
   "metadata": {
    "id": "3088c505"
   },
   "outputs": [],
   "source": []
  }
 ],
 "metadata": {
  "colab": {
   "collapsed_sections": [
    "cK-Xuti_zd-0",
    "eE-3saaRzd-0"
   ],
   "name": "keras_implementation_340K_With_DEPTHWISE.ipynb",
   "provenance": [
    {
     "file_id": "1WYWDELrzhXL2IohudKr9qhrrYX7v-sIN",
     "timestamp": 1644428971029
    }
   ]
  },
  "kernelspec": {
   "display_name": "Python 3",
   "language": "python",
   "name": "python3"
  },
  "language_info": {
   "codemirror_mode": {
    "name": "ipython",
    "version": 3
   },
   "file_extension": ".py",
   "mimetype": "text/x-python",
   "name": "python",
   "nbconvert_exporter": "python",
   "pygments_lexer": "ipython3",
   "version": "3.8.8"
  }
 },
 "nbformat": 4,
 "nbformat_minor": 5
}
