{
 "cells": [
  {
   "cell_type": "code",
   "execution_count": null,
   "id": "990fab5f",
   "metadata": {
    "executionInfo": {
     "elapsed": 3795,
     "status": "ok",
     "timestamp": 1646602693206,
     "user": {
      "displayName": "Rohit Lal",
      "photoUrl": "https://lh3.googleusercontent.com/a-/AOh14GjPP0CIsed5ULxQ3KSfz7pbe_dRQAL73QYKEXpf4Q=s64",
      "userId": "05637475839953982977"
     },
     "user_tz": -330
    },
    "id": "990fab5f"
   },
   "outputs": [],
   "source": [
    "# from numpy import loadtxt\n",
    "from tensorflow.keras.models import Sequential\n",
    "from tensorflow.keras.layers import Rescaling, Dense, Conv2D, BatchNormalization, Dropout, MaxPooling2D, ReLU, AveragePooling2D, Flatten\n",
    "from tensorflow.keras import losses, optimizers\n",
    "from tensorflow.keras.preprocessing.image import ImageDataGenerator\n",
    "from tensorflow.keras.callbacks import ModelCheckpoint, LearningRateScheduler, ReduceLROnPlateau, EarlyStopping\n",
    "from tensorflow.keras.models import Sequential, save_model, load_model\n",
    "\n",
    "from sklearn.metrics import classification_report,confusion_matrix\n",
    "import tensorflow as tf\n",
    "\n",
    "import matplotlib.pyplot as plt\n",
    "import os\n",
    "import numpy as np"
   ]
  },
  {
   "cell_type": "code",
   "execution_count": null,
   "id": "73bdbb05",
   "metadata": {
    "colab": {
     "base_uri": "https://localhost:8080/",
     "height": 35
    },
    "executionInfo": {
     "elapsed": 16,
     "status": "ok",
     "timestamp": 1646602693206,
     "user": {
      "displayName": "Rohit Lal",
      "photoUrl": "https://lh3.googleusercontent.com/a-/AOh14GjPP0CIsed5ULxQ3KSfz7pbe_dRQAL73QYKEXpf4Q=s64",
      "userId": "05637475839953982977"
     },
     "user_tz": -330
    },
    "id": "73bdbb05",
    "outputId": "a843fb69-148b-4932-cb4e-860b6ba7b840"
   },
   "outputs": [],
   "source": [
    "tf.__version__"
   ]
  },
  {
   "cell_type": "code",
   "execution_count": null,
   "id": "ozx4zuHvXgMJ",
   "metadata": {
    "colab": {
     "base_uri": "https://localhost:8080/"
    },
    "executionInfo": {
     "elapsed": 917,
     "status": "ok",
     "timestamp": 1645079311070,
     "user": {
      "displayName": "Rohit Lal",
      "photoUrl": "https://lh3.googleusercontent.com/a-/AOh14GjPP0CIsed5ULxQ3KSfz7pbe_dRQAL73QYKEXpf4Q=s64",
      "userId": "05637475839953982977"
     },
     "user_tz": -330
    },
    "id": "ozx4zuHvXgMJ",
    "outputId": "efb833de-d449-4d81-8fbf-9d51c189ac88"
   },
   "outputs": [],
   "source": [
    "!nvidia-smi"
   ]
  },
  {
   "cell_type": "code",
   "execution_count": null,
   "id": "f0f1b6ee",
   "metadata": {
    "executionInfo": {
     "elapsed": 13,
     "status": "ok",
     "timestamp": 1646602693207,
     "user": {
      "displayName": "Rohit Lal",
      "photoUrl": "https://lh3.googleusercontent.com/a-/AOh14GjPP0CIsed5ULxQ3KSfz7pbe_dRQAL73QYKEXpf4Q=s64",
      "userId": "05637475839953982977"
     },
     "user_tz": -330
    },
    "id": "f0f1b6ee"
   },
   "outputs": [],
   "source": [
    "image_size = (32, 32)\n",
    "batch_size = 50\n",
    "epochs = 200"
   ]
  },
  {
   "cell_type": "code",
   "execution_count": null,
   "id": "ZzGCAl2yzgzs",
   "metadata": {
    "id": "ZzGCAl2yzgzs"
   },
   "outputs": [],
   "source": [
    "# from google.colab import drive \n",
    "# drive.mount('/content/drive/')\n",
    "\n",
    "# !ls \"/content/drive/MyDrive/Colab Notebooks/Masters\""
   ]
  },
  {
   "cell_type": "code",
   "execution_count": null,
   "id": "HGUEFyGHzd-o",
   "metadata": {
    "id": "HGUEFyGHzd-o"
   },
   "outputs": [],
   "source": [
    "base_dir = '/media/ext_mount/Project/BuildingCNN'\n",
    "# base_dir = '/content/drive/MyDrive/Colab Notebooks/Masters'\n",
    "\n",
    "raw_dataset_directory = f\"{base_dir}/Dataset/GC10-DET/images\"\n",
    "dataset_directory = f'{base_dir}/Dataset/GC10-DET/dataset'\n",
    "\n",
    "train_set_directory = f'{dataset_directory}/train'\n",
    "test_set_directory = f'{dataset_directory}/test'\n",
    "\n",
    "model_directory = f'{base_dir}/models/custom_cnn_600K'"
   ]
  },
  {
   "cell_type": "code",
   "execution_count": null,
   "id": "xme06Eb6p-lr",
   "metadata": {
    "id": "xme06Eb6p-lr"
   },
   "outputs": [],
   "source": []
  },
  {
   "cell_type": "markdown",
   "id": "PeFt5enOErx_",
   "metadata": {
    "id": "PeFt5enOErx_"
   },
   "source": [
    "**Preparing Dataset**"
   ]
  },
  {
   "cell_type": "code",
   "execution_count": null,
   "id": "4qnvUOQ5ozoA",
   "metadata": {
    "id": "4qnvUOQ5ozoA"
   },
   "outputs": [],
   "source": [
    "# !unzip \"/content/drive/My Drive/Colab Notebooks/Masters/GC10-DET.zip\" -d \"/content/drive/My Drive/Colab Notebooks/Masters/GC10-DET\"\n",
    "# !pip install split-folders "
   ]
  },
  {
   "cell_type": "code",
   "execution_count": null,
   "id": "ggr9ogEYDgp-",
   "metadata": {
    "id": "ggr9ogEYDgp-"
   },
   "outputs": [],
   "source": [
    "# import splitfolders\n",
    "# splitfolders.ratio(raw_dataset_directory, output=dataset_directory, seed=555, ratio=(.9, .1), group_prefix=None)"
   ]
  },
  {
   "cell_type": "code",
   "execution_count": null,
   "id": "N31vNPn0EikI",
   "metadata": {
    "id": "N31vNPn0EikI"
   },
   "outputs": [],
   "source": []
  },
  {
   "cell_type": "code",
   "execution_count": null,
   "id": "3822bd83",
   "metadata": {
    "colab": {
     "base_uri": "https://localhost:8080/"
    },
    "executionInfo": {
     "elapsed": 752,
     "status": "ok",
     "timestamp": 1644429801936,
     "user": {
      "displayName": "Rohit Lal",
      "photoUrl": "https://lh3.googleusercontent.com/a-/AOh14GjPP0CIsed5ULxQ3KSfz7pbe_dRQAL73QYKEXpf4Q=s64",
      "userId": "05637475839953982977"
     },
     "user_tz": -330
    },
    "id": "3822bd83",
    "outputId": "186305f1-72db-42c8-e9a1-1a7009db1709"
   },
   "outputs": [],
   "source": [
    "train_ds_batch = tf.keras.preprocessing.image_dataset_from_directory(train_set_directory,\n",
    "    validation_split=0.1,\n",
    "    subset=\"training\",\n",
    "    seed=555,\n",
    "    image_size=image_size,\n",
    "    batch_size=batch_size,\n",
    ")\n",
    "train_ds = train_ds_batch.prefetch(buffer_size=32)"
   ]
  },
  {
   "cell_type": "code",
   "execution_count": null,
   "id": "9c964093",
   "metadata": {
    "colab": {
     "base_uri": "https://localhost:8080/"
    },
    "executionInfo": {
     "elapsed": 9,
     "status": "ok",
     "timestamp": 1644429801937,
     "user": {
      "displayName": "Rohit Lal",
      "photoUrl": "https://lh3.googleusercontent.com/a-/AOh14GjPP0CIsed5ULxQ3KSfz7pbe_dRQAL73QYKEXpf4Q=s64",
      "userId": "05637475839953982977"
     },
     "user_tz": -330
    },
    "id": "9c964093",
    "outputId": "d0be88eb-ca4e-4c2d-ba93-5ca5e8089b9b"
   },
   "outputs": [],
   "source": [
    "val_ds_batch = tf.keras.preprocessing.image_dataset_from_directory(train_set_directory,\n",
    "    validation_split=0.1,\n",
    "    subset=\"validation\",\n",
    "    seed=555,\n",
    "    image_size=image_size,\n",
    "    batch_size=batch_size,\n",
    ")\n",
    "val_ds = val_ds_batch.prefetch(buffer_size=32)"
   ]
  },
  {
   "cell_type": "code",
   "execution_count": null,
   "id": "uWnbOldlFSDk",
   "metadata": {
    "colab": {
     "base_uri": "https://localhost:8080/"
    },
    "executionInfo": {
     "elapsed": 7,
     "status": "ok",
     "timestamp": 1644429801937,
     "user": {
      "displayName": "Rohit Lal",
      "photoUrl": "https://lh3.googleusercontent.com/a-/AOh14GjPP0CIsed5ULxQ3KSfz7pbe_dRQAL73QYKEXpf4Q=s64",
      "userId": "05637475839953982977"
     },
     "user_tz": -330
    },
    "id": "uWnbOldlFSDk",
    "outputId": "dbae0f38-4d1d-4b76-d51c-64f2686d2f69"
   },
   "outputs": [],
   "source": [
    "test_ds_batch = tf.keras.preprocessing.image_dataset_from_directory(test_set_directory,\n",
    "    # validation_split=0.1,\n",
    "    # subset=\"validation\",\n",
    "    seed=555,\n",
    "    image_size=image_size,\n",
    "    batch_size=batch_size,\n",
    ")\n",
    "test_ds = test_ds_batch.prefetch(buffer_size=32)"
   ]
  },
  {
   "cell_type": "code",
   "execution_count": null,
   "id": "21oMIrBSAJfV",
   "metadata": {
    "colab": {
     "base_uri": "https://localhost:8080/"
    },
    "executionInfo": {
     "elapsed": 7,
     "status": "ok",
     "timestamp": 1644429801938,
     "user": {
      "displayName": "Rohit Lal",
      "photoUrl": "https://lh3.googleusercontent.com/a-/AOh14GjPP0CIsed5ULxQ3KSfz7pbe_dRQAL73QYKEXpf4Q=s64",
      "userId": "05637475839953982977"
     },
     "user_tz": -330
    },
    "id": "21oMIrBSAJfV",
    "outputId": "087c4ce6-9661-4610-c1f5-26e4863b0c7d"
   },
   "outputs": [],
   "source": [
    "class_names = train_ds_batch.class_names\n",
    "class_names"
   ]
  },
  {
   "cell_type": "code",
   "execution_count": null,
   "id": "3c3a48ff",
   "metadata": {
    "id": "3c3a48ff"
   },
   "outputs": [],
   "source": [
    "# plt.figure(figsize=(10, 10))\n",
    "# for images, labels in train_ds.take(1):\n",
    "#     for i in range(9):\n",
    "#         ax = plt.subplot(3, 3, i + 1)\n",
    "#         plt.imshow(images[i].numpy().astype(\"uint8\"))\n",
    "#         plt.title(int(labels[i]))\n",
    "#         plt.axis(\"off\")"
   ]
  },
  {
   "cell_type": "code",
   "execution_count": null,
   "id": "lYb7jQhezd-v",
   "metadata": {
    "id": "lYb7jQhezd-v"
   },
   "outputs": [],
   "source": []
  },
  {
   "cell_type": "code",
   "execution_count": null,
   "id": "44ZZ8XRHzd-w",
   "metadata": {
    "id": "44ZZ8XRHzd-w"
   },
   "outputs": [],
   "source": [
    "def show_image(img, fig_size=(4, 4)):\n",
    "    # show image\n",
    "    plt.figure(figsize=fig_size)\n",
    "    plt.imshow(img.astype('uint8'))\n",
    "    plt.show()"
   ]
  },
  {
   "cell_type": "code",
   "execution_count": null,
   "id": "99ee8aa2",
   "metadata": {
    "id": "99ee8aa2"
   },
   "outputs": [],
   "source": [
    "def lr_schedule(epoch):\n",
    "    \"\"\"Learning Rate Schedule\n",
    "\n",
    "    Learning rate is scheduled to be reduced after 80, 120, 160, 180 epochs.\n",
    "    Called automatically every epoch as part of callbacks during training.\n",
    "\n",
    "    # Arguments\n",
    "        epoch (int): The number of epochs\n",
    "\n",
    "    # Returns\n",
    "        lr (float32): learning rate\n",
    "    \"\"\"\n",
    "    lr = 1e-3\n",
    "    if epoch > 180:\n",
    "        lr *= 0.5e-3\n",
    "    elif epoch > 160:\n",
    "        lr *= 1e-3\n",
    "    elif epoch > 120:\n",
    "        lr *= 1e-2\n",
    "    elif epoch > 80:\n",
    "        lr *= 1e-1\n",
    "    print('Learning rate: ', lr)\n",
    "    return lr"
   ]
  },
  {
   "cell_type": "code",
   "execution_count": null,
   "id": "KC7guObSzd-w",
   "metadata": {
    "id": "KC7guObSzd-w"
   },
   "outputs": [],
   "source": []
  },
  {
   "cell_type": "markdown",
   "id": "5477ad8f",
   "metadata": {
    "id": "5477ad8f"
   },
   "source": [
    "## Modelling"
   ]
  },
  {
   "cell_type": "markdown",
   "id": "ZXueRvUmzd-x",
   "metadata": {
    "id": "ZXueRvUmzd-x"
   },
   "source": [
    "#### 600 K WITHOUT DEPTHWISE"
   ]
  },
  {
   "cell_type": "code",
   "execution_count": null,
   "id": "cdGiZ0LXzd-x",
   "metadata": {
    "executionInfo": {
     "elapsed": 551,
     "status": "ok",
     "timestamp": 1646602701777,
     "user": {
      "displayName": "Rohit Lal",
      "photoUrl": "https://lh3.googleusercontent.com/a-/AOh14GjPP0CIsed5ULxQ3KSfz7pbe_dRQAL73QYKEXpf4Q=s64",
      "userId": "05637475839953982977"
     },
     "user_tz": -330
    },
    "id": "cdGiZ0LXzd-x"
   },
   "outputs": [],
   "source": [
    "model_type = '600K_WO_Depthwise'"
   ]
  },
  {
   "cell_type": "code",
   "execution_count": null,
   "id": "95ba2620",
   "metadata": {
    "executionInfo": {
     "elapsed": 1137,
     "status": "ok",
     "timestamp": 1646602704178,
     "user": {
      "displayName": "Rohit Lal",
      "photoUrl": "https://lh3.googleusercontent.com/a-/AOh14GjPP0CIsed5ULxQ3KSfz7pbe_dRQAL73QYKEXpf4Q=s64",
      "userId": "05637475839953982977"
     },
     "user_tz": -330
    },
    "id": "95ba2620"
   },
   "outputs": [],
   "source": [
    "model = Sequential()\n",
    "model.add(Rescaling(1./255, input_shape=(32, 32, 3)))\n",
    "\n",
    "model.add(Conv2D(16, (3,3), dilation_rate=1, padding='same', strides=1, input_shape=(32, 32, 3))) # activation='relu'\n",
    "model.add(ReLU())\n",
    "model.add(BatchNormalization())\n",
    "\n",
    "model.add(Conv2D(32, (3,3), dilation_rate=1, padding='same', strides=1, input_shape=(32, 32, 16)))\n",
    "model.add(ReLU())\n",
    "model.add(BatchNormalization())\n",
    "\n",
    "model.add(Conv2D(32, (3,3), dilation_rate=1, padding='same', strides=1, input_shape=(32, 32, 32)))\n",
    "model.add(ReLU())\n",
    "model.add(BatchNormalization())\n",
    "model.add(Dropout(0.06))\n",
    "model.add(MaxPooling2D(pool_size=(2,2)))\n",
    "\n",
    "model.add(Conv2D(64, (3,3), dilation_rate=1, padding='same', strides=1, input_shape=(32, 32, 32)))\n",
    "model.add(ReLU())\n",
    "model.add(BatchNormalization())\n",
    "\n",
    "model.add(Conv2D(64, (3,3), dilation_rate=1, padding='same', strides=1, input_shape=(32, 32, 64)))\n",
    "model.add(ReLU())\n",
    "model.add(BatchNormalization())\n",
    "model.add(Dropout(0.07))\n",
    "model.add(MaxPooling2D(pool_size=(2,2)))\n",
    "\n",
    "model.add(Conv2D(128, (3,3), dilation_rate=1, padding='same', strides=1, input_shape=(32, 32, 64)))\n",
    "model.add(ReLU())\n",
    "model.add(BatchNormalization())\n",
    "\n",
    "model.add(Conv2D(128, (3,3), dilation_rate=1, padding='same', strides=2, input_shape=(32, 32, 128)))\n",
    "model.add(ReLU())\n",
    "model.add(BatchNormalization())\n",
    "model.add(Dropout(0.07))\n",
    "model.add(MaxPooling2D(pool_size=(2,2)))\n",
    "\n",
    "model.add(Conv2D(256, (3,3), dilation_rate=1, padding='same', strides=1, input_shape=(32, 32, 128)))\n",
    "model.add(ReLU())\n",
    "model.add(BatchNormalization())\n",
    "\n",
    "model.add(AveragePooling2D())# pool_size=4\n",
    "model.add(Flatten())\n",
    "\n",
    "model.add(Dense(10))"
   ]
  },
  {
   "cell_type": "code",
   "execution_count": null,
   "id": "5d379697",
   "metadata": {
    "colab": {
     "base_uri": "https://localhost:8080/"
    },
    "executionInfo": {
     "elapsed": 1093,
     "status": "ok",
     "timestamp": 1646602711585,
     "user": {
      "displayName": "Rohit Lal",
      "photoUrl": "https://lh3.googleusercontent.com/a-/AOh14GjPP0CIsed5ULxQ3KSfz7pbe_dRQAL73QYKEXpf4Q=s64",
      "userId": "05637475839953982977"
     },
     "user_tz": -330
    },
    "id": "5d379697",
    "outputId": "f8755ffe-1809-4f6d-93f9-bd5a458b7091"
   },
   "outputs": [],
   "source": [
    "# model.build(input_shape=(32,32,3))\n",
    "model.summary(line_length=100)"
   ]
  },
  {
   "cell_type": "code",
   "execution_count": null,
   "id": "I9WPyAYRzd-y",
   "metadata": {
    "id": "I9WPyAYRzd-y"
   },
   "outputs": [],
   "source": [
    "# Prepare model model saving directory.\n",
    "save_dir = os.path.join(model_directory, 'saved_models')\n",
    "model_name = 'keras_%s_model.{epoch:03d}.h5' % model_type\n",
    "if not os.path.isdir(save_dir):\n",
    "    os.makedirs(save_dir)\n",
    "filepath = os.path.join(save_dir, model_name)"
   ]
  },
  {
   "cell_type": "code",
   "execution_count": null,
   "id": "T0ZmkJkNzd-y",
   "metadata": {
    "id": "T0ZmkJkNzd-y"
   },
   "outputs": [],
   "source": []
  },
  {
   "cell_type": "code",
   "execution_count": null,
   "id": "zaXEdI9Tzd-y",
   "metadata": {
    "id": "zaXEdI9Tzd-y"
   },
   "outputs": [],
   "source": [
    "# Prepare callbacks for model saving and for learning rate adjustment.\n",
    "checkpoint = ModelCheckpoint(filepath=filepath,\n",
    "                             monitor='val_accuracy',\n",
    "                             verbose=1,\n",
    "                             save_best_only=True)\n",
    "\n",
    "lr_scheduler = LearningRateScheduler(lr_schedule)\n",
    "\n",
    "lr_reducer = ReduceLROnPlateau(factor=np.sqrt(0.1),\n",
    "                               cooldown=0,\n",
    "                               patience=5,\n",
    "                               min_lr=0.5e-6)\n",
    "\n",
    "early_stopper = EarlyStopping(\n",
    "    monitor=\"val_loss\",\n",
    "    min_delta=0.0001,\n",
    "    patience=100,\n",
    "    verbose=1,\n",
    "    restore_best_weights=True\n",
    "    )"
   ]
  },
  {
   "cell_type": "code",
   "execution_count": null,
   "id": "vE2M_zGLzd-z",
   "metadata": {
    "id": "vE2M_zGLzd-z"
   },
   "outputs": [],
   "source": [
    "callbacks = [checkpoint, lr_reducer, lr_scheduler, early_stopper]"
   ]
  },
  {
   "cell_type": "code",
   "execution_count": null,
   "id": "d11c16dc",
   "metadata": {
    "id": "d11c16dc"
   },
   "outputs": [],
   "source": [
    "model.compile(\n",
    "    # loss=losses.SparseCategoricalCrossentropy(),\n",
    "    # optimizer=optimizers.Adam(learning_rate=0.001),\n",
    "    loss=losses.SparseCategoricalCrossentropy(from_logits=True),\n",
    "    optimizer='adam',\n",
    "    metrics=['accuracy']\n",
    ")"
   ]
  },
  {
   "cell_type": "code",
   "execution_count": null,
   "id": "_NudnTLH6eta",
   "metadata": {
    "id": "_NudnTLH6eta"
   },
   "outputs": [],
   "source": []
  },
  {
   "cell_type": "code",
   "execution_count": null,
   "id": "d7f79ebd",
   "metadata": {
    "colab": {
     "base_uri": "https://localhost:8080/"
    },
    "executionInfo": {
     "elapsed": 5443554,
     "status": "ok",
     "timestamp": 1644435247049,
     "user": {
      "displayName": "Rohit Lal",
      "photoUrl": "https://lh3.googleusercontent.com/a-/AOh14GjPP0CIsed5ULxQ3KSfz7pbe_dRQAL73QYKEXpf4Q=s64",
      "userId": "05637475839953982977"
     },
     "user_tz": -330
    },
    "id": "d7f79ebd",
    "outputId": "9884e166-297b-44c7-a6ba-b8d93d271acc"
   },
   "outputs": [],
   "source": [
    "history = model.fit(train_ds, epochs=epochs, validation_data=val_ds, verbose=1, callbacks=callbacks)"
   ]
  },
  {
   "cell_type": "code",
   "execution_count": null,
   "id": "UwwU3z08zbqU",
   "metadata": {
    "id": "UwwU3z08zbqU"
   },
   "outputs": [],
   "source": []
  },
  {
   "cell_type": "code",
   "execution_count": null,
   "id": "-SL1m-N9zrEN",
   "metadata": {
    "colab": {
     "base_uri": "https://localhost:8080/"
    },
    "executionInfo": {
     "elapsed": 27426,
     "status": "ok",
     "timestamp": 1644435274465,
     "user": {
      "displayName": "Rohit Lal",
      "photoUrl": "https://lh3.googleusercontent.com/a-/AOh14GjPP0CIsed5ULxQ3KSfz7pbe_dRQAL73QYKEXpf4Q=s64",
      "userId": "05637475839953982977"
     },
     "user_tz": -330
    },
    "id": "-SL1m-N9zrEN",
    "outputId": "3759b150-f25b-4b73-81b3-73d979b9850e"
   },
   "outputs": [],
   "source": [
    "scores = model.evaluate(test_ds)\n",
    "print('Test loss:', scores[0])\n",
    "print('Test accuracy:', scores[1])"
   ]
  },
  {
   "cell_type": "code",
   "execution_count": null,
   "id": "e3d77cfa",
   "metadata": {
    "id": "e3d77cfa"
   },
   "outputs": [],
   "source": []
  },
  {
   "cell_type": "markdown",
   "id": "cK-Xuti_zd-0",
   "metadata": {
    "id": "cK-Xuti_zd-0"
   },
   "source": [
    "### Save Final Model"
   ]
  },
  {
   "cell_type": "code",
   "execution_count": null,
   "id": "E7Dy9VDmzd-0",
   "metadata": {
    "id": "E7Dy9VDmzd-0"
   },
   "outputs": [],
   "source": [
    "# Save the model\n",
    "final_model_filepath = os.path.join(save_dir, f'{model_type}_final_model.h5')\n",
    "# save_model(model, final_model_filepath)\n",
    "\n",
    "model = load_model(final_model_filepath)"
   ]
  },
  {
   "cell_type": "code",
   "execution_count": null,
   "id": "99ee4869",
   "metadata": {
    "id": "99ee4869"
   },
   "outputs": [],
   "source": []
  },
  {
   "cell_type": "markdown",
   "id": "eE-3saaRzd-0",
   "metadata": {
    "id": "eE-3saaRzd-0"
   },
   "source": [
    "### Test Predictions"
   ]
  },
  {
   "cell_type": "code",
   "execution_count": null,
   "id": "R3_o7Pkwzd-0",
   "metadata": {
    "id": "R3_o7Pkwzd-0"
   },
   "outputs": [],
   "source": [
    "# test_image = f'{test_set_directory}/silk_spot/img_01_425005700_00191.jpg'\n",
    "test_image = f'{test_set_directory}/silk_spot/img_03_4406645900_00364.jpg'\n",
    "# test_image = f'{test_set_directory}/silk_spot/img_03_3436786500_00071.jpg'\n",
    "# test_image = f'{test_set_directory}/oil_spot/img_03_3402617700_00118.jpg'"
   ]
  },
  {
   "cell_type": "code",
   "execution_count": null,
   "id": "7MvnVzpDzd-0",
   "metadata": {
    "id": "7MvnVzpDzd-0"
   },
   "outputs": [],
   "source": [
    "img = tf.keras.utils.load_img(test_image, target_size=image_size)\n",
    "img_array = tf.keras.utils.img_to_array(img)\n",
    "# show_image(img_array)"
   ]
  },
  {
   "cell_type": "code",
   "execution_count": null,
   "id": "ETP9RNcizd-1",
   "metadata": {
    "colab": {
     "base_uri": "https://localhost:8080/"
    },
    "executionInfo": {
     "elapsed": 1130,
     "status": "ok",
     "timestamp": 1644435276272,
     "user": {
      "displayName": "Rohit Lal",
      "photoUrl": "https://lh3.googleusercontent.com/a-/AOh14GjPP0CIsed5ULxQ3KSfz7pbe_dRQAL73QYKEXpf4Q=s64",
      "userId": "05637475839953982977"
     },
     "user_tz": -330
    },
    "id": "ETP9RNcizd-1",
    "outputId": "1653585b-ae1b-41de-a8ad-158798cd5c54"
   },
   "outputs": [],
   "source": [
    "img_array = img_array/255\n",
    "img_array = tf.expand_dims(img_array, 0) # Create a batch\n",
    "predictions = model.predict(img_array)\n",
    "score = tf.nn.softmax(predictions[0])\n",
    "print(\"{} : {:.2f} %\".format(class_names[np.argmax(score)], 100 * np.max(score)))"
   ]
  },
  {
   "cell_type": "code",
   "execution_count": null,
   "id": "1f314280",
   "metadata": {
    "id": "1f314280"
   },
   "outputs": [],
   "source": []
  },
  {
   "cell_type": "markdown",
   "id": "MEELoxJqRFkC",
   "metadata": {
    "id": "MEELoxJqRFkC"
   },
   "source": [
    "### Inference Timings"
   ]
  },
  {
   "cell_type": "code",
   "execution_count": null,
   "id": "js6RgdpjXcCR",
   "metadata": {
    "id": "js6RgdpjXcCR"
   },
   "outputs": [],
   "source": [
    "import time"
   ]
  },
  {
   "cell_type": "code",
   "execution_count": null,
   "id": "JezHkZQJzd-1",
   "metadata": {
    "id": "JezHkZQJzd-1",
    "outputId": "6b9d67a7-9f80-473b-ed5d-c016419acbd3"
   },
   "outputs": [],
   "source": [
    "# single image inference timings\n",
    "inference_timings = []\n",
    "\n",
    "one_batch = iter(test_ds_batch).get_next()\n",
    "\n",
    "for index, img in enumerate(one_batch[0]):\n",
    "    \n",
    "    actual_category = one_batch[1][index]\n",
    "    start_time = time.time()\n",
    "    img_array = tf.expand_dims(img, 0) # Create a batch\n",
    "    predictions = model.predict(img_array)\n",
    "    score = tf.nn.softmax(predictions[0])\n",
    "    inference_timings.append(time.time()-start_time)\n",
    "        \n",
    "#     print('Prediction time: {}'.format(time.time()-start_time))\n",
    "#     print(\"Actual: {} \\t|\\t Predicted: {} : {:.2f} %\".format(\n",
    "#         class_names[actual_category],\n",
    "#         class_names[np.argmax(score)], \n",
    "#         100 * np.max(score)\n",
    "#     ))\n",
    "#     break\n",
    "\n",
    "print('Average inference time: {:.2f} ms'.format(np.array(inference_timings).mean()*1000))"
   ]
  },
  {
   "cell_type": "code",
   "execution_count": null,
   "id": "x8mPdqtlzd-1",
   "metadata": {
    "id": "x8mPdqtlzd-1",
    "outputId": "954c8926-da41-480d-bae2-0f27a293b25a"
   },
   "outputs": [],
   "source": [
    "# batch inference timings\n",
    "\n",
    "test_batch_id = 3\n",
    "start_time = time.time()\n",
    "one_batch = iter(test_ds_batch).get_next()\n",
    "model.predict(one_batch[0])\n",
    "end_time = time.time()-start_time\n",
    "\n",
    "print('Total Prediction time: {:.2f} ms. Per image time: {:.2f} ms'.format(\n",
    "    end_time*1000, 1000*end_time/batch_size\n",
    "    ))"
   ]
  },
  {
   "cell_type": "code",
   "execution_count": null,
   "id": "sBTbE64szd-1",
   "metadata": {
    "id": "sBTbE64szd-1"
   },
   "outputs": [],
   "source": []
  },
  {
   "cell_type": "markdown",
   "id": "NbrSwUnH3BLU",
   "metadata": {
    "id": "NbrSwUnH3BLU"
   },
   "source": [
    "### **References**"
   ]
  },
  {
   "cell_type": "code",
   "execution_count": null,
   "id": "a2e4a75e",
   "metadata": {
    "id": "a2e4a75e"
   },
   "outputs": [],
   "source": [
    "# from torchinfo import summary\n",
    "# import torchvision\n",
    "# import torch.nn as nn"
   ]
  },
  {
   "cell_type": "code",
   "execution_count": null,
   "id": "0482c4d8",
   "metadata": {
    "id": "0482c4d8"
   },
   "outputs": [],
   "source": [
    "# class SimpleModel(composer.models.MosaicClassifier):\n",
    "#     def __init__(self, num_classes: int):\n",
    "#         module = nn.Sequential(\n",
    "#     ################################## 1 ST CONVOLUTIONAL BLOCK #####################################  \n",
    "\n",
    "#             nn.Conv2d(in_channels = 3,out_channels = 16, dilation  = 1,padding = 1, kernel_size= (3,3)),                     # in 32, out 32, RF 3\n",
    "#             nn.ReLU(),\n",
    "#             nn.BatchNorm2d(16),\n",
    "#             nn.Conv2d(in_channels = 16,out_channels = 32, dilation  = 1,padding = 1, kernel_size= (3,3)),                     # in 32, out 32, RF 3\n",
    "#             nn.ReLU(),\n",
    "#             nn.BatchNorm2d(32),\n",
    "#             nn.Conv2d(in_channels = 32,out_channels = 32, dilation  = 1,padding = 1, kernel_size= (3,3)),                     # in 32, out 32, RF 3\n",
    "#             nn.ReLU(),\n",
    "#             nn.BatchNorm2d(32),\n",
    "#             nn.Dropout(0.06),\n",
    "#             nn.MaxPool2d(2, 2),\n",
    "#             nn.Conv2d(in_channels = 32,out_channels = 64, dilation  = 1,padding = 1,kernel_size= (3,3)),                    # in 16, out 16, RF ? \n",
    "#             nn.ReLU(),\n",
    "#             nn.BatchNorm2d(64),\n",
    "#             nn.Conv2d(in_channels = 64,out_channels = 64, dilation  = 1,padding = 1, kernel_size= (3,3)),                     # in 16, out 16, RF 3\n",
    "#             nn.ReLU(),\n",
    "#             nn.BatchNorm2d(64),\n",
    "#             nn.Dropout(0.07),\n",
    "#             nn.MaxPool2d(2, 2),\n",
    "#             nn.Conv2d(in_channels = 64,out_channels = 128, dilation  = 1,padding = 1,kernel_size= (3,3)), \n",
    "#             nn.ReLU(),\n",
    "#             nn.BatchNorm2d(128),\n",
    "#             nn.Conv2d(in_channels = 128,out_channels = 128, dilation  = 2,padding = 2, kernel_size= (3,3)),                     # in 8, out 8, RF 3\n",
    "#             nn.ReLU(),\n",
    "#             nn.BatchNorm2d(128),\n",
    "#             nn.Dropout(0.07),\n",
    "#             nn.MaxPool2d(2, 2),\n",
    "#             nn.Conv2d(in_channels = 128,out_channels = 256, dilation  = 1,padding = 1,kernel_size= (3,3)), \n",
    "#             nn.ReLU(),\n",
    "#             nn.BatchNorm2d(256),\n",
    "#             nn.AvgPool2d(kernel_size=4),                                                                      #1x1/15\n",
    "#             nn.Flatten(),\n",
    "#             nn.Linear(256,10)\n",
    "#         )\n",
    "#         self.num_classes = num_classes\n",
    "#         super().__init__(module=module)"
   ]
  },
  {
   "cell_type": "code",
   "execution_count": null,
   "id": "73f556b3",
   "metadata": {
    "id": "73f556b3"
   },
   "outputs": [],
   "source": [
    "# summary(m,input_size = (1,3,32,32))"
   ]
  },
  {
   "cell_type": "code",
   "execution_count": null,
   "id": "3088c505",
   "metadata": {
    "id": "3088c505"
   },
   "outputs": [],
   "source": []
  }
 ],
 "metadata": {
  "colab": {
   "collapsed_sections": [
    "cK-Xuti_zd-0",
    "eE-3saaRzd-0"
   ],
   "name": "keras_implementation_600K_WO_DEPTHWISE.ipynb",
   "provenance": [
    {
     "file_id": "1WYWDELrzhXL2IohudKr9qhrrYX7v-sIN",
     "timestamp": 1644428971029
    }
   ]
  },
  "kernelspec": {
   "display_name": "Python 3",
   "language": "python",
   "name": "python3"
  },
  "language_info": {
   "codemirror_mode": {
    "name": "ipython",
    "version": 3
   },
   "file_extension": ".py",
   "mimetype": "text/x-python",
   "name": "python",
   "nbconvert_exporter": "python",
   "pygments_lexer": "ipython3",
   "version": "3.8.8"
  }
 },
 "nbformat": 4,
 "nbformat_minor": 5
}
