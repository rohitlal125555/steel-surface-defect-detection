{
 "cells": [
  {
   "cell_type": "code",
   "execution_count": null,
   "id": "66b65258",
   "metadata": {
    "executionInfo": {
     "elapsed": 450,
     "status": "ok",
     "timestamp": 1642884775896,
     "user": {
      "displayName": "Rishabh Segal",
      "photoUrl": "https://lh3.googleusercontent.com/a-/AOh14GjLCz_TOqipI-9JYJzb9yxYgZiCKzKmyWewsmrj=s64",
      "userId": "15966084391995980330"
     },
     "user_tz": -330
    },
    "id": "990fab5f"
   },
   "outputs": [],
   "source": [
    "# from numpy import loadtxt\n",
    "# from keras.models import Sequential\n",
    "# from keras.layers import Dense, Conv2D, BatchNormalization, Dropout, MaxPooling2D, ReLU, AveragePooling2D, Flatten\n",
    "from tensorflow.keras.models import Sequential\n",
    "from tensorflow.keras.layers import Rescaling, Dense, Conv2D, BatchNormalization, Dropout, MaxPooling2D, ReLU, AveragePooling2D, Flatten\n",
    "from tensorflow.keras import losses, optimizers\n",
    "from tensorflow.keras.preprocessing.image import ImageDataGenerator\n",
    "# from keras.preprocessing.image import ImageDataGenerator\n",
    "# from keras.optimizers import Adam\n",
    "\n",
    "from sklearn.metrics import classification_report,confusion_matrix\n",
    "import tensorflow as tf\n",
    "# from tensorflow import keras\n",
    "\n",
    "import matplotlib.pyplot as plt\n",
    "# import cv2\n",
    "import os\n",
    "import numpy as np\n",
    "\n",
    "# import splitfolders"
   ]
  },
  {
   "cell_type": "code",
   "execution_count": null,
   "id": "2582262d",
   "metadata": {
    "colab": {
     "base_uri": "https://localhost:8080/",
     "height": 35
    },
    "executionInfo": {
     "elapsed": 987,
     "status": "ok",
     "timestamp": 1642884777354,
     "user": {
      "displayName": "Rishabh Segal",
      "photoUrl": "https://lh3.googleusercontent.com/a-/AOh14GjLCz_TOqipI-9JYJzb9yxYgZiCKzKmyWewsmrj=s64",
      "userId": "15966084391995980330"
     },
     "user_tz": -330
    },
    "id": "73bdbb05",
    "outputId": "0e5c4fc4-6d9e-48db-d3a0-4238fef3c3b8"
   },
   "outputs": [],
   "source": [
    "tf.__version__"
   ]
  },
  {
   "cell_type": "code",
   "execution_count": null,
   "id": "b887d45a",
   "metadata": {
    "executionInfo": {
     "elapsed": 12,
     "status": "ok",
     "timestamp": 1642884777354,
     "user": {
      "displayName": "Rishabh Segal",
      "photoUrl": "https://lh3.googleusercontent.com/a-/AOh14GjLCz_TOqipI-9JYJzb9yxYgZiCKzKmyWewsmrj=s64",
      "userId": "15966084391995980330"
     },
     "user_tz": -330
    },
    "id": "f0f1b6ee"
   },
   "outputs": [],
   "source": [
    "image_size = (32, 32)\n",
    "batch_size = 50\n",
    "epochs = 100\n",
    "base_dir = '/content/drive/My Drive/Colab Notebooks/Masters'\n",
    "\n",
    "raw_dataset_directory = f\"{base_dir}/GC10-DET/images\"\n",
    "dataset_directory = f'{base_dir}/GC10-DET/dataset'\n",
    "train_set_directory = f'{dataset_directory}/train'\n",
    "test_set_directory = f'{dataset_directory}/test'"
   ]
  },
  {
   "cell_type": "code",
   "execution_count": null,
   "id": "c2624dbc",
   "metadata": {
    "colab": {
     "base_uri": "https://localhost:8080/"
    },
    "executionInfo": {
     "elapsed": 3060,
     "status": "ok",
     "timestamp": 1642884780403,
     "user": {
      "displayName": "Rishabh Segal",
      "photoUrl": "https://lh3.googleusercontent.com/a-/AOh14GjLCz_TOqipI-9JYJzb9yxYgZiCKzKmyWewsmrj=s64",
      "userId": "15966084391995980330"
     },
     "user_tz": -330
    },
    "id": "xme06Eb6p-lr",
    "outputId": "904cf1de-e929-4ccf-e000-873110276654"
   },
   "outputs": [],
   "source": [
    "from google.colab import drive \n",
    "drive.mount('/content/drive')"
   ]
  },
  {
   "cell_type": "markdown",
   "id": "6f7769a0",
   "metadata": {
    "id": "PeFt5enOErx_"
   },
   "source": [
    "**Preparing Dataset**"
   ]
  },
  {
   "cell_type": "code",
   "execution_count": null,
   "id": "e2b86f18",
   "metadata": {
    "executionInfo": {
     "elapsed": 5,
     "status": "ok",
     "timestamp": 1642884780403,
     "user": {
      "displayName": "Rishabh Segal",
      "photoUrl": "https://lh3.googleusercontent.com/a-/AOh14GjLCz_TOqipI-9JYJzb9yxYgZiCKzKmyWewsmrj=s64",
      "userId": "15966084391995980330"
     },
     "user_tz": -330
    },
    "id": "RWMOzOS-Em7Q"
   },
   "outputs": [],
   "source": [
    "# os.listdir('/content/drive')"
   ]
  },
  {
   "cell_type": "code",
   "execution_count": null,
   "id": "d464db21",
   "metadata": {
    "executionInfo": {
     "elapsed": 5,
     "status": "ok",
     "timestamp": 1642884780404,
     "user": {
      "displayName": "Rishabh Segal",
      "photoUrl": "https://lh3.googleusercontent.com/a-/AOh14GjLCz_TOqipI-9JYJzb9yxYgZiCKzKmyWewsmrj=s64",
      "userId": "15966084391995980330"
     },
     "user_tz": -330
    },
    "id": "4qnvUOQ5ozoA"
   },
   "outputs": [],
   "source": [
    "# !unzip \"/content/drive/My Drive/Colab Notebooks/Masters/GC10-DET.zip\" -d \"/content/drive/My Drive/Colab Notebooks/Masters/GC10-DET\"\n",
    "# !pip install split-folders "
   ]
  },
  {
   "cell_type": "code",
   "execution_count": null,
   "id": "e2c4f766",
   "metadata": {
    "executionInfo": {
     "elapsed": 5,
     "status": "ok",
     "timestamp": 1642884780404,
     "user": {
      "displayName": "Rishabh Segal",
      "photoUrl": "https://lh3.googleusercontent.com/a-/AOh14GjLCz_TOqipI-9JYJzb9yxYgZiCKzKmyWewsmrj=s64",
      "userId": "15966084391995980330"
     },
     "user_tz": -330
    },
    "id": "ggr9ogEYDgp-"
   },
   "outputs": [],
   "source": [
    "# splitfolders.ratio(raw_dataset_directory, output=dataset_directory, seed=555, ratio=(.9, .1), group_prefix=None)"
   ]
  },
  {
   "cell_type": "code",
   "execution_count": null,
   "id": "263a07e7",
   "metadata": {
    "executionInfo": {
     "elapsed": 5,
     "status": "ok",
     "timestamp": 1642884780404,
     "user": {
      "displayName": "Rishabh Segal",
      "photoUrl": "https://lh3.googleusercontent.com/a-/AOh14GjLCz_TOqipI-9JYJzb9yxYgZiCKzKmyWewsmrj=s64",
      "userId": "15966084391995980330"
     },
     "user_tz": -330
    },
    "id": "N31vNPn0EikI"
   },
   "outputs": [],
   "source": []
  },
  {
   "cell_type": "code",
   "execution_count": null,
   "id": "59f4e982",
   "metadata": {
    "colab": {
     "base_uri": "https://localhost:8080/"
    },
    "executionInfo": {
     "elapsed": 758,
     "status": "ok",
     "timestamp": 1642884781158,
     "user": {
      "displayName": "Rishabh Segal",
      "photoUrl": "https://lh3.googleusercontent.com/a-/AOh14GjLCz_TOqipI-9JYJzb9yxYgZiCKzKmyWewsmrj=s64",
      "userId": "15966084391995980330"
     },
     "user_tz": -330
    },
    "id": "3822bd83",
    "outputId": "5894fd7f-0c2e-488a-bec1-23dd7f104ef4"
   },
   "outputs": [],
   "source": [
    "train_ds_batch = tf.keras.preprocessing.image_dataset_from_directory(train_set_directory,\n",
    "    validation_split=0.1,\n",
    "    subset=\"training\",\n",
    "    seed=555,\n",
    "    image_size=image_size,\n",
    "    batch_size=batch_size,\n",
    ")\n",
    "train_ds = train_ds_batch.prefetch(buffer_size=32)"
   ]
  },
  {
   "cell_type": "code",
   "execution_count": null,
   "id": "f9d24e49",
   "metadata": {
    "colab": {
     "base_uri": "https://localhost:8080/"
    },
    "executionInfo": {
     "elapsed": 4,
     "status": "ok",
     "timestamp": 1642884781158,
     "user": {
      "displayName": "Rishabh Segal",
      "photoUrl": "https://lh3.googleusercontent.com/a-/AOh14GjLCz_TOqipI-9JYJzb9yxYgZiCKzKmyWewsmrj=s64",
      "userId": "15966084391995980330"
     },
     "user_tz": -330
    },
    "id": "9c964093",
    "outputId": "dbb553a0-8103-4576-b8af-ae7084f5f837"
   },
   "outputs": [],
   "source": [
    "val_ds_batch = tf.keras.preprocessing.image_dataset_from_directory(train_set_directory,\n",
    "    validation_split=0.1,\n",
    "    subset=\"validation\",\n",
    "    seed=555,\n",
    "    image_size=image_size,\n",
    "    batch_size=batch_size,\n",
    ")\n",
    "val_ds = val_ds_batch.prefetch(buffer_size=32)"
   ]
  },
  {
   "cell_type": "code",
   "execution_count": null,
   "id": "2ab27bf0",
   "metadata": {
    "colab": {
     "base_uri": "https://localhost:8080/"
    },
    "executionInfo": {
     "elapsed": 1090,
     "status": "ok",
     "timestamp": 1642884782245,
     "user": {
      "displayName": "Rishabh Segal",
      "photoUrl": "https://lh3.googleusercontent.com/a-/AOh14GjLCz_TOqipI-9JYJzb9yxYgZiCKzKmyWewsmrj=s64",
      "userId": "15966084391995980330"
     },
     "user_tz": -330
    },
    "id": "uWnbOldlFSDk",
    "outputId": "f087752e-5d98-471c-ce33-ee2f2ac37464"
   },
   "outputs": [],
   "source": [
    "test_ds_batch = tf.keras.preprocessing.image_dataset_from_directory(test_set_directory,\n",
    "    # validation_split=0.1,\n",
    "    # subset=\"validation\",\n",
    "    seed=555,\n",
    "    image_size=image_size,\n",
    "    batch_size=batch_size,\n",
    ")\n",
    "test_ds = test_ds_batch.prefetch(buffer_size=32)"
   ]
  },
  {
   "cell_type": "code",
   "execution_count": null,
   "id": "807df403",
   "metadata": {
    "colab": {
     "base_uri": "https://localhost:8080/"
    },
    "executionInfo": {
     "elapsed": 7,
     "status": "ok",
     "timestamp": 1642884782246,
     "user": {
      "displayName": "Rishabh Segal",
      "photoUrl": "https://lh3.googleusercontent.com/a-/AOh14GjLCz_TOqipI-9JYJzb9yxYgZiCKzKmyWewsmrj=s64",
      "userId": "15966084391995980330"
     },
     "user_tz": -330
    },
    "id": "21oMIrBSAJfV",
    "outputId": "7fdd485a-8b9d-4fbe-e43d-40b40a8cc986"
   },
   "outputs": [],
   "source": [
    "class_names = train_ds_batch.class_names\n",
    "class_names"
   ]
  },
  {
   "cell_type": "code",
   "execution_count": null,
   "id": "d56fc519",
   "metadata": {
    "colab": {
     "base_uri": "https://localhost:8080/",
     "height": 591
    },
    "executionInfo": {
     "elapsed": 97174,
     "status": "ok",
     "timestamp": 1642884879417,
     "user": {
      "displayName": "Rishabh Segal",
      "photoUrl": "https://lh3.googleusercontent.com/a-/AOh14GjLCz_TOqipI-9JYJzb9yxYgZiCKzKmyWewsmrj=s64",
      "userId": "15966084391995980330"
     },
     "user_tz": -330
    },
    "id": "3c3a48ff",
    "outputId": "4b6f151f-2fd2-4785-b3b7-109a9ee154e3"
   },
   "outputs": [],
   "source": [
    "plt.figure(figsize=(10, 10))\n",
    "for images, labels in train_ds.take(1):\n",
    "    for i in range(9):\n",
    "        ax = plt.subplot(3, 3, i + 1)\n",
    "        plt.imshow(images[i].numpy().astype(\"uint8\"))\n",
    "        plt.title(int(labels[i]))\n",
    "        plt.axis(\"off\")"
   ]
  },
  {
   "cell_type": "code",
   "execution_count": null,
   "id": "9ee585eb",
   "metadata": {
    "executionInfo": {
     "elapsed": 9,
     "status": "ok",
     "timestamp": 1642884879417,
     "user": {
      "displayName": "Rishabh Segal",
      "photoUrl": "https://lh3.googleusercontent.com/a-/AOh14GjLCz_TOqipI-9JYJzb9yxYgZiCKzKmyWewsmrj=s64",
      "userId": "15966084391995980330"
     },
     "user_tz": -330
    },
    "id": "5477ad8f"
   },
   "outputs": [],
   "source": []
  },
  {
   "cell_type": "code",
   "execution_count": null,
   "id": "8864d81d",
   "metadata": {
    "executionInfo": {
     "elapsed": 9,
     "status": "ok",
     "timestamp": 1642884879418,
     "user": {
      "displayName": "Rishabh Segal",
      "photoUrl": "https://lh3.googleusercontent.com/a-/AOh14GjLCz_TOqipI-9JYJzb9yxYgZiCKzKmyWewsmrj=s64",
      "userId": "15966084391995980330"
     },
     "user_tz": -330
    },
    "id": "95ba2620"
   },
   "outputs": [],
   "source": [
    "model = Sequential()\n",
    "model.add(Rescaling(1./255, input_shape=(32, 32, 3)))\n",
    "model.add(Conv2D(16, (3,3), dilation_rate=1, padding='same', strides=1, input_shape=(32, 32, 3))) # activation='relu'\n",
    "model.add(ReLU())\n",
    "model.add(BatchNormalization())\n",
    "\n",
    "model.add(Conv2D(16, (3,3), dilation_rate=1, padding='same', strides=1, input_shape=(32, 32, 16)))\n",
    "model.add(ReLU())\n",
    "model.add(BatchNormalization())\n",
    "\n",
    "model.add(Dropout(0.06))\n",
    "model.add(MaxPooling2D(pool_size=(2,2)))\n",
    "\n",
    "model.add(Conv2D(32, (3,3), dilation_rate=1, padding='same', strides=1, input_shape=(32, 32, 16)))\n",
    "model.add(ReLU())\n",
    "model.add(BatchNormalization())\n",
    "\n",
    "model.add(Conv2D(32, (3,3), dilation_rate=1, padding='same', strides=1, input_shape=(32, 32, 32)))\n",
    "model.add(ReLU())\n",
    "model.add(BatchNormalization())\n",
    "model.add(Dropout(0.07))\n",
    "model.add(MaxPooling2D(pool_size=(2,2)))\n",
    "\n",
    "model.add(Conv2D(64, (3,3), dilation_rate=1, padding='same', strides=1, input_shape=(32, 32, 32)))\n",
    "model.add(ReLU())\n",
    "model.add(BatchNormalization())\n",
    "\n",
    "model.add(Conv2D(64, (3,3), dilation_rate=1, padding='same', strides=(2, 2), input_shape=(32, 32, 64))) # dilation_rate=2\n",
    "model.add(ReLU())\n",
    "model.add(BatchNormalization())\n",
    "model.add(Dropout(0.07))\n",
    "model.add(MaxPooling2D(pool_size=(2,2)))\n",
    "\n",
    "model.add(Conv2D(120, (3,3), dilation_rate=1, padding='same', strides=1, input_shape=(32, 32, 64)))\n",
    "model.add(ReLU())\n",
    "model.add(BatchNormalization())\n",
    "\n",
    "model.add(AveragePooling2D())# pool_size=4\n",
    "model.add(Flatten())\n",
    "\n",
    "model.add(Dense(10))"
   ]
  },
  {
   "cell_type": "code",
   "execution_count": null,
   "id": "6fe8cf76",
   "metadata": {
    "executionInfo": {
     "elapsed": 9,
     "status": "ok",
     "timestamp": 1642884879418,
     "user": {
      "displayName": "Rishabh Segal",
      "photoUrl": "https://lh3.googleusercontent.com/a-/AOh14GjLCz_TOqipI-9JYJzb9yxYgZiCKzKmyWewsmrj=s64",
      "userId": "15966084391995980330"
     },
     "user_tz": -330
    },
    "id": "5d379697"
   },
   "outputs": [],
   "source": [
    "# model.build(input_shape=(32,32,3))\n",
    "# model.summary()"
   ]
  },
  {
   "cell_type": "code",
   "execution_count": null,
   "id": "101152fe",
   "metadata": {
    "executionInfo": {
     "elapsed": 8,
     "status": "ok",
     "timestamp": 1642884879418,
     "user": {
      "displayName": "Rishabh Segal",
      "photoUrl": "https://lh3.googleusercontent.com/a-/AOh14GjLCz_TOqipI-9JYJzb9yxYgZiCKzKmyWewsmrj=s64",
      "userId": "15966084391995980330"
     },
     "user_tz": -330
    },
    "id": "d11c16dc"
   },
   "outputs": [],
   "source": [
    "model.compile(\n",
    "    # loss=losses.SparseCategoricalCrossentropy(),\n",
    "    # optimizer=optimizers.Adam(learning_rate=0.001),\n",
    "    loss=losses.SparseCategoricalCrossentropy(from_logits=True),\n",
    "    optimizer='adam',\n",
    "    metrics=['accuracy']\n",
    ")"
   ]
  },
  {
   "cell_type": "code",
   "execution_count": null,
   "id": "fb2f2d47",
   "metadata": {
    "executionInfo": {
     "elapsed": 8,
     "status": "ok",
     "timestamp": 1642884879418,
     "user": {
      "displayName": "Rishabh Segal",
      "photoUrl": "https://lh3.googleusercontent.com/a-/AOh14GjLCz_TOqipI-9JYJzb9yxYgZiCKzKmyWewsmrj=s64",
      "userId": "15966084391995980330"
     },
     "user_tz": -330
    },
    "id": "_NudnTLH6eta"
   },
   "outputs": [],
   "source": []
  },
  {
   "cell_type": "code",
   "execution_count": null,
   "id": "976c9a34",
   "metadata": {
    "colab": {
     "background_save": true,
     "base_uri": "https://localhost:8080/"
    },
    "id": "d7f79ebd"
   },
   "outputs": [],
   "source": [
    "history = model.fit(train_ds, epochs=epochs, validation_data=val_ds)"
   ]
  },
  {
   "cell_type": "code",
   "execution_count": null,
   "id": "a6ba1356",
   "metadata": {
    "colab": {
     "background_save": true
    },
    "id": "UwwU3z08zbqU"
   },
   "outputs": [],
   "source": []
  },
  {
   "cell_type": "code",
   "execution_count": null,
   "id": "74e037d0",
   "metadata": {
    "colab": {
     "background_save": true
    },
    "id": "kUWyyFWDzc4t"
   },
   "outputs": [],
   "source": [
    "# test_image = f'{dataset_directory}/crease/img_01_425382900_00002.jpg'\n",
    "test_image = f'{test_set_directory}/silk_spot/img_01_425005700_00191.jpg'"
   ]
  },
  {
   "cell_type": "code",
   "execution_count": null,
   "id": "00fa5cdb",
   "metadata": {
    "colab": {
     "background_save": true
    },
    "id": "yJRObP4tzpcK"
   },
   "outputs": [],
   "source": [
    "# sunflower_url = \"https://storage.googleapis.com/download.tensorflow.org/example_images/592px-Red_sunflower.jpg\"\n",
    "# sunflower_path = tf.keras.utils.get_file('Red_sunflower', origin=sunflower_url)\n",
    "\n",
    "img = tf.keras.utils.load_img(test_image, target_size=image_size)\n",
    "img_array = tf.keras.utils.img_to_array(img)\n",
    "img_array = tf.expand_dims(img_array, 0) # Create a batch\n",
    "predictions = model.predict(img_array)\n",
    "score = tf.nn.softmax(predictions[0])\n",
    "print(\"{} : {:.2f} %\".format(class_names[np.argmax(score)], 100 * np.max(score)))"
   ]
  },
  {
   "cell_type": "code",
   "execution_count": null,
   "id": "3cb068c1",
   "metadata": {
    "colab": {
     "background_save": true
    },
    "id": "-SL1m-N9zrEN"
   },
   "outputs": [],
   "source": [
    "model.evaluate(test_ds)"
   ]
  },
  {
   "cell_type": "code",
   "execution_count": null,
   "id": "e071923e",
   "metadata": {
    "colab": {
     "background_save": true
    },
    "id": "e3d77cfa"
   },
   "outputs": [],
   "source": []
  },
  {
   "cell_type": "code",
   "execution_count": null,
   "id": "eadef3ec",
   "metadata": {
    "colab": {
     "background_save": true
    },
    "id": "99ee4869"
   },
   "outputs": [],
   "source": []
  },
  {
   "cell_type": "code",
   "execution_count": null,
   "id": "00a03980",
   "metadata": {
    "colab": {
     "background_save": true
    },
    "id": "1f314280"
   },
   "outputs": [],
   "source": []
  },
  {
   "cell_type": "code",
   "execution_count": null,
   "id": "eb810eab",
   "metadata": {
    "colab": {
     "background_save": true
    },
    "id": "a2e4a75e"
   },
   "outputs": [],
   "source": [
    "# from torchinfo import summary\n",
    "# import torchvision\n",
    "# import torch.nn as nn"
   ]
  },
  {
   "cell_type": "code",
   "execution_count": null,
   "id": "95789b08",
   "metadata": {
    "colab": {
     "background_save": true
    },
    "id": "d79c04a6"
   },
   "outputs": [],
   "source": [
    "# summary(model, (1, 3, 224, 224), depth=3)\n",
    "# summary(model, input_size=(50, 1, 28, 28))"
   ]
  },
  {
   "cell_type": "code",
   "execution_count": null,
   "id": "0ff434df",
   "metadata": {
    "colab": {
     "background_save": true
    },
    "id": "0482c4d8"
   },
   "outputs": [],
   "source": [
    "# module = nn.Sequential(\n",
    "#     ################################## 1 ST CONVOLUTIONAL BLOCK #####################################\n",
    "#     nn.Conv2d(in_channels=3, out_channels=16, dilation=1, padding=1, kernel_size=(3, 3)),  # in 32, out 32, RF 3\n",
    "#     nn.ReLU(),\n",
    "#     nn.BatchNorm2d(16),\n",
    "#     nn.Conv2d(in_channels=16, out_channels=16, dilation=1, padding=1, kernel_size=(3, 3)),\n",
    "#     # in 32, out 32, RF 3\n",
    "#     nn.ReLU(),\n",
    "#     nn.BatchNorm2d(16),\n",
    "#     nn.Dropout(0.06),\n",
    "#     nn.MaxPool2d(2, 2),\n",
    "#     nn.Conv2d(in_channels=16, out_channels=32, dilation=1, padding=1, kernel_size=(3, 3)),\n",
    "#     # in 16, out 16, RF ?\n",
    "#     nn.ReLU(),\n",
    "#     nn.BatchNorm2d(32),\n",
    "#     nn.Conv2d(in_channels=32, out_channels=32, dilation=1, padding=1, kernel_size=(3, 3)),\n",
    "#     # in 16, out 16, RF 3\n",
    "#     nn.ReLU(),\n",
    "#     nn.BatchNorm2d(32),\n",
    "#     nn.Dropout(0.07),\n",
    "#     nn.MaxPool2d(2, 2),\n",
    "#     nn.Conv2d(in_channels=32, out_channels=64, dilation=1, padding=1, kernel_size=(3, 3)),\n",
    "#     nn.ReLU(),\n",
    "#     nn.BatchNorm2d(64),\n",
    "#     nn.Conv2d(in_channels=64, out_channels=64, dilation=2, padding=2, kernel_size=(3, 3)),  # in 8, out 8, RF 3\n",
    "#     nn.ReLU(),\n",
    "#     nn.BatchNorm2d(64),\n",
    "#     nn.Dropout(0.07),\n",
    "#     nn.MaxPool2d(2, 2),\n",
    "#     nn.Conv2d(in_channels=64, out_channels=120, dilation=1, padding=1, kernel_size=(3, 3)),\n",
    "#     nn.ReLU(),\n",
    "#     nn.BatchNorm2d(120),\n",
    "#     nn.AvgPool2d(kernel_size=4),  # 1x1/15\n",
    "#     nn.Flatten(),\n",
    "#     nn.Linear(120, 10)\n",
    "# )"
   ]
  },
  {
   "cell_type": "code",
   "execution_count": null,
   "id": "ef3be85b",
   "metadata": {
    "colab": {
     "background_save": true
    },
    "id": "73f556b3"
   },
   "outputs": [],
   "source": [
    "# summary(module)\n",
    "# summary(module, (1, 3, 32, 32), depth=3)"
   ]
  },
  {
   "cell_type": "code",
   "execution_count": null,
   "id": "2dd18dd8",
   "metadata": {
    "colab": {
     "background_save": true
    },
    "id": "3088c505"
   },
   "outputs": [],
   "source": []
  }
 ],
 "metadata": {
  "colab": {
   "name": "keras_implementation_v1.ipynb",
   "version": ""
  },
  "kernelspec": {
   "display_name": "Python 3",
   "language": "python",
   "name": "python3"
  },
  "language_info": {
   "codemirror_mode": {
    "name": "ipython",
    "version": 3
   },
   "file_extension": ".py",
   "mimetype": "text/x-python",
   "name": "python",
   "nbconvert_exporter": "python",
   "pygments_lexer": "ipython3",
   "version": "3.8.8"
  }
 },
 "nbformat": 4,
 "nbformat_minor": 5
}
